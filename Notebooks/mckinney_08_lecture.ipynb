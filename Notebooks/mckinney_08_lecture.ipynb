{
 "cells": [
  {
   "cell_type": "markdown",
   "id": "284e1487-f9e7-4e07-b6d7-17a5a7aa202e",
   "metadata": {
    "tags": []
   },
   "source": [
    "# McKinney Chapter 8 - Data Wrangling: Join, Combine, and Reshape"
   ]
  },
  {
   "cell_type": "markdown",
   "id": "1820c79d-d308-480d-ba62-831d05b6dfba",
   "metadata": {
    "tags": []
   },
   "source": [
    "## Introduction"
   ]
  },
  {
   "cell_type": "markdown",
   "id": "0c1b20fa-f054-48b2-896b-34a996507ec4",
   "metadata": {},
   "source": [
    "Chapter 8 of Wes McKinney's [*Python for Data Analysis*](https://wesmckinney.com/book/) introduces a few important pandas concepts:\n",
    "\n",
    "1. Joining or merging is combining 2+ data frames on 1+ indexes or columns into 1 data frame\n",
    "1. Reshaping is rearranging data frames so it has fewer columns and more rows (wide to long) or more columns and fewer rows (long to wide); we can also reshape a series to a data frame and vice versa\n",
    "\n",
    "***Note:*** \n",
    "Indented block quotes are from McKinney unless otherwise indicated. \n",
    "The section numbers here differ from McKinney because we will only discuss some topics."
   ]
  },
  {
   "cell_type": "code",
   "execution_count": null,
   "id": "d6a51d4b-bb50-4e49-a4cc-65e5ac5459ae",
   "metadata": {
    "editable": true
   },
   "outputs": [],
   "source": [
    "import matplotlib.pyplot as plt\n",
    "import numpy as np\n",
    "import pandas as pd"
   ]
  },
  {
   "cell_type": "code",
   "execution_count": null,
   "id": "43b384d1-f9a6-4777-9271-7abe46e3c2d4",
   "metadata": {},
   "outputs": [],
   "source": [
    "%config InlineBackend.figure_format = 'retina'\n",
    "%precision 4\n",
    "pd.options.display.float_format = '{:.4f}'.format"
   ]
  },
  {
   "cell_type": "code",
   "execution_count": null,
   "id": "6b59807f-048a-44c3-b4c9-e9dcd6b40341",
   "metadata": {},
   "outputs": [],
   "source": [
    "import yfinance as yf\n",
    "import pandas_datareader as pdr\n",
    "import requests_cache\n",
    "session = requests_cache.CachedSession()"
   ]
  },
  {
   "cell_type": "markdown",
   "id": "7d0bd375-b20f-433e-9bab-95a1a78965e5",
   "metadata": {
    "tags": []
   },
   "source": [
    "## Hierarchical Indexing"
   ]
  },
  {
   "cell_type": "markdown",
   "id": "23351c49-d8c3-4fc7-a2ce-a75ce20bc753",
   "metadata": {},
   "source": [
    "We need to learn about hierarchical indexing before we learn about combining and reshaping data.\n",
    "A hierarchical index gives two or more index levels to an axis.\n",
    "For example, we could index rows by ticker and date.\n",
    "Or we could index columns by variable and ticker.\n",
    "Hierarchical indexing helps us work with high-dimensional data in a low-dimensional form."
   ]
  },
  {
   "cell_type": "code",
   "execution_count": null,
   "id": "89ccf83c-d522-496d-8c8b-697991eb5ead",
   "metadata": {},
   "outputs": [],
   "source": [
    "np.random.seed(42)\n",
    "data = pd.Series(\n",
    "    data=np.random.randn(9),\n",
    "    index=[\n",
    "        ['a', 'a', 'a', 'b', 'b', 'c', 'c', 'd', 'd'],\n",
    "        [1, 2, 3, 1, 3, 1, 2, 2, 3]\n",
    "    ]\n",
    ")\n",
    "\n",
    "data"
   ]
  },
  {
   "cell_type": "markdown",
   "id": "0257eee5-c28e-4465-be31-ae7e706bd0c3",
   "metadata": {},
   "source": [
    "We can partially index this series to concisely subset data."
   ]
  },
  {
   "cell_type": "code",
   "execution_count": null,
   "id": "1898f442-9fc2-43c0-b0d0-03e779c06e77",
   "metadata": {
    "collapsed": false,
    "deletable": true,
    "editable": true,
    "jupyter": {
     "outputs_hidden": false
    }
   },
   "outputs": [],
   "source": [
    "data['b']"
   ]
  },
  {
   "cell_type": "code",
   "execution_count": null,
   "id": "cdba8106-d637-48ca-be6e-a53ae20b80bb",
   "metadata": {},
   "outputs": [],
   "source": [
    "data['b':'c']"
   ]
  },
  {
   "cell_type": "code",
   "execution_count": null,
   "id": "38bccf35-0a9f-4e60-a816-122fa5729ea7",
   "metadata": {},
   "outputs": [],
   "source": [
    "data.loc[['b', 'd']]"
   ]
  },
  {
   "cell_type": "markdown",
   "id": "e977c1ac-9d98-4fd5-98c1-9c38eb63f9c8",
   "metadata": {},
   "source": [
    "We can subset on the index inner level, too.\n",
    "Here the first `:` slices all values in the outer index."
   ]
  },
  {
   "cell_type": "code",
   "execution_count": null,
   "id": "94d58c5f-236f-4932-b905-782f0c992178",
   "metadata": {
    "collapsed": false,
    "deletable": true,
    "editable": true,
    "jupyter": {
     "outputs_hidden": false
    }
   },
   "outputs": [],
   "source": [
    "data.loc[:, 2]"
   ]
  },
  {
   "cell_type": "markdown",
   "id": "d271a3d4-11ee-4c48-b972-8a70eca2e570",
   "metadata": {},
   "source": [
    "Here `data` has a stacked format.\n",
    "For each outer index level (the letters), we have multiple observations based on the inner index level (the numbers).\n",
    "We can un-stack `data` to convert the inner index level to columns."
   ]
  },
  {
   "cell_type": "code",
   "execution_count": null,
   "id": "788e147c-37bc-4b4b-9921-62271fad96cd",
   "metadata": {
    "deletable": true,
    "editable": true,
    "tags": []
   },
   "outputs": [],
   "source": [
    "data.unstack()"
   ]
  },
  {
   "cell_type": "code",
   "execution_count": null,
   "id": "1b2d11f9-145f-4714-9d74-c5099c0be984",
   "metadata": {
    "editable": true,
    "tags": []
   },
   "outputs": [],
   "source": [
    "data.unstack().stack()"
   ]
  },
  {
   "cell_type": "markdown",
   "id": "7e4be3f7-a1f0-437b-b4af-66bb307b7e91",
   "metadata": {},
   "source": [
    "We can create a data frame with hieracrhical indexes or multi-indexes on rows *and* columns."
   ]
  },
  {
   "cell_type": "code",
   "execution_count": null,
   "id": "7d80413c-edd3-4542-9d6b-a3cecabe58af",
   "metadata": {
    "collapsed": false,
    "deletable": true,
    "editable": true,
    "jupyter": {
     "outputs_hidden": false
    }
   },
   "outputs": [],
   "source": [
    "frame = pd.DataFrame(\n",
    "    data=np.arange(12).reshape((4, 3)),\n",
    "    index=[['a', 'a', 'b', 'b'], [1, 2, 1, 2]],\n",
    "    columns=[['Ohio', 'Ohio', 'Colorado'], ['Green', 'Red', 'Green']]\n",
    ")\n",
    "frame"
   ]
  },
  {
   "cell_type": "markdown",
   "id": "35ee14ec-917a-420c-9af2-60e213bb4f24",
   "metadata": {},
   "source": [
    "We can name these multi-indexes but names are not required."
   ]
  },
  {
   "cell_type": "code",
   "execution_count": null,
   "id": "f3f2f604-6ac1-4b8f-a34a-d5da1e72d14d",
   "metadata": {},
   "outputs": [],
   "source": [
    "frame.index.names = ['key1', 'key2']\n",
    "frame.columns.names = ['state', 'color']\n",
    "frame"
   ]
  },
  {
   "cell_type": "markdown",
   "id": "24d1e245-3e59-4558-ad48-95bca400f850",
   "metadata": {},
   "source": [
    "Recall that `df[val]` selects the `val` column.\n",
    "Here `frame` has a multi-index for the columns, so `frame['Ohio']` selects all columns with Ohio as the outer index level."
   ]
  },
  {
   "cell_type": "code",
   "execution_count": null,
   "id": "2d30acf8-8f58-4f22-bb4c-c315cc05838f",
   "metadata": {
    "collapsed": false,
    "deletable": true,
    "editable": true,
    "jupyter": {
     "outputs_hidden": false
    }
   },
   "outputs": [],
   "source": [
    "frame['Ohio']"
   ]
  },
  {
   "cell_type": "markdown",
   "id": "f4a4bdf5-37e6-4314-bf2a-8f2d961bfd52",
   "metadata": {},
   "source": [
    "We can pass a tuple if we only want one column. "
   ]
  },
  {
   "cell_type": "code",
   "execution_count": null,
   "id": "221ab78e-8b5d-4d18-964f-5ce0fbe69faf",
   "metadata": {},
   "outputs": [],
   "source": [
    "frame[[('Ohio', 'Green')]]"
   ]
  },
  {
   "cell_type": "markdown",
   "id": "2a8b71f9-6f84-4ac2-aaa3-ebb98185658d",
   "metadata": {},
   "source": [
    "We have to do a more work to slice the inner level of the column index."
   ]
  },
  {
   "cell_type": "code",
   "execution_count": null,
   "id": "09f7a611-24ad-4d02-a649-66784293f540",
   "metadata": {},
   "outputs": [],
   "source": [
    "frame.loc[:, (slice(None), 'Green')]"
   ]
  },
  {
   "cell_type": "markdown",
   "id": "fb990c39-b019-4c7d-a073-9d305132ac64",
   "metadata": {},
   "source": [
    "We can use `pd.IndexSlice[:, 'Green']` an alternative to `(slice(None), 'Green')`."
   ]
  },
  {
   "cell_type": "code",
   "execution_count": null,
   "id": "16a466f2-78c3-410c-8222-cf7b7d9e1ad8",
   "metadata": {},
   "outputs": [],
   "source": [
    "frame.loc[:, pd.IndexSlice[:, 'Green']]"
   ]
  },
  {
   "cell_type": "markdown",
   "id": "e5aa1243-282c-48c4-a8b9-9b46b27058e4",
   "metadata": {},
   "source": [
    "### Reordering and Sorting Levels"
   ]
  },
  {
   "cell_type": "markdown",
   "id": "faa5e257-59af-428a-89a7-79c2adbd65c9",
   "metadata": {},
   "source": [
    "We can swap index levels with the `.swaplevel()` method.\n",
    "The default arguments are `i=-2` and `j=-1`, which swap the two innermost index levels."
   ]
  },
  {
   "cell_type": "code",
   "execution_count": null,
   "id": "bfe6cf84-8761-4660-bfa8-fc7fdaf49580",
   "metadata": {},
   "outputs": [],
   "source": [
    "frame.swaplevel()"
   ]
  },
  {
   "cell_type": "markdown",
   "id": "5906a079-6652-4f4b-867e-beafa6389081",
   "metadata": {},
   "source": [
    "We can use index *names*, too."
   ]
  },
  {
   "cell_type": "code",
   "execution_count": null,
   "id": "ae56e1be-6d8b-46cc-a833-95175d53bf6a",
   "metadata": {
    "collapsed": false,
    "deletable": true,
    "editable": true,
    "jupyter": {
     "outputs_hidden": false
    }
   },
   "outputs": [],
   "source": [
    "frame.swaplevel('key1', 'key2')"
   ]
  },
  {
   "cell_type": "markdown",
   "id": "099b5bec-9dcd-400b-9736-a0ce369342ca",
   "metadata": {},
   "source": [
    "We can also sort on an index (or list of indexes).\n",
    "After we swap levels, we may want to sort our data."
   ]
  },
  {
   "cell_type": "code",
   "execution_count": null,
   "id": "89a168ff-8b63-4664-aa02-96ffb65d039f",
   "metadata": {},
   "outputs": [],
   "source": [
    "frame"
   ]
  },
  {
   "cell_type": "code",
   "execution_count": null,
   "id": "85edeabd-7022-4fcc-9b9b-75b077fe8366",
   "metadata": {
    "collapsed": false,
    "deletable": true,
    "editable": true,
    "jupyter": {
     "outputs_hidden": false
    }
   },
   "outputs": [],
   "source": [
    "frame.sort_index(level=1)"
   ]
  },
  {
   "cell_type": "markdown",
   "id": "86296d54-4d9d-4168-a709-65840445912e",
   "metadata": {},
   "source": [
    "Again, we can give index *names*, too."
   ]
  },
  {
   "cell_type": "code",
   "execution_count": null,
   "id": "1339f452-82a3-4e53-9eaf-86544a17a367",
   "metadata": {
    "collapsed": false,
    "editable": true,
    "jupyter": {
     "outputs_hidden": false
    }
   },
   "outputs": [],
   "source": [
    "frame.sort_index(level='key2')"
   ]
  },
  {
   "cell_type": "markdown",
   "id": "471ccec6-f4af-49fc-b436-161b785ee890",
   "metadata": {},
   "source": [
    "We can sort by two or more index levels by passing a list of index levels or names."
   ]
  },
  {
   "cell_type": "code",
   "execution_count": null,
   "id": "e5907e8a-38b0-40b2-a8ae-71e1376ba5db",
   "metadata": {},
   "outputs": [],
   "source": [
    "frame.sort_index(level=[0, 1])"
   ]
  },
  {
   "cell_type": "markdown",
   "id": "b2228f9e-133e-4ebf-9e60-4a65ea63fe56",
   "metadata": {},
   "source": [
    "We can chain these methods, too."
   ]
  },
  {
   "cell_type": "code",
   "execution_count": null,
   "id": "a33c2a9a-4264-4928-adae-4f8fd682c807",
   "metadata": {},
   "outputs": [],
   "source": [
    "frame.swaplevel(0, 1).sort_index(level=0)"
   ]
  },
  {
   "cell_type": "markdown",
   "id": "1653a826-506f-4bd8-97f8-84bf8a0c4616",
   "metadata": {
    "deletable": true,
    "editable": true
   },
   "source": [
    "### Indexing with a DataFrame's columns"
   ]
  },
  {
   "cell_type": "markdown",
   "id": "d23eed95-9feb-4ec8-b81b-fa717f968469",
   "metadata": {},
   "source": [
    "We can convert a column into an index and an index into a column with the `.set_index()` and `.reset_index()` methods."
   ]
  },
  {
   "cell_type": "code",
   "execution_count": null,
   "id": "74f19f52-c6df-47e4-9550-3f58ce71e510",
   "metadata": {
    "collapsed": false,
    "deletable": true,
    "editable": true,
    "jupyter": {
     "outputs_hidden": false
    }
   },
   "outputs": [],
   "source": [
    "frame = pd.DataFrame({\n",
    "    'a': range(7), \n",
    "    'b': range(7, 0, -1),\n",
    "    'c': ['one', 'one', 'one', 'two', 'two','two', 'two'],\n",
    "    'd': [0, 1, 2, 0, 1, 2, 3]\n",
    "})\n",
    "frame"
   ]
  },
  {
   "cell_type": "markdown",
   "id": "2f827414-7ea2-49f6-9921-5770917ed7b8",
   "metadata": {},
   "source": [
    "The `.set_index()` method converts columns to indexes, and removes the columns from the data frame by default."
   ]
  },
  {
   "cell_type": "code",
   "execution_count": null,
   "id": "33c0891f-c5d0-4c44-8d9c-83b60ea6ba42",
   "metadata": {
    "collapsed": false,
    "deletable": true,
    "editable": true,
    "jupyter": {
     "outputs_hidden": false
    }
   },
   "outputs": [],
   "source": [
    "frame2 = frame.set_index(['c', 'd'])\n",
    "frame2"
   ]
  },
  {
   "cell_type": "markdown",
   "id": "944a39f0-9c90-4794-8cc3-3d0ee09af1d8",
   "metadata": {},
   "source": [
    "The `.reset_index()` method removes the indexes, adds them as columns, and sets in integer index."
   ]
  },
  {
   "cell_type": "code",
   "execution_count": null,
   "id": "033bc433-5ac2-4d24-b0d0-8c7051c5d2d5",
   "metadata": {
    "collapsed": false,
    "deletable": true,
    "editable": true,
    "jupyter": {
     "outputs_hidden": false
    }
   },
   "outputs": [],
   "source": [
    "frame2.reset_index()"
   ]
  },
  {
   "cell_type": "markdown",
   "id": "a36fe3dd-ee93-40b7-93e3-0e794c184cd3",
   "metadata": {
    "tags": []
   },
   "source": [
    "## Combining and Merging Datasets"
   ]
  },
  {
   "cell_type": "markdown",
   "id": "7cfe15fc-ab18-4edf-9056-90da8c1fe90e",
   "metadata": {
    "tags": []
   },
   "source": [
    "pandas provides several methods and functions to combine and merge data.\n",
    "We can typically create the same output with any of these methods or functions, but one may be more efficient than the others.\n",
    "If I want to combine data frames with similar indexes, I try the `.join()` method first.\n",
    "The `.join()` also lets use can combine more than two data frames at once.\n",
    "Otherwise, I try the `.merge()` method, which has a function `pd.merge()`, too.\n",
    "The `pd.merge()` function is more general than the `.join()` method, so we will start with `pd.merge()`.\n",
    "\n",
    "The [pandas website](https://pandas.pydata.org/pandas-docs/stable/user_guide/merging.html#) provides helpful visualizations."
   ]
  },
  {
   "cell_type": "markdown",
   "id": "110fbea2-4dfc-4cbe-b2a9-09e989e826a2",
   "metadata": {},
   "source": [
    "### Database-Style DataFrame Joins"
   ]
  },
  {
   "cell_type": "markdown",
   "id": "c16250f5-a267-4bcf-b61a-3205616a0abc",
   "metadata": {},
   "source": [
    "> Merge or join operations combine datasets by linking rows using one or more keys. These operations are central to relational databases (e.g., SQL-based). The merge function in pandas is the main entry point for using these algorithms on your data.\n",
    "\n",
    "We will start with the `pd.merge()` syntax, but pandas also has `.merge()` and `.join()` methods.\n",
    "Learning these other syntaxes is easy once we understand the `pd.merge()` syntax."
   ]
  },
  {
   "cell_type": "code",
   "execution_count": null,
   "id": "6b18dae8-dcf8-4c46-a4ab-a45cc81d17ff",
   "metadata": {
    "collapsed": false,
    "deletable": true,
    "editable": true,
    "jupyter": {
     "outputs_hidden": false
    }
   },
   "outputs": [],
   "source": [
    "df1 = pd.DataFrame({'key': ['b', 'b', 'a', 'c', 'a', 'a', 'b'], 'data1': range(7)})\n",
    "df2 = pd.DataFrame({'key': ['a', 'b', 'd'], 'data2': range(3)})"
   ]
  },
  {
   "cell_type": "code",
   "execution_count": null,
   "id": "17ce62fb-e421-4317-ae6e-e4b8f8a2bd91",
   "metadata": {},
   "outputs": [],
   "source": [
    "df1"
   ]
  },
  {
   "cell_type": "code",
   "execution_count": null,
   "id": "e0ad0f5a-230f-4a03-83f1-ce9c94f725ff",
   "metadata": {},
   "outputs": [],
   "source": [
    "df2"
   ]
  },
  {
   "cell_type": "code",
   "execution_count": null,
   "id": "d123ce67-535e-4e36-a2de-1c82d7b1b156",
   "metadata": {
    "collapsed": false,
    "deletable": true,
    "editable": true,
    "jupyter": {
     "outputs_hidden": false
    }
   },
   "outputs": [],
   "source": [
    "pd.merge(df1, df2)"
   ]
  },
  {
   "cell_type": "markdown",
   "id": "fe6a070f-3656-4f0b-acab-63ba7e35c4b1",
   "metadata": {},
   "source": [
    "The default `how` is `how='inner'`, so `pd.merge()` inner joins left and right data frames by default, keeping only rows that appear in both.\n",
    "We can specify `how='outer'`, so `pd.merge()` outer joins left and right data frames, keeping all rows that appear in either."
   ]
  },
  {
   "cell_type": "code",
   "execution_count": null,
   "id": "c5de9ea5-b70d-4c34-9ba5-242d6a4541fd",
   "metadata": {
    "collapsed": false,
    "editable": true,
    "jupyter": {
     "outputs_hidden": false
    }
   },
   "outputs": [],
   "source": [
    "pd.merge(df1, df2, how='outer')"
   ]
  },
  {
   "cell_type": "markdown",
   "id": "8ef8a111-ef4d-43fc-9c4b-b413d5229f10",
   "metadata": {},
   "source": [
    "A left merge keeps only rows that appear in the left data frame."
   ]
  },
  {
   "cell_type": "code",
   "execution_count": null,
   "id": "3d956ba9-4610-40db-9463-ce094b9864ab",
   "metadata": {
    "collapsed": false,
    "editable": true,
    "jupyter": {
     "outputs_hidden": false
    }
   },
   "outputs": [],
   "source": [
    "pd.merge(df1, df2, how='left')"
   ]
  },
  {
   "cell_type": "markdown",
   "id": "f1c8f33c-f543-4f2d-a16f-5bdca84e49f3",
   "metadata": {},
   "source": [
    "A rights merge keeps only rows that appear in the right data frame."
   ]
  },
  {
   "cell_type": "code",
   "execution_count": null,
   "id": "1c493c46-c001-4d75-ae93-7cb33013438c",
   "metadata": {
    "collapsed": false,
    "editable": true,
    "jupyter": {
     "outputs_hidden": false
    }
   },
   "outputs": [],
   "source": [
    "pd.merge(df1, df2, how='right')"
   ]
  },
  {
   "cell_type": "markdown",
   "id": "cdbd65df-eeda-4f30-b915-3aa4f2d48be1",
   "metadata": {},
   "source": [
    "By default, `pd.merge()` merges on all columns that appear in both data frames.\n",
    "\n",
    "> `on` : label or list\n",
    "    Column or index level names to join on. These must be found in both\n",
    "    DataFrames. If `on` is None and not merging on indexes then this defaults\n",
    "    to the intersection of the columns in both DataFrames.\n",
    "    \n",
    "Here `key` is the only common column between `df1` and `df2`.\n",
    "We *should* specify `on` to avoid unexpected results."
   ]
  },
  {
   "cell_type": "code",
   "execution_count": null,
   "id": "78617eb6-d414-4c2b-a4b2-48c3f10f9f51",
   "metadata": {
    "collapsed": false,
    "deletable": true,
    "editable": true,
    "jupyter": {
     "outputs_hidden": false
    }
   },
   "outputs": [],
   "source": [
    "pd.merge(df1, df2, on='key')"
   ]
  },
  {
   "cell_type": "markdown",
   "id": "a9d08805-19a4-4070-b876-a929b28b29fe",
   "metadata": {},
   "source": [
    "We *must* specify `left_on` and `right_on` if our left and right data frames do not have a common column."
   ]
  },
  {
   "cell_type": "code",
   "execution_count": null,
   "id": "e8cc9043-8183-4fa6-93f8-58261a7f27b4",
   "metadata": {
    "collapsed": false,
    "deletable": true,
    "editable": true,
    "jupyter": {
     "outputs_hidden": false
    }
   },
   "outputs": [],
   "source": [
    "df3 = pd.DataFrame({'lkey': ['b', 'b', 'a', 'c', 'a', 'a', 'b'], 'data1': range(7)})\n",
    "df4 = pd.DataFrame({'rkey': ['a', 'b', 'd'], 'data2': range(3)})"
   ]
  },
  {
   "cell_type": "code",
   "execution_count": null,
   "id": "06ef070a-a16e-482c-9390-782a24f82ed0",
   "metadata": {},
   "outputs": [],
   "source": [
    "df3"
   ]
  },
  {
   "cell_type": "code",
   "execution_count": null,
   "id": "bdd5e41a-02e2-4bea-bac0-8bae8a6cc10a",
   "metadata": {},
   "outputs": [],
   "source": [
    "df4"
   ]
  },
  {
   "cell_type": "code",
   "execution_count": null,
   "id": "4ea4bca1-4650-4a04-8265-c96d1ec63975",
   "metadata": {},
   "outputs": [],
   "source": [
    "# pd.merge(df3, df4) # this code fails/errors because there are not common columns"
   ]
  },
  {
   "cell_type": "code",
   "execution_count": null,
   "id": "bf353213-bfa2-4f50-9cc0-f40459ef3e1e",
   "metadata": {},
   "outputs": [],
   "source": [
    "pd.merge(df3, df4, left_on='lkey', right_on='rkey')"
   ]
  },
  {
   "cell_type": "markdown",
   "id": "8bd5cb21-ddf3-4941-a80d-2791d4f82e0c",
   "metadata": {},
   "source": [
    "Here `pd.merge()` dropped row `c` from `df3` and row `d` from `df4`.\n",
    "Rows `c` and `d` dropped because `pd.merge()` *inner* joins be default.\n",
    "An inner join keeps the intersection of the left and right data frame keys.\n",
    "Further, rows `a` and `b` from `df4` appear three times to match `df3`.\n",
    "If we want to keep rows `c` and `d`, we can *outer* join `df3` and `df4` with `how='outer'`."
   ]
  },
  {
   "cell_type": "code",
   "execution_count": null,
   "id": "5b7d0c69-83e5-451b-94ff-4de131109dcb",
   "metadata": {
    "collapsed": false,
    "deletable": true,
    "editable": true,
    "jupyter": {
     "outputs_hidden": false
    }
   },
   "outputs": [],
   "source": [
    "pd.merge(df1, df2, how='outer')"
   ]
  },
  {
   "cell_type": "markdown",
   "id": "b747a9d7-eb07-46f4-a905-3fb87af95eb1",
   "metadata": {},
   "source": [
    "> Many-to-many merges have well-defined, though not necessarily intuitive, behavior."
   ]
  },
  {
   "cell_type": "code",
   "execution_count": null,
   "id": "c4337be4-8499-41cd-af54-86142e108ea1",
   "metadata": {
    "collapsed": false,
    "deletable": true,
    "editable": true,
    "jupyter": {
     "outputs_hidden": false
    }
   },
   "outputs": [],
   "source": [
    "df1 = pd.DataFrame({'key': ['b', 'b', 'a', 'c', 'a', 'b'], 'data1': range(6)})\n",
    "df2 = pd.DataFrame({'key': ['a', 'b', 'a', 'b', 'd'], 'data2': range(5)})"
   ]
  },
  {
   "cell_type": "code",
   "execution_count": null,
   "id": "48dcc68e-56c8-40b4-9122-e2049b17b879",
   "metadata": {},
   "outputs": [],
   "source": [
    "df1"
   ]
  },
  {
   "cell_type": "code",
   "execution_count": null,
   "id": "34c801f5-fd07-488c-8163-2feb53010a10",
   "metadata": {},
   "outputs": [],
   "source": [
    "df2"
   ]
  },
  {
   "cell_type": "code",
   "execution_count": null,
   "id": "50a3cd9c-a330-45c7-9006-582054a8a505",
   "metadata": {},
   "outputs": [],
   "source": [
    "pd.merge(df1, df2, on='key')"
   ]
  },
  {
   "cell_type": "markdown",
   "id": "e12cd542-0899-4f7a-86e5-166fc44416c9",
   "metadata": {},
   "source": [
    "> Many-to-many joins form the Cartesian product of the rows. Since there were three `b` rows in the left DataFrame and two in the right one, there are six `b` rows in the result. The join method only affects the distinct key values appearing in the result.\n",
    "\n",
    "Be careful with many-to-many joins!\n",
    "In finance, we do not expect many-to-many joins because we expect at least one of the data frames to have unique observations.\n",
    "***pandas will not warn us if we accidentally perform a many-to-many join instead of a one-to-one or many-to-one join.***"
   ]
  },
  {
   "cell_type": "markdown",
   "id": "1613d76b-4240-4f08-b86f-164a6064293a",
   "metadata": {},
   "source": [
    "We can merge on more than one key.\n",
    "For example, we may merge two data sets on ticker-date pairs or industry-date pairs."
   ]
  },
  {
   "cell_type": "code",
   "execution_count": null,
   "id": "4dad48a3-8ba2-4d49-989e-7ed5840ba7e4",
   "metadata": {
    "collapsed": false,
    "deletable": true,
    "editable": true,
    "jupyter": {
     "outputs_hidden": false
    }
   },
   "outputs": [],
   "source": [
    "left = pd.DataFrame({'key1': ['foo', 'foo', 'bar'],\n",
    "                     'key2': ['one', 'two', 'one'],\n",
    "                     'lval': [1, 2, 3]})\n",
    "right = pd.DataFrame({'key1': ['foo', 'foo', 'bar', 'bar'],\n",
    "                      'key2': ['one', 'one', 'one', 'two'],\n",
    "                      'rval': [4, 5, 6, 7]})"
   ]
  },
  {
   "cell_type": "code",
   "execution_count": null,
   "id": "ac055845-3266-415e-9c8e-eeabfaa41a07",
   "metadata": {},
   "outputs": [],
   "source": [
    "left"
   ]
  },
  {
   "cell_type": "code",
   "execution_count": null,
   "id": "813f0aa0-7925-44ea-b828-2a87f6edcacd",
   "metadata": {},
   "outputs": [],
   "source": [
    "right"
   ]
  },
  {
   "cell_type": "code",
   "execution_count": null,
   "id": "a23e935f-2aed-42ac-be0b-7490d905e84e",
   "metadata": {},
   "outputs": [],
   "source": [
    "pd.merge(left, right, on=['key1', 'key2'], how='outer')"
   ]
  },
  {
   "cell_type": "markdown",
   "id": "32a51411-a0a5-4931-ad48-54b95bfa7602",
   "metadata": {},
   "source": [
    "When column names overlap between the left and right data frames, `pd.merge()` appends `_x` and `_y` to the left and right versions of the overlapping column names."
   ]
  },
  {
   "cell_type": "code",
   "execution_count": null,
   "id": "66d3887d-6af7-4394-86bd-ad67317e3e9b",
   "metadata": {
    "collapsed": false,
    "deletable": true,
    "editable": true,
    "jupyter": {
     "outputs_hidden": false
    }
   },
   "outputs": [],
   "source": [
    "pd.merge(left, right, on='key1')"
   ]
  },
  {
   "cell_type": "markdown",
   "id": "232b26b3-6a7d-4b0a-91b9-016250b0fd49",
   "metadata": {},
   "source": [
    "I typically specify suffixes to avoid later confusion."
   ]
  },
  {
   "cell_type": "code",
   "execution_count": null,
   "id": "8746456c-905a-427c-a674-6c3fc9c3f01f",
   "metadata": {},
   "outputs": [],
   "source": [
    "pd.merge(left, right, on='key1', suffixes=('_left', '_right'))"
   ]
  },
  {
   "cell_type": "markdown",
   "id": "a3b77960-c0b6-44e0-ba3a-1dd361f515c6",
   "metadata": {},
   "source": [
    "I read the `pd.merge()` docstring whenever I am in doubt.\n",
    "***Table 8-2*** lists the most commonly used arguments for `pd.merge()`.\n",
    "\n",
    "> - `left`: DataFrame to be merged on the left side.\n",
    "> - `right`: DataFrame to be merged on the right side.\n",
    "> - `how`: One of 'inner', 'outer', 'left', or 'right'; defaults to 'inner'.\n",
    "> - `on`: Column names to join on. Must be found in both DataFrame objects. If not specified and no other join keys given will use the intersection of the column names in left and right as the join keys.\n",
    "> - `left_on`: Columns in left DataFrame to use as join keys.\n",
    "> - `right_on`: Analogous to left_on for left DataFrame.\n",
    "> - `left_index`: Use row index in left as its join key (or keys, if a MultiIndex).\n",
    "> - `right_index`: Analogous to left_index.\n",
    "> - `sort`: Sort merged data lexicographically by join keys; True by default (disable to get better performance in some cases on large datasets).\n",
    "> - `suffixes`: Tuple of string values to append to column names in case of overlap; defaults to ('_x', '_y') (e.g., if 'data' in both DataFrame objects, would appear as 'data_x' and 'data_y' in result).\n",
    "> - `copy`: If False, avoid copying data into resulting data structure in some exceptional cases; by default always copies.\n",
    "> - `indicator`: Adds a special column _merge that indicates the source of each row; values will be 'left_only', 'right_only', or 'both' based on the origin of the joined data in each row."
   ]
  },
  {
   "cell_type": "markdown",
   "id": "369c41f6-dd67-4ac7-b82e-70b0496ab057",
   "metadata": {},
   "source": [
    "### Merging on Index"
   ]
  },
  {
   "cell_type": "markdown",
   "id": "9ca72eea-c459-472a-8f5e-05372a0cd39e",
   "metadata": {},
   "source": [
    "If we want to use `pd.merge()` to join on row indexes, we can use the `left_index` and `right_index` arguments."
   ]
  },
  {
   "cell_type": "code",
   "execution_count": null,
   "id": "046e755a-54c9-4cd9-9d3f-9939c0cad2f6",
   "metadata": {
    "collapsed": false,
    "deletable": true,
    "editable": true,
    "jupyter": {
     "outputs_hidden": false
    }
   },
   "outputs": [],
   "source": [
    "left1 = pd.DataFrame({'key': ['a', 'b', 'a', 'a', 'b', 'c'], 'value': range(6)})\n",
    "right1 = pd.DataFrame({'group_val': [3.5, 7]}, index=['a', 'b'])"
   ]
  },
  {
   "cell_type": "code",
   "execution_count": null,
   "id": "578f1dc3-f1f7-4a75-93b0-8635c8600fc0",
   "metadata": {},
   "outputs": [],
   "source": [
    "left1"
   ]
  },
  {
   "cell_type": "code",
   "execution_count": null,
   "id": "5c557859-d350-4a82-a6df-c63c81ae4d2e",
   "metadata": {},
   "outputs": [],
   "source": [
    "right1"
   ]
  },
  {
   "cell_type": "code",
   "execution_count": null,
   "id": "a5bad22d-5f9d-4d03-b12b-322ddaaaf2b1",
   "metadata": {
    "collapsed": false,
    "deletable": true,
    "editable": true,
    "jupyter": {
     "outputs_hidden": false
    }
   },
   "outputs": [],
   "source": [
    "pd.merge(left1, right1, left_on='key', right_index=True, how='outer')"
   ]
  },
  {
   "cell_type": "markdown",
   "id": "d9f8c6b4-8d53-4d3c-b9fa-f09da1da2981",
   "metadata": {},
   "source": [
    "The index arguments work for hierarchical indexes (multi indexes), too."
   ]
  },
  {
   "cell_type": "code",
   "execution_count": null,
   "id": "d59bcad5-b5d6-4b1c-9c4f-b76418a61d81",
   "metadata": {
    "collapsed": false,
    "deletable": true,
    "editable": true,
    "jupyter": {
     "outputs_hidden": false
    }
   },
   "outputs": [],
   "source": [
    "lefth = pd.DataFrame({'key1': ['Ohio', 'Ohio', 'Ohio', 'Nevada', 'Nevada'],\n",
    "                      'key2': [2000, 2001, 2002, 2001, 2002],\n",
    "                      'data': np.arange(5.)})\n",
    "righth = pd.DataFrame(np.arange(12).reshape((6, 2)),\n",
    "                      index=[['Nevada', 'Nevada', 'Ohio', 'Ohio', 'Ohio', 'Ohio'],\n",
    "                             [2001, 2000, 2000, 2000, 2001, 2002]],\n",
    "                      columns=['event1', 'event2'])"
   ]
  },
  {
   "cell_type": "code",
   "execution_count": null,
   "id": "ef96bcc3-22c7-4547-b513-b71294a6be00",
   "metadata": {},
   "outputs": [],
   "source": [
    "pd.merge(lefth, righth, left_on=['key1', 'key2'], right_index=True, how='outer')"
   ]
  },
  {
   "cell_type": "code",
   "execution_count": null,
   "id": "12ea67e8-bc86-4e40-8f43-4c060247be5c",
   "metadata": {
    "collapsed": false,
    "deletable": true,
    "editable": true,
    "jupyter": {
     "outputs_hidden": false
    }
   },
   "outputs": [],
   "source": [
    "left2 = pd.DataFrame([[1., 2.], [3., 4.], [5., 6.]],\n",
    "                     index=['a', 'c', 'e'],\n",
    "                     columns=['Ohio', 'Nevada'])\n",
    "right2 = pd.DataFrame([[7., 8.], [9., 10.], [11., 12.], [13, 14]],\n",
    "                      index=['b', 'c', 'd', 'e'],\n",
    "                      columns=['Missouri', 'Alabama'])"
   ]
  },
  {
   "cell_type": "markdown",
   "id": "fe7ebfb4-6450-417b-bf4a-8853f491ff26",
   "metadata": {},
   "source": [
    "If we use both left and right indexes, `pd.merge()` will keep the index."
   ]
  },
  {
   "cell_type": "code",
   "execution_count": null,
   "id": "0bc8ce73-6b3a-4d83-9f28-3f8bc276bcd6",
   "metadata": {},
   "outputs": [],
   "source": [
    "pd.merge(left2, right2, how='outer', left_index=True, right_index=True)"
   ]
  },
  {
   "cell_type": "markdown",
   "id": "2959ce62-de8f-4ce7-bd8b-1ba8ea69ff78",
   "metadata": {},
   "source": [
    "> DataFrame has a convenient join instance for merging by index. It can also be used to combine together many DataFrame objects having the same or similar indexes but non-overlapping columns.\n",
    "\n",
    "If we have matching indexes on left and right, we can use `.join()`."
   ]
  },
  {
   "cell_type": "code",
   "execution_count": null,
   "id": "5e42129e-a509-40d4-b7be-525caae4169d",
   "metadata": {},
   "outputs": [],
   "source": [
    "left2"
   ]
  },
  {
   "cell_type": "code",
   "execution_count": null,
   "id": "a8e4d737-946c-4ede-806d-8e44b862a980",
   "metadata": {},
   "outputs": [],
   "source": [
    "right2"
   ]
  },
  {
   "cell_type": "code",
   "execution_count": null,
   "id": "81e69b53-c752-498a-9b73-d8a7f8599a8c",
   "metadata": {
    "collapsed": false,
    "deletable": true,
    "editable": true,
    "jupyter": {
     "outputs_hidden": false
    }
   },
   "outputs": [],
   "source": [
    "left2.join(right2, how='outer')"
   ]
  },
  {
   "cell_type": "markdown",
   "id": "aea6bc56-241a-4a6c-9135-d72af474a8e1",
   "metadata": {},
   "source": [
    "The `.join()` method left joins by default.\n",
    "The `.join()` method uses indexes, so it requires few arguments and accepts a list of data frames."
   ]
  },
  {
   "cell_type": "code",
   "execution_count": null,
   "id": "0f328b86-6f0b-4f93-9230-efc340d4b800",
   "metadata": {},
   "outputs": [],
   "source": [
    "another = pd.DataFrame(\n",
    "    data=[[7., 8.], [9., 10.], [11., 12.], [16., 17.]],\n",
    "    index=['a', 'c', 'e', 'f'],\n",
    "    columns=['New York', 'Oregon']\n",
    ")\n",
    "\n",
    "another"
   ]
  },
  {
   "cell_type": "code",
   "execution_count": null,
   "id": "6b4b8930-6f2d-4d38-9681-93584a7ab94e",
   "metadata": {},
   "outputs": [],
   "source": [
    "left2.join([right2, another])"
   ]
  },
  {
   "cell_type": "code",
   "execution_count": null,
   "id": "50722e3c-db6b-4a61-aa2a-2018581e5f2a",
   "metadata": {},
   "outputs": [],
   "source": [
    "left2.join([right2, another], how='outer')"
   ]
  },
  {
   "cell_type": "markdown",
   "id": "6d16bc9b-cfab-4b14-9859-1827b450617a",
   "metadata": {},
   "source": [
    "### Concatenating Along an Axis"
   ]
  },
  {
   "cell_type": "markdown",
   "id": "22ee8808-2903-4930-8b3c-fe5660f76cce",
   "metadata": {},
   "source": [
    "The `pd.concat()` function provides a flexible way to combine data frames and series along either axis.\n",
    "I typically use `pd.concat()` to combine:\n",
    "\n",
    "1. A list of data frames with similar layouts\n",
    "1. A list of series because series do not have `.join()` or `.merge()` methods\n",
    "\n",
    "The first is handy if we have to read and combine a directory of .csv files."
   ]
  },
  {
   "cell_type": "code",
   "execution_count": null,
   "id": "8c63ff9e-2743-49b3-9735-0702f26f798c",
   "metadata": {
    "collapsed": false,
    "deletable": true,
    "editable": true,
    "jupyter": {
     "outputs_hidden": false
    }
   },
   "outputs": [],
   "source": [
    "s1 = pd.Series([0, 1], index=['a', 'b'])\n",
    "s2 = pd.Series([2, 3, 4], index=['c', 'd', 'e'])\n",
    "s3 = pd.Series([5, 6], index=['f', 'g'])"
   ]
  },
  {
   "cell_type": "code",
   "execution_count": null,
   "id": "030ae1d7-2795-49bf-836e-b57f50e68769",
   "metadata": {
    "collapsed": false,
    "deletable": true,
    "editable": true,
    "jupyter": {
     "outputs_hidden": false
    }
   },
   "outputs": [],
   "source": [
    "pd.concat([s1, s2, s3])"
   ]
  },
  {
   "cell_type": "code",
   "execution_count": null,
   "id": "4c4601ab-bccd-42e1-9ea8-32f31811aab8",
   "metadata": {
    "collapsed": false,
    "deletable": true,
    "editable": true,
    "jupyter": {
     "outputs_hidden": false
    }
   },
   "outputs": [],
   "source": [
    "pd.concat([s1, s2, s3], axis=1)"
   ]
  },
  {
   "cell_type": "code",
   "execution_count": null,
   "id": "0b97a8db-1cb6-4727-b58e-05e8eb8d4551",
   "metadata": {},
   "outputs": [],
   "source": [
    "result = pd.concat([s1, s2, s3], keys=['one', 'two', 'three'])\n",
    "\n",
    "result"
   ]
  },
  {
   "cell_type": "code",
   "execution_count": null,
   "id": "ace3594b-7b6f-48de-864c-234d324679cf",
   "metadata": {},
   "outputs": [],
   "source": [
    "result.unstack()"
   ]
  },
  {
   "cell_type": "code",
   "execution_count": null,
   "id": "63610d5c-39f8-4141-92f3-26f7ccb69cc2",
   "metadata": {
    "collapsed": false,
    "deletable": true,
    "editable": true,
    "jupyter": {
     "outputs_hidden": false
    }
   },
   "outputs": [],
   "source": [
    "pd.concat([s1, s2, s3], axis=1, keys=['one', 'two', 'three'])"
   ]
  },
  {
   "cell_type": "code",
   "execution_count": null,
   "id": "9c5a3b46-7d20-4f74-ad84-6e5defcf06b7",
   "metadata": {
    "collapsed": false,
    "deletable": true,
    "editable": true,
    "jupyter": {
     "outputs_hidden": false
    }
   },
   "outputs": [],
   "source": [
    "df1 = pd.DataFrame(np.arange(6).reshape(3, 2), index=['a', 'b', 'c'], columns=['one', 'two'])\n",
    "df2 = pd.DataFrame(5 + np.arange(4).reshape(2, 2), index=['a', 'c'], columns=['three', 'four'])"
   ]
  },
  {
   "cell_type": "code",
   "execution_count": null,
   "id": "73857537-dffb-4218-9496-2db1a2eb2c5a",
   "metadata": {},
   "outputs": [],
   "source": [
    "pd.concat([df1, df2], axis=1, keys=['level1', 'level2'])"
   ]
  },
  {
   "cell_type": "code",
   "execution_count": null,
   "id": "e201b7f5-da7c-4fbf-831c-eb79a624a7b3",
   "metadata": {
    "collapsed": false,
    "deletable": true,
    "editable": true,
    "jupyter": {
     "outputs_hidden": false
    }
   },
   "outputs": [],
   "source": [
    "pd.concat([df1, df2], axis=1, keys=['level1', 'level2'], names=['upper', 'lower'])"
   ]
  },
  {
   "cell_type": "markdown",
   "id": "2593973f-637a-411d-a7c4-1eb7c82adaa4",
   "metadata": {
    "tags": []
   },
   "source": [
    "## Reshaping and Pivoting"
   ]
  },
  {
   "cell_type": "markdown",
   "id": "0e5258dd-fbc3-491c-9268-c91f9eaa4c97",
   "metadata": {},
   "source": [
    "Above, we briefly explore reshaping data with `.stack()` and `.unstack()`.\n",
    "Here we explore reshaping data more deeply."
   ]
  },
  {
   "cell_type": "markdown",
   "id": "c5120302-033d-4e11-81ba-bc8ef9b21fa7",
   "metadata": {},
   "source": [
    "### Reshaping with Hierarchical Indexing"
   ]
  },
  {
   "cell_type": "markdown",
   "id": "1cba63f0-ca63-4c05-92d3-ea2569e9508c",
   "metadata": {},
   "source": [
    "Hierarchical indexes (multi-indexes) help reshape data.\n",
    "\n",
    "> There are two primary actions:\n",
    "> - stack: This \"rotates\" or pivots from the columns in the data to the rows\n",
    "> - unstack: This pivots from the rows into the columns"
   ]
  },
  {
   "cell_type": "code",
   "execution_count": null,
   "id": "f7d3f62c-6ec1-493a-b467-ad63bda40470",
   "metadata": {},
   "outputs": [],
   "source": [
    "data = pd.DataFrame(np.arange(6).reshape((2, 3)),\n",
    "                    index=pd.Index(['Ohio', 'Colorado'], name='state'),\n",
    "                    columns=pd.Index(['one', 'two', 'three'],\n",
    "                    name='number'))\n",
    "\n",
    "data"
   ]
  },
  {
   "cell_type": "code",
   "execution_count": null,
   "id": "fd722d27-8b86-4285-8875-7c79fdb73b7a",
   "metadata": {},
   "outputs": [],
   "source": [
    "result = data.stack()\n",
    "\n",
    "result"
   ]
  },
  {
   "cell_type": "code",
   "execution_count": null,
   "id": "a71c02e9-eeed-4b39-9e0d-cbf83d4ec67f",
   "metadata": {
    "collapsed": false,
    "deletable": true,
    "editable": true,
    "jupyter": {
     "outputs_hidden": false
    }
   },
   "outputs": [],
   "source": [
    "result.unstack()"
   ]
  },
  {
   "cell_type": "code",
   "execution_count": null,
   "id": "ee8d42d2-0e94-40f4-a4ba-d7b893869f09",
   "metadata": {},
   "outputs": [],
   "source": [
    "s1 = pd.Series([0, 1, 2, 3], index=['a', 'b', 'c', 'd'])\n",
    "s2 = pd.Series([4, 5, 6], index=['c', 'd', 'e'])\n",
    "data2 = pd.concat([s1, s2], keys=['one', 'two'])\n",
    "\n",
    "data2"
   ]
  },
  {
   "cell_type": "code",
   "execution_count": null,
   "id": "4a075212-b35f-4f62-ba14-879abe169866",
   "metadata": {},
   "outputs": [],
   "source": [
    "data2.unstack()"
   ]
  },
  {
   "cell_type": "markdown",
   "id": "61e492e7-4011-4cfc-aa84-36fccc1c1d6d",
   "metadata": {},
   "source": [
    "Un-stacking may introduce missing values because data frames are rectangular."
   ]
  },
  {
   "cell_type": "markdown",
   "id": "22462d25-61b8-452a-9ce7-d9e1dbd2eb20",
   "metadata": {},
   "source": [
    "By default, stacking drops these missing values."
   ]
  },
  {
   "cell_type": "code",
   "execution_count": null,
   "id": "ae759a8b-e094-4eaf-8060-2a0defbb1b70",
   "metadata": {},
   "outputs": [],
   "source": [
    "data2.unstack().stack()"
   ]
  },
  {
   "cell_type": "markdown",
   "id": "96a4fc49-faa5-4b7e-b8fe-6d68488d54d3",
   "metadata": {},
   "source": [
    "However, we can keep missing values with `dropna=False`."
   ]
  },
  {
   "cell_type": "code",
   "execution_count": null,
   "id": "955a7a23-9891-4b14-8853-986a383e35d7",
   "metadata": {},
   "outputs": [],
   "source": [
    "data2.unstack().stack(dropna=False)"
   ]
  },
  {
   "cell_type": "code",
   "execution_count": null,
   "id": "a9bcc43b-7ba2-41d5-811f-1bdbb67a188e",
   "metadata": {
    "collapsed": false,
    "deletable": true,
    "editable": true,
    "jupyter": {
     "outputs_hidden": false
    }
   },
   "outputs": [],
   "source": [
    "df = pd.DataFrame({\n",
    "    'left': result, \n",
    "    'right': result + 5\n",
    "    },\n",
    "    columns=pd.Index(['left', 'right'], name='side')\n",
    ")\n",
    "\n",
    "df"
   ]
  },
  {
   "cell_type": "markdown",
   "id": "0a7da2d4-6fa1-4084-be8e-4d3f15c8ebf7",
   "metadata": {},
   "source": [
    "If we un-stack a data frame, the un-stacked level becomes the innermost level in the resulting index."
   ]
  },
  {
   "cell_type": "code",
   "execution_count": null,
   "id": "3b696bff-a08b-460d-993f-071e0e94d5d0",
   "metadata": {},
   "outputs": [],
   "source": [
    "df.unstack('state')"
   ]
  },
  {
   "cell_type": "markdown",
   "id": "493bd1d3-8727-4c6b-b1ac-7a7794a8c896",
   "metadata": {},
   "source": [
    "We can chain `.stack()` and `.unstack()` to rearrange our data."
   ]
  },
  {
   "cell_type": "code",
   "execution_count": null,
   "id": "35f237ca-7a69-4808-809c-f8f2df59548b",
   "metadata": {
    "collapsed": false,
    "deletable": true,
    "editable": true,
    "jupyter": {
     "outputs_hidden": false
    }
   },
   "outputs": [],
   "source": [
    "df.unstack('state').stack('side')"
   ]
  },
  {
   "cell_type": "markdown",
   "id": "1915fb3e-65cf-4d9d-80dc-583c3816815b",
   "metadata": {},
   "source": [
    "McKinney provides two more subsections on reshaping data with the `.pivot()` and `.melt()` methods.\n",
    "Unlike, the stacking methods, the pivoting methods can aggregate data and do not require an index.\n",
    "We will skip these additional aggregation methods for now."
   ]
  }
 ],
 "metadata": {
  "author": "Richard Herron",
  "kernelspec": {
   "display_name": "Python 3 (ipykernel)",
   "language": "python",
   "name": "python3"
  },
  "language_info": {
   "codemirror_mode": {
    "name": "ipython",
    "version": 3
   },
   "file_extension": ".py",
   "mimetype": "text/x-python",
   "name": "python",
   "nbconvert_exporter": "python",
   "pygments_lexer": "ipython3",
   "version": "3.12.1"
  },
  "title": "McKinney Chapter 8 - Data Wrangling: Join, Combine, and Reshape",
  "toc-autonumbering": false
 },
 "nbformat": 4,
 "nbformat_minor": 5
}
