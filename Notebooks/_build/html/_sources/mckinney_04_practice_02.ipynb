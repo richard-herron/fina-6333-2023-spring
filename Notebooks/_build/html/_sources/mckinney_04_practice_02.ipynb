{
 "cells": [
  {
   "cell_type": "markdown",
   "id": "44439447-3047-4145-847e-ac90df0e3162",
   "metadata": {},
   "source": [
    "# McKinney Chapter 4 - Practice (Section 2, Wednesday 2:45 PM)"
   ]
  },
  {
   "cell_type": "code",
   "execution_count": 1,
   "id": "e699f608-e306-43be-833d-942d29021c50",
   "metadata": {},
   "outputs": [
    {
     "data": {
      "text/plain": [
       "'%.4f'"
      ]
     },
     "execution_count": 1,
     "metadata": {},
     "output_type": "execute_result"
    }
   ],
   "source": [
    "import numpy as np\n",
    "%precision 4"
   ]
  },
  {
   "cell_type": "markdown",
   "id": "21410ead-370f-4283-b694-a4bfb7f751c8",
   "metadata": {
    "tags": []
   },
   "source": [
    "## Practice"
   ]
  },
  {
   "cell_type": "markdown",
   "id": "bd998b0b-6cb1-45c7-adec-48bb1fc62f9f",
   "metadata": {
    "tags": []
   },
   "source": [
    "### Create a 1-dimensional array named `a1` that counts from 0 to 24 by 1."
   ]
  },
  {
   "cell_type": "code",
   "execution_count": 2,
   "id": "074b6656-c955-41d4-80e9-8b445067a799",
   "metadata": {},
   "outputs": [
    {
     "data": {
      "text/plain": [
       "array([ 0,  1,  2,  3,  4,  5,  6,  7,  8,  9, 10, 11, 12, 13, 14, 15, 16,\n",
       "       17, 18, 19, 20, 21, 22, 23, 24])"
      ]
     },
     "execution_count": 2,
     "metadata": {},
     "output_type": "execute_result"
    }
   ],
   "source": [
    "np.array(range(25))"
   ]
  },
  {
   "cell_type": "code",
   "execution_count": 3,
   "id": "ae4f5f23-300f-4be6-b66d-facb90f4def8",
   "metadata": {},
   "outputs": [
    {
     "data": {
      "text/plain": [
       "array([ 0,  1,  2,  3,  4,  5,  6,  7,  8,  9, 10, 11, 12, 13, 14, 15, 16,\n",
       "       17, 18, 19, 20, 21, 22, 23, 24])"
      ]
     },
     "execution_count": 3,
     "metadata": {},
     "output_type": "execute_result"
    }
   ],
   "source": [
    "np.arange(25)"
   ]
  },
  {
   "cell_type": "code",
   "execution_count": 4,
   "id": "99e9f8c8-5b07-4121-948d-778333c5153c",
   "metadata": {},
   "outputs": [],
   "source": [
    "a1 = np.arange(25)"
   ]
  },
  {
   "cell_type": "markdown",
   "id": "2bf711fc-5690-42ed-bfa8-5788b2af1320",
   "metadata": {},
   "source": [
    "### Create a 1-dimentional array named `a2` that counts from 0 to 24 by 3."
   ]
  },
  {
   "cell_type": "code",
   "execution_count": 5,
   "id": "29e416d4-b3bf-4e3a-b3a0-1a423cb2259e",
   "metadata": {},
   "outputs": [
    {
     "data": {
      "text/plain": [
       "array([ 0,  3,  6,  9, 12, 15, 18, 21, 24])"
      ]
     },
     "execution_count": 5,
     "metadata": {},
     "output_type": "execute_result"
    }
   ],
   "source": [
    "a2 = np.arange(0, 25, 3)\n",
    "a2"
   ]
  },
  {
   "cell_type": "markdown",
   "id": "ca4c0603-53bc-41e4-8be4-234b5d223033",
   "metadata": {},
   "source": [
    "### Create a 1-dimentional array named `a3` that counts from 0 to 100 by multiples of 3 or 5."
   ]
  },
  {
   "cell_type": "code",
   "execution_count": 6,
   "id": "209530e1-819a-45ee-9d24-50741e4f134c",
   "metadata": {},
   "outputs": [
    {
     "data": {
      "text/plain": [
       "array([  0,   3,   5,   6,   9,  10,  12,  15,  18,  20,  21,  24,  25,\n",
       "        27,  30,  33,  35,  36,  39,  40,  42,  45,  48,  50,  51,  54,\n",
       "        55,  57,  60,  63,  65,  66,  69,  70,  72,  75,  78,  80,  81,\n",
       "        84,  85,  87,  90,  93,  95,  96,  99, 100])"
      ]
     },
     "execution_count": 6,
     "metadata": {},
     "output_type": "execute_result"
    }
   ],
   "source": [
    "np.array([i for i in range(101) if (i%3==0) or (i%5==0)])"
   ]
  },
  {
   "cell_type": "code",
   "execution_count": 7,
   "id": "e899a673-2700-4b76-8694-40037d1f2cf9",
   "metadata": {},
   "outputs": [],
   "source": [
    "a3 = np.arange(101)\n",
    "a3 = a3[(a3%3==0) | (a3%5==0)] # NumPy only accepts & for \"and\" and | for \"or\""
   ]
  },
  {
   "cell_type": "markdown",
   "id": "5d8094be-53ca-4fce-a493-e8ba05051e9a",
   "metadata": {},
   "source": [
    "### Create a 1-dimensional array `a3` that contains the squares of the even integers through 100,000."
   ]
  },
  {
   "cell_type": "markdown",
   "id": "c85459e5-1871-46c6-a682-3de73a5241ca",
   "metadata": {},
   "source": [
    "How much faster is the NumPy version than the list comprehension version?"
   ]
  },
  {
   "cell_type": "code",
   "execution_count": 8,
   "id": "7e1a4668-080a-4624-8ea2-909b54ba6ab1",
   "metadata": {},
   "outputs": [
    {
     "data": {
      "text/plain": [
       "array([          0,           4,          16, ...,  9999200016,\n",
       "        9999600004, 10000000000])"
      ]
     },
     "execution_count": 8,
     "metadata": {},
     "output_type": "execute_result"
    }
   ],
   "source": [
    "np.array([i**2 for i in range(100_001) if (i%2==0)])"
   ]
  },
  {
   "cell_type": "code",
   "execution_count": 9,
   "id": "f568c1dd-0961-4a73-85df-cc38e46b86e7",
   "metadata": {},
   "outputs": [
    {
     "data": {
      "text/plain": [
       "array([          0,           4,          16, ...,  9999200016,\n",
       "        9999600004, 10000000000])"
      ]
     },
     "execution_count": 9,
     "metadata": {},
     "output_type": "execute_result"
    }
   ],
   "source": [
    "np.array([i**2 for i in range(0, 100_001, 2)])"
   ]
  },
  {
   "cell_type": "code",
   "execution_count": null,
   "id": "882ff2cc-3729-4f7d-8224-6bfb5abea921",
   "metadata": {},
   "outputs": [],
   "source": [
    "np.arange(0, 100_001, 2, dtype=np.int64)**2"
   ]
  },
  {
   "cell_type": "markdown",
   "id": "6932f029-b39f-4aa5-ac57-87af902bfb0e",
   "metadata": {},
   "source": [
    "---"
   ]
  },
  {
   "cell_type": "markdown",
   "id": "714127a2-d355-4af3-b431-d2402767471b",
   "metadata": {},
   "source": [
    "***Note:***\n",
    "On some platforms, `np.arange(0, 100_001, 2)` returns an array of 32-bit integers.\n",
    "If we square this array of 32-bit integers, we get the wrong answer because the large values (e.g., $100,000^2$) are too large to represent as 32-bit integers.\n",
    "Since we know that we need 54-bit integers for this calculation, we should explcitly set either `dtype='int64'` or `dtype=np.int64`."
   ]
  },
  {
   "cell_type": "code",
   "execution_count": 54,
   "id": "92e7c621-e6d5-4629-b1de-6fdef7b2bd84",
   "metadata": {},
   "outputs": [
    {
     "data": {
      "text/plain": [
       "array([          0,           4,          16, ...,  9999200016,\n",
       "        9999600004, 10000000000])"
      ]
     },
     "execution_count": 54,
     "metadata": {},
     "output_type": "execute_result"
    }
   ],
   "source": [
    "np.arange(0, 100_001, 2, dtype='int64')**2"
   ]
  },
  {
   "cell_type": "code",
   "execution_count": 55,
   "id": "4e7e9a7b-887e-4029-9904-bfe4dd940452",
   "metadata": {},
   "outputs": [
    {
     "data": {
      "text/plain": [
       "array([          0,           4,          16, ...,  9999200016,\n",
       "        9999600004, 10000000000])"
      ]
     },
     "execution_count": 55,
     "metadata": {},
     "output_type": "execute_result"
    }
   ],
   "source": [
    "np.arange(0, 100_001, 2, dtype=np.int64)**2"
   ]
  },
  {
   "cell_type": "markdown",
   "id": "63f86ebf-ed36-4903-887e-edb4d267ddcc",
   "metadata": {},
   "source": [
    "This [StackOverflow answer](https://stackoverflow.com/a/1970697/334755) is this best explanation I have found of this behavior."
   ]
  },
  {
   "cell_type": "markdown",
   "id": "14cadf28-d390-4149-91f9-82bba55445eb",
   "metadata": {},
   "source": [
    "---"
   ]
  },
  {
   "cell_type": "markdown",
   "id": "daa77654-df00-4f92-8b4e-158b62e27c0e",
   "metadata": {},
   "source": [
    "### Write a function that mimic Excel's `pv` function."
   ]
  },
  {
   "cell_type": "markdown",
   "id": "e91ea7d2-34a8-43d4-99c8-85cc7b000d86",
   "metadata": {},
   "source": [
    "Here is how we call Excel's `pv` function:\n",
    "`=PV(rate, nper, pmt, [fv], [type])`\n",
    "We can use the annuity and lump sum present value formulas.\n",
    "\n",
    "Present value of an annuity payment `pmt`:\n",
    "$PV_{pmt} = \\frac{pmt}{rate} \\times \\left(1 - \\frac{1}{(1+rate)^{nper}} \\right)$\n",
    "\n",
    "Present value of a lump sum `fv`:\n",
    "$PV_{fv} = \\frac{fv}{(1+rate)^{nper}}$"
   ]
  },
  {
   "cell_type": "code",
   "execution_count": 11,
   "id": "abaecfe3-186e-4aa9-9f3c-3b117c4c3ec3",
   "metadata": {},
   "outputs": [],
   "source": [
    "def pv(rate, nper, pmt=None, fv=None, type = 'END'):\n",
    "    if pmt is not None: # calculate PV of pmt, if given\n",
    "        pv_pmt = (pmt / rate) * (1 - (1 + rate)**(-nper))\n",
    "    else:\n",
    "        pv_pmt = 0\n",
    "\n",
    "    if fv is not None: # calculate PV of fv, if given\n",
    "        pv_fv = fv / (1 + rate)**nper\n",
    "    else:\n",
    "        pv_fv = 0\n",
    "    \n",
    "    if type=='END': # as-is if end of period payments\n",
    "        return -1 * (pv_pmt + pv_fv)\n",
    "    elif type=='BGN': # undo one period of discounting if bgn of period payments\n",
    "        return -1 * (pv_pmt + pv_fv) * (1 + rate)\n",
    "    else: # otherwise, ask use to specify end or bgn of period payments\n",
    "        print('Please enter END or BGN for the type argument')"
   ]
  },
  {
   "cell_type": "code",
   "execution_count": 12,
   "id": "56a0c703-1961-4f58-9b7f-2f991a5358ba",
   "metadata": {},
   "outputs": [
    {
     "data": {
      "text/plain": [
       "-1000.0000"
      ]
     },
     "execution_count": 12,
     "metadata": {},
     "output_type": "execute_result"
    }
   ],
   "source": [
    "pv(rate=0.1, nper=10, pmt=100, fv=1000, type='END')"
   ]
  },
  {
   "cell_type": "markdown",
   "id": "99aab945-099d-48fb-8390-71fca4b22c2e",
   "metadata": {},
   "source": [
    "### Write a function that mimic Excel's `fv` function."
   ]
  },
  {
   "cell_type": "code",
   "execution_count": 13,
   "id": "73bb9bd8-ef25-44ff-a8b3-1bfd57731be2",
   "metadata": {},
   "outputs": [],
   "source": [
    "def fv(rate, nper, pmt=None, pv=None, type = 'END'):\n",
    "    if pmt is not None: # calculate PV of pmt, if given\n",
    "        fv_pmt = (pmt / rate) * ((1 + rate)**nper - 1)\n",
    "    else:\n",
    "        fv_pmt = 0\n",
    "\n",
    "    if fv is not None: # calculate PV of fv, if given\n",
    "        fv_pv = pv * (1 + rate)**nper\n",
    "    else:\n",
    "        fv_fv = 0\n",
    "    \n",
    "    if type=='END': # as-is if end of period payments\n",
    "        return -1 * (fv_pmt + fv_pv)\n",
    "    elif type=='BGN': # undo one period of discounting if bgn of period payments\n",
    "        return -1 * (fv_pmt + fv_pv) * (1 + rate)\n",
    "    else: # otherwise, ask use to specify end or bgn of period payments\n",
    "        print('Please enter END or BGN for the type argument')"
   ]
  },
  {
   "cell_type": "code",
   "execution_count": 14,
   "id": "04ab3547-9f30-42cd-b739-890c905e11b8",
   "metadata": {},
   "outputs": [
    {
     "data": {
      "text/plain": [
       "1000.0000"
      ]
     },
     "execution_count": 14,
     "metadata": {},
     "output_type": "execute_result"
    }
   ],
   "source": [
    "fv(rate=0.1, nper=10, pmt=100, pv=-1000, type='END')"
   ]
  },
  {
   "cell_type": "markdown",
   "id": "9c479549-c910-4bf6-843c-f263d81520e5",
   "metadata": {},
   "source": [
    "### Replace the negative values in `data` with -1 and positive values with +1."
   ]
  },
  {
   "cell_type": "code",
   "execution_count": 15,
   "id": "e98dc508-db40-43d0-95a7-b5b3a36a34b2",
   "metadata": {},
   "outputs": [
    {
     "data": {
      "text/plain": [
       "array([[ 0.4967, -0.1383,  0.6477,  1.523 , -0.2342, -0.2341,  1.5792],\n",
       "       [ 0.7674, -0.4695,  0.5426, -0.4634, -0.4657,  0.242 , -1.9133],\n",
       "       [-1.7249, -0.5623, -1.0128,  0.3142, -0.908 , -1.4123,  1.4656],\n",
       "       [-0.2258,  0.0675, -1.4247, -0.5444,  0.1109, -1.151 ,  0.3757],\n",
       "       [-0.6006, -0.2917, -0.6017,  1.8523, -0.0135, -1.0577,  0.8225],\n",
       "       [-1.2208,  0.2089, -1.9597, -1.3282,  0.1969,  0.7385,  0.1714],\n",
       "       [-0.1156, -0.3011, -1.4785, -0.7198, -0.4606,  1.0571,  0.3436]])"
      ]
     },
     "execution_count": 15,
     "metadata": {},
     "output_type": "execute_result"
    }
   ],
   "source": [
    "np.random.seed(42)\n",
    "data = np.random.randn(7, 7)\n",
    "data"
   ]
  },
  {
   "cell_type": "code",
   "execution_count": 16,
   "id": "ef8af6f0-343a-4ea8-81a3-190671a42f75",
   "metadata": {},
   "outputs": [
    {
     "data": {
      "text/plain": [
       "array([[ 1., -1.,  1.,  1., -1., -1.,  1.],\n",
       "       [ 1., -1.,  1., -1., -1.,  1., -1.],\n",
       "       [-1., -1., -1.,  1., -1., -1.,  1.],\n",
       "       [-1.,  1., -1., -1.,  1., -1.,  1.],\n",
       "       [-1., -1., -1.,  1., -1., -1.,  1.],\n",
       "       [-1.,  1., -1., -1.,  1.,  1.,  1.],\n",
       "       [-1., -1., -1., -1., -1.,  1.,  1.]])"
      ]
     },
     "execution_count": 16,
     "metadata": {},
     "output_type": "execute_result"
    }
   ],
   "source": [
    "data_c = data.copy()\n",
    "data_c[data_c < 0] = -1\n",
    "data_c[data_c > 0] = +1\n",
    "data_c"
   ]
  },
  {
   "cell_type": "code",
   "execution_count": 17,
   "id": "4e92b5a8-04e4-43fc-a812-c3beb0ff978b",
   "metadata": {},
   "outputs": [
    {
     "data": {
      "text/plain": [
       "array([[ 1., -1.,  1.,  1., -1., -1.,  1.],\n",
       "       [ 1., -1.,  1., -1., -1.,  1., -1.],\n",
       "       [-1., -1., -1.,  1., -1., -1.,  1.],\n",
       "       [-1.,  1., -1., -1.,  1., -1.,  1.],\n",
       "       [-1., -1., -1.,  1., -1., -1.,  1.],\n",
       "       [-1.,  1., -1., -1.,  1.,  1.,  1.],\n",
       "       [-1., -1., -1., -1., -1.,  1.,  1.]])"
      ]
     },
     "execution_count": 17,
     "metadata": {},
     "output_type": "execute_result"
    }
   ],
   "source": [
    "np.where(data < 0, -1, np.where(data > 0, +1, data))"
   ]
  },
  {
   "cell_type": "code",
   "execution_count": 18,
   "id": "e3c09292-642f-4930-97c4-89fe49d60f94",
   "metadata": {},
   "outputs": [
    {
     "data": {
      "text/plain": [
       "True"
      ]
     },
     "execution_count": 18,
     "metadata": {},
     "output_type": "execute_result"
    }
   ],
   "source": [
    "np.allclose(np.where(data < 0, -1, np.where(data > 0, +1, data)), data_c)"
   ]
  },
  {
   "cell_type": "code",
   "execution_count": 19,
   "id": "c1e8d43a-8095-49ca-b0b0-5e4de364c203",
   "metadata": {},
   "outputs": [
    {
     "data": {
      "text/plain": [
       "array([[ 1., -1.,  1.,  1., -1., -1.,  1.],\n",
       "       [ 1., -1.,  1., -1., -1.,  1., -1.],\n",
       "       [-1., -1., -1.,  1., -1., -1.,  1.],\n",
       "       [-1.,  1., -1., -1.,  1., -1.,  1.],\n",
       "       [-1., -1., -1.,  1., -1., -1.,  1.],\n",
       "       [-1.,  1., -1., -1.,  1.,  1.,  1.],\n",
       "       [-1., -1., -1., -1., -1.,  1.,  1.]])"
      ]
     },
     "execution_count": 19,
     "metadata": {},
     "output_type": "execute_result"
    }
   ],
   "source": [
    "np.select(\n",
    "    condlist=[data<0, data>0],\n",
    "    choicelist=[-1, +1],\n",
    "    default=data\n",
    ")"
   ]
  },
  {
   "cell_type": "markdown",
   "id": "784da531-3f16-4afd-b0bb-0d800c116540",
   "metadata": {},
   "source": [
    "### Write a function `npmts()` that calculates the number of payments that generate $x\\%$ of the present value of a perpetuity."
   ]
  },
  {
   "cell_type": "markdown",
   "id": "d275e333-9bcf-463b-a39d-9ea8a2eade3e",
   "metadata": {},
   "source": [
    "Your `npmts()` should accept arguments `c1`, `r`, and `g` that represent  $C_1$, $r$, and $g$.\n",
    "The present value of a growing perpetuity is $PV = \\frac{C_1}{r - g}$, and the present value of a growing annuity is $PV = \\frac{C_1}{r - g}\\left[ 1 - \\left( \\frac{1 + g}{1 + r} \\right)^t \\right]$."
   ]
  },
  {
   "cell_type": "markdown",
   "id": "ef06ec09-dfac-4206-b9d6-2370a366c9fe",
   "metadata": {},
   "source": [
    "We can use the growing annuity and perpetuity formulas to show: $x = \\left[ 1 - \\left( \\frac{1 + g}{1 + r} \\right)^t \\right]$. \n",
    "\n",
    "Then: $1 - x = \\left( \\frac{1 + g}{1 + r} \\right)^t$.\n",
    "\n",
    "Finally: $t = \\frac{\\log(1-x)}{\\log\\left(\\frac{1 + g}{1 + r}\\right)}$\n",
    "\n",
    "***We do not need to accept an argument `c1` because $C_1$ cancels out!***"
   ]
  },
  {
   "cell_type": "code",
   "execution_count": 20,
   "id": "ad6d51a5-feac-4e78-9946-78e3d1be4320",
   "metadata": {},
   "outputs": [],
   "source": [
    "def npmts(x, r, g):\n",
    "    return np.log(1-x) / np.log((1 + g) / (1 + r))"
   ]
  },
  {
   "cell_type": "code",
   "execution_count": 21,
   "id": "a8567d3e-4087-4f34-966c-8d8487ba6602",
   "metadata": {},
   "outputs": [
    {
     "data": {
      "text/plain": [
       "14.899977377480532"
      ]
     },
     "execution_count": 21,
     "metadata": {},
     "output_type": "execute_result"
    }
   ],
   "source": [
    "npmts(0.5, 0.1, 0.05)"
   ]
  },
  {
   "cell_type": "markdown",
   "id": "c350c919-5358-414c-a106-ca845a1149ff",
   "metadata": {},
   "source": [
    "### Write a function that calculates the internal rate of return given a NumPy array of cash flows."
   ]
  },
  {
   "cell_type": "markdown",
   "id": "eb08c45c-23bd-4fe7-9c52-017d183c7590",
   "metadata": {},
   "source": [
    "Here are some data where the $IRR$ is obvious!"
   ]
  },
  {
   "cell_type": "code",
   "execution_count": 22,
   "id": "b95b5396-13c5-448b-8d10-629b72741453",
   "metadata": {},
   "outputs": [],
   "source": [
    "c = np.array([-100, 110])\n",
    "irr = 0.1"
   ]
  },
  {
   "cell_type": "markdown",
   "id": "100e43da-0141-45ea-aaea-1f315764f2aa",
   "metadata": {},
   "source": [
    "We want to replicate the following calculation with NumPy:"
   ]
  },
  {
   "cell_type": "code",
   "execution_count": 23,
   "id": "081a28ee-bbda-4b8a-b070-874d9306676b",
   "metadata": {},
   "outputs": [
    {
     "data": {
      "text/plain": [
       "-1.4210854715202004e-14"
      ]
     },
     "execution_count": 23,
     "metadata": {},
     "output_type": "execute_result"
    }
   ],
   "source": [
    "c[0]/(1+irr)**0 + c[1]/(1+irr)**1"
   ]
  },
  {
   "cell_type": "markdown",
   "id": "92d6f724-ca27-4bc6-87c4-19bcd71fd6cb",
   "metadata": {},
   "source": [
    "The following NumPy code calculates the present value interest factor for each cash flow:"
   ]
  },
  {
   "cell_type": "code",
   "execution_count": 24,
   "id": "443fdd09-0e48-4188-9ba8-8815238e4af5",
   "metadata": {},
   "outputs": [
    {
     "data": {
      "text/plain": [
       "array([1.    , 0.9091])"
      ]
     },
     "execution_count": 24,
     "metadata": {},
     "output_type": "execute_result"
    }
   ],
   "source": [
    "1 / (1 + irr)**np.arange(len(c)) # present value interest factor"
   ]
  },
  {
   "cell_type": "markdown",
   "id": "851ff5a0-f9c6-4d60-abe1-9040a6ac1d0d",
   "metadata": {},
   "source": [
    "The following NumPy code calculates the present value for each cash flow:"
   ]
  },
  {
   "cell_type": "code",
   "execution_count": 25,
   "id": "ddce48d5-8ebf-44a7-b960-c8bee06850a8",
   "metadata": {},
   "outputs": [
    {
     "data": {
      "text/plain": [
       "array([-100.,  100.])"
      ]
     },
     "execution_count": 25,
     "metadata": {},
     "output_type": "execute_result"
    }
   ],
   "source": [
    "c / (1 + irr)**np.arange(len(c)) # present value of each cash flow"
   ]
  },
  {
   "cell_type": "markdown",
   "id": "30a785ea-f4a7-4095-acd9-a3ebcc137359",
   "metadata": {},
   "source": [
    "We sum these present values of each cash flow to calculate the net present value:"
   ]
  },
  {
   "cell_type": "code",
   "execution_count": 26,
   "id": "949360ee-f798-444c-a5ea-32d2a86e5f7a",
   "metadata": {},
   "outputs": [
    {
     "data": {
      "text/plain": [
       "-1.4210854715202004e-14"
      ]
     },
     "execution_count": 26,
     "metadata": {},
     "output_type": "execute_result"
    }
   ],
   "source": [
    "(c / (1 + irr)**np.arange(len(c))).sum()"
   ]
  },
  {
   "cell_type": "markdown",
   "id": "d0f1e4ce-cb26-451c-ae69-830ad0367f63",
   "metadata": {},
   "source": [
    "The $IRR$ is the discount rate where $NPV=0$.\n",
    "We can can use the NumPy code above to try different discount rates until $NPV=0$.\n",
    "The following code is crude, but sufficient for week three of our class and highlights two tools:\n",
    "\n",
    "1. Using a `while` to try different discount rates until our answer is within some tolerance\n",
    "1. Using NumPy to perform repetitive calculations without a `for` loop"
   ]
  },
  {
   "cell_type": "code",
   "execution_count": 27,
   "id": "11855623-4db4-48e1-8a17-90e16f1a1da0",
   "metadata": {},
   "outputs": [],
   "source": [
    "def irr(c, guess=0, tol=0.0001, inc=0.0001):\n",
    "    npv = 42\n",
    "    irr = guess\n",
    "    while np.abs(npv) > tol:\n",
    "        irr += inc\n",
    "        npv = (c / (1 + irr)**np.arange(len(c))).sum()\n",
    "        \n",
    "    return irr"
   ]
  },
  {
   "cell_type": "code",
   "execution_count": 28,
   "id": "a1539eba-8aa8-4c7d-89e9-86b067906505",
   "metadata": {},
   "outputs": [],
   "source": [
    "c = np.array([-100, 110])"
   ]
  },
  {
   "cell_type": "code",
   "execution_count": 29,
   "id": "bbd2f8f7-a7c6-4288-bf4c-1c0c93d94549",
   "metadata": {},
   "outputs": [
    {
     "data": {
      "text/plain": [
       "0.1000"
      ]
     },
     "execution_count": 29,
     "metadata": {},
     "output_type": "execute_result"
    }
   ],
   "source": [
    "irr(c)"
   ]
  },
  {
   "cell_type": "markdown",
   "id": "3bbc1ce3-1962-469e-bc58-f8c13b512961",
   "metadata": {},
   "source": [
    "### Write a function `returns()` that accepts *NumPy arrays* of prices and dividends and returns a *NumPy array* of returns."
   ]
  },
  {
   "cell_type": "code",
   "execution_count": 30,
   "id": "a0cddc6d-6efd-40b5-8747-aba48243558f",
   "metadata": {},
   "outputs": [],
   "source": [
    "prices = np.array([100, 150, 100, 50, 100, 150, 100, 150])\n",
    "dividends = np.array([1, 1, 1, 1, 2, 2, 2, 2])"
   ]
  },
  {
   "cell_type": "code",
   "execution_count": 31,
   "id": "ac06dd07-cea9-4688-9022-9bca3da88ef0",
   "metadata": {
    "tags": []
   },
   "outputs": [],
   "source": [
    "def returns(p, d):\n",
    "    return (p[1:] - p[:-1] + d[1:]) / p[:-1]"
   ]
  },
  {
   "cell_type": "code",
   "execution_count": 32,
   "id": "e0deb1aa-41f7-46ed-9dfb-412aacd87753",
   "metadata": {},
   "outputs": [
    {
     "data": {
      "text/plain": [
       "array([ 0.51  , -0.3267, -0.49  ,  1.04  ,  0.52  , -0.32  ,  0.52  ])"
      ]
     },
     "execution_count": 32,
     "metadata": {},
     "output_type": "execute_result"
    }
   ],
   "source": [
    "returns(p=prices, d=dividends)"
   ]
  },
  {
   "cell_type": "markdown",
   "id": "31b6c657-3164-46a0-9160-7c868714c76b",
   "metadata": {},
   "source": [
    "### Rewrite the function `returns()` so it returns *NumPy arrays* of returns, capital gains yields, and dividend yields."
   ]
  },
  {
   "cell_type": "code",
   "execution_count": 33,
   "id": "bee8e11c-38e3-459a-911d-878f773934ad",
   "metadata": {},
   "outputs": [],
   "source": [
    "def returns(p, d):\n",
    "    cg = (p[1:] - p[:-1]) / p[:-1]\n",
    "    dy = d[1:] / p[:-1]\n",
    "    r = cg + dy\n",
    "    return {'r': r, 'cg': cg, 'dy': dy}"
   ]
  },
  {
   "cell_type": "code",
   "execution_count": 34,
   "id": "f8d9e30f-5b03-4deb-b70e-32f1c8e34bfc",
   "metadata": {},
   "outputs": [
    {
     "data": {
      "text/plain": [
       "{'r': array([ 0.51  , -0.3267, -0.49  ,  1.04  ,  0.52  , -0.32  ,  0.52  ]),\n",
       " 'cg': array([ 0.5   , -0.3333, -0.5   ,  1.    ,  0.5   , -0.3333,  0.5   ]),\n",
       " 'dy': array([0.01  , 0.0067, 0.01  , 0.04  , 0.02  , 0.0133, 0.02  ])}"
      ]
     },
     "execution_count": 34,
     "metadata": {},
     "output_type": "execute_result"
    }
   ],
   "source": [
    "returns(p=prices, d=dividends)"
   ]
  },
  {
   "cell_type": "markdown",
   "id": "d8bd7ca3-163d-4283-89bd-3902139b42a8",
   "metadata": {},
   "source": [
    "### Rescale and shift numbers so that they cover the range [0, 1]"
   ]
  },
  {
   "cell_type": "markdown",
   "id": "fadb2aee-d90a-4493-bfbb-d6b5b85fa829",
   "metadata": {},
   "source": [
    "Input: `np.array([18.5, 17.0, 18.0, 19.0, 18.0])` \\\n",
    "Output: `np.array([0.75, 0.0, 0.5, 1.0, 0.5])`"
   ]
  },
  {
   "cell_type": "code",
   "execution_count": 35,
   "id": "73c96365-d699-4762-b87a-f4f9f68643a1",
   "metadata": {},
   "outputs": [],
   "source": [
    "numbers = np.array([18.5, 17.0, 18.0, 19.0, 18.0])"
   ]
  },
  {
   "cell_type": "code",
   "execution_count": 36,
   "id": "35ea2968-62b6-4961-b32b-af80d11a7748",
   "metadata": {
    "tags": []
   },
   "outputs": [
    {
     "data": {
      "text/plain": [
       "array([0.75, 0.  , 0.5 , 1.  , 0.5 ])"
      ]
     },
     "execution_count": 36,
     "metadata": {},
     "output_type": "execute_result"
    }
   ],
   "source": [
    "(numbers - numbers.min()) / (numbers.max() - numbers.min())"
   ]
  },
  {
   "cell_type": "markdown",
   "id": "b2840013-143b-4c27-842b-737269192f17",
   "metadata": {},
   "source": [
    "### Write functions `var()` and `std()` that calculate variance and standard deviation."
   ]
  },
  {
   "cell_type": "markdown",
   "id": "892d8f7d-c891-42fc-877c-d2dee982200d",
   "metadata": {},
   "source": [
    "NumPy's `.var()` and `.std()` methods return *population* statistics (i.e., denominators of $n$).\n",
    "The pandas equivalents return *sample* statistics (denominators of $n-1$), which are more appropriate for financial data analysis where we have a sample instead of a population.\n",
    "\n",
    "\n",
    "Both function should have an argument `sample` that is `True` by default so both functions return sample statistics by default.\n",
    "\n",
    "Use the output of `returns()` to compare your functions with NumPy's `.var()` and `.std()` methods."
   ]
  },
  {
   "cell_type": "code",
   "execution_count": 37,
   "id": "7b7fd744-c951-454b-a005-80394b91ac5e",
   "metadata": {},
   "outputs": [
    {
     "data": {
      "text/plain": [
       "array([ 0.4967, -0.1383,  0.6477, ..., -0.113 ,  1.4691,  0.4764])"
      ]
     },
     "execution_count": 37,
     "metadata": {},
     "output_type": "execute_result"
    }
   ],
   "source": [
    "np.random.seed(42)\n",
    "r = np.random.randn(1_000_000)\n",
    "r"
   ]
  },
  {
   "cell_type": "code",
   "execution_count": 38,
   "id": "ac35cbde-114d-4803-b0ee-e74c7ce204ae",
   "metadata": {},
   "outputs": [],
   "source": [
    "def var(x, ddof=0):\n",
    "    N = len(x)\n",
    "    return ((x - x.mean())**2).sum() / (N - ddof)"
   ]
  },
  {
   "cell_type": "code",
   "execution_count": 39,
   "id": "c10b244b-503b-4435-a5c6-a34fe1b002ca",
   "metadata": {},
   "outputs": [
    {
     "data": {
      "text/plain": [
       "1.0003761089673018"
      ]
     },
     "execution_count": 39,
     "metadata": {},
     "output_type": "execute_result"
    }
   ],
   "source": [
    "r.var()"
   ]
  },
  {
   "cell_type": "code",
   "execution_count": 40,
   "id": "1692bb78-5dc1-4ed2-b003-3e9bf3a4994f",
   "metadata": {},
   "outputs": [
    {
     "data": {
      "text/plain": [
       "1.0003761089673018"
      ]
     },
     "execution_count": 40,
     "metadata": {},
     "output_type": "execute_result"
    }
   ],
   "source": [
    "var(r)"
   ]
  },
  {
   "cell_type": "code",
   "execution_count": 41,
   "id": "fdd5121c-8cfc-44b7-8ef5-4a9e619185ad",
   "metadata": {},
   "outputs": [
    {
     "data": {
      "text/plain": [
       "True"
      ]
     },
     "execution_count": 41,
     "metadata": {},
     "output_type": "execute_result"
    }
   ],
   "source": [
    "np.allclose(r.var(), var(r))"
   ]
  },
  {
   "cell_type": "code",
   "execution_count": 42,
   "id": "f9016797-e4df-4870-9ce2-08f85be52c48",
   "metadata": {},
   "outputs": [
    {
     "data": {
      "text/plain": [
       "True"
      ]
     },
     "execution_count": 42,
     "metadata": {},
     "output_type": "execute_result"
    }
   ],
   "source": [
    "np.allclose(r.var(ddof=1), var(r, ddof=1))"
   ]
  },
  {
   "cell_type": "code",
   "execution_count": 43,
   "id": "fdb95335-84f3-4fa3-a6eb-2aa83bc2d057",
   "metadata": {},
   "outputs": [],
   "source": [
    "def std(x, ddof=0):\n",
    "    return np.sqrt(var(x=x, ddof=ddof))"
   ]
  },
  {
   "cell_type": "code",
   "execution_count": 44,
   "id": "12cd88f1-8e69-4fa5-9cd1-03751ec4ca8f",
   "metadata": {},
   "outputs": [
    {
     "data": {
      "text/plain": [
       "1.000188036804731"
      ]
     },
     "execution_count": 44,
     "metadata": {},
     "output_type": "execute_result"
    }
   ],
   "source": [
    "r.std()"
   ]
  },
  {
   "cell_type": "code",
   "execution_count": 45,
   "id": "8b7f07a1-686c-415f-9c88-e302f390d341",
   "metadata": {},
   "outputs": [
    {
     "data": {
      "text/plain": [
       "1.000188036804731"
      ]
     },
     "execution_count": 45,
     "metadata": {},
     "output_type": "execute_result"
    }
   ],
   "source": [
    "std(r)"
   ]
  },
  {
   "cell_type": "code",
   "execution_count": 46,
   "id": "ba4ea3ae-6252-4884-a92f-a0c7ab25ad23",
   "metadata": {},
   "outputs": [
    {
     "data": {
      "text/plain": [
       "True"
      ]
     },
     "execution_count": 46,
     "metadata": {},
     "output_type": "execute_result"
    }
   ],
   "source": [
    "np.allclose(r.std(), std(r))"
   ]
  },
  {
   "cell_type": "code",
   "execution_count": 47,
   "id": "1cdd0b4e-1d30-4693-b4d8-d6fcce90763b",
   "metadata": {},
   "outputs": [
    {
     "data": {
      "text/plain": [
       "True"
      ]
     },
     "execution_count": 47,
     "metadata": {},
     "output_type": "execute_result"
    }
   ],
   "source": [
    "np.allclose(r.std(ddof=1), std(r, ddof=1))"
   ]
  }
 ],
 "metadata": {
  "author": "Richard Herron",
  "kernelspec": {
   "display_name": "Python 3 (ipykernel)",
   "language": "python",
   "name": "python3"
  },
  "language_info": {
   "codemirror_mode": {
    "name": "ipython",
    "version": 3
   },
   "file_extension": ".py",
   "mimetype": "text/x-python",
   "name": "python",
   "nbconvert_exporter": "python",
   "pygments_lexer": "ipython3",
   "version": "3.9.13"
  },
  "title": "McKinney Chapter 4 - Practice"
 },
 "nbformat": 4,
 "nbformat_minor": 5
}
