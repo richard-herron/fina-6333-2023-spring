{
 "cells": [
  {
   "cell_type": "code",
   "execution_count": null,
   "id": "f83af921",
   "metadata": {
    "deletable": false,
    "editable": false
   },
   "outputs": [],
   "source": [
    "# Initialize Otter\n",
    "import otter\n",
    "grader = otter.Notebook(\"quiz_02.ipynb\")"
   ]
  },
  {
   "cell_type": "markdown",
   "id": "322df2d5",
   "metadata": {},
   "source": [
    "# Quiz 2"
   ]
  },
  {
   "cell_type": "markdown",
   "id": "077d76ab",
   "metadata": {},
   "source": [
    "## Instructions\n",
    "\n",
    "1. After you answer a question, you should run its public tests.\n",
    "1. After you answer every question, you should:\n",
    "    1. Restart your kernel and clear all output\n",
    "    1. Run up to the last cell\n",
    "    1. Save your notebook\n",
    "    1. Run the last cell to create a .zip file for Gradescope\n",
    "    1. Upload this .zip file to Gradescope\n",
    "    1. ***Make sure your local autograder results match your Gradescope autograder results***\n",
    "1. This quiz has public and hidden tests:\n",
    "    1. Public tests check your answers for correct types and shapes but may not completely check your answers\n",
    "    1. Hidden tests completely check your answers but will not be available until after the due date\n",
    "1. You may ask technical questions on Canvas Discussions, but the quiz is an individual effort."
   ]
  },
  {
   "cell_type": "markdown",
   "id": "320ff225",
   "metadata": {},
   "source": [
    "## Packages and Settings"
   ]
  },
  {
   "cell_type": "code",
   "execution_count": null,
   "id": "7d1e3dd9",
   "metadata": {},
   "outputs": [],
   "source": [
    "import numpy as np\n",
    "%precision 4"
   ]
  },
  {
   "cell_type": "markdown",
   "id": "342aea99",
   "metadata": {},
   "source": [
    "## Questions"
   ]
  },
  {
   "cell_type": "markdown",
   "id": "4c5c6565",
   "metadata": {
    "tags": []
   },
   "source": [
    "### Question 1"
   ]
  },
  {
   "cell_type": "markdown",
   "id": "6c6ea783",
   "metadata": {},
   "source": [
    "Write a function `npv()` that calculates the net present value of a NumPy array of cashflows given a discount rate.\n",
    "Assume the following:\n",
    "\n",
    "1. Argument `c` is a NumPy array of annual cash flows, starting at $t=0$\n",
    "1. Argument `r` is a float of the annual discount rate as a decimal (i.e., `r=0.1` indicates $r=10\\%$)\n",
    "\n",
    "***Note: This question has 1 hidden test worth a total of 20 points.***\n",
    "\n",
    "_Points:_ 50"
   ]
  },
  {
   "cell_type": "code",
   "execution_count": null,
   "id": "442cfe04",
   "metadata": {
    "tags": []
   },
   "outputs": [],
   "source": [
    "def npv(c, r):\n",
    "    ..."
   ]
  },
  {
   "cell_type": "code",
   "execution_count": null,
   "id": "2eb9ebf0",
   "metadata": {
    "deletable": false,
    "editable": false
   },
   "outputs": [],
   "source": [
    "grader.check(\"q1\")"
   ]
  },
  {
   "cell_type": "markdown",
   "id": "b9acb084",
   "metadata": {
    "tags": []
   },
   "source": [
    "### Question 2"
   ]
  },
  {
   "cell_type": "markdown",
   "id": "eae26420",
   "metadata": {},
   "source": [
    "Write a function `totret()` that calculates the total return of a NumPy array of returns.\n",
    "Assume the following:\n",
    "\n",
    "1. Argument `r` is a NumPy array of decimal returns (i.e., `r`=0.1 indicates $r=10\\%$ and $r > -100\\%$ for all $r$)\n",
    "1. Function `totret()` should return total return as a decimal\n",
    "\n",
    "***Note: This question has 2 hidden tests worth a total of 20 points.***\n",
    "\n",
    "_Points:_ 50"
   ]
  },
  {
   "cell_type": "code",
   "execution_count": null,
   "id": "005408a0",
   "metadata": {
    "tags": []
   },
   "outputs": [],
   "source": [
    "def totret(r):\n",
    "    ..."
   ]
  },
  {
   "cell_type": "code",
   "execution_count": null,
   "id": "266a2c20",
   "metadata": {
    "deletable": false,
    "editable": false
   },
   "outputs": [],
   "source": [
    "grader.check(\"q2\")"
   ]
  },
  {
   "cell_type": "markdown",
   "id": "8d258570",
   "metadata": {
    "deletable": false,
    "editable": false
   },
   "source": [
    "## Submission\n",
    "\n",
    "Make sure you have run all cells in your notebook in order before running the cell below, so that all images/graphs appear in the output. The cell below will generate a zip file for you to submit. **Please save before exporting!**"
   ]
  },
  {
   "cell_type": "code",
   "execution_count": null,
   "id": "4f81e9a2",
   "metadata": {
    "deletable": false,
    "editable": false
   },
   "outputs": [],
   "source": [
    "# Save your notebook first, then run this cell to export your submission.\n",
    "grader.export(pdf=False, run_tests=True)"
   ]
  },
  {
   "cell_type": "markdown",
   "id": "d6aa1261",
   "metadata": {},
   "source": [
    " "
   ]
  }
 ],
 "metadata": {
  "kernelspec": {
   "display_name": "Python 3 (ipykernel)",
   "language": "python",
   "name": "python3"
  },
  "language_info": {
   "codemirror_mode": {
    "name": "ipython",
    "version": 3
   },
   "file_extension": ".py",
   "mimetype": "text/x-python",
   "name": "python",
   "nbconvert_exporter": "python",
   "pygments_lexer": "ipython3",
   "version": "3.9.13"
  },
  "otter": {
   "OK_FORMAT": true,
   "tests": {
    "q1": {
     "name": "q1",
     "points": 50,
     "suites": [
      {
       "cases": [
        {
         "code": ">>> callable(npv)\nTrue",
         "failure_message": "npv should be a function (+0 pts)",
         "hidden": false,
         "locked": false,
         "points": 15,
         "success_message": "npv is a function (+15 pts)"
        },
        {
         "code": ">>> np.allclose(npv(c=np.array([-100, 110]), r=0.1), 0)\nTrue",
         "failure_message": "NPV should be zero if C0=-100, C1=110, and r=10% (+0 pts)",
         "hidden": false,
         "locked": false,
         "points": 15,
         "success_message": "NPV is zero if C0=-100, C1=110, and r=10% (+15 pts)"
        }
       ],
       "scored": true,
       "setup": "",
       "teardown": "",
       "type": "doctest"
      }
     ]
    },
    "q2": {
     "name": "q2",
     "points": 50,
     "suites": [
      {
       "cases": [
        {
         "code": ">>> callable(totret)\nTrue",
         "failure_message": "totret should be a function (+0 pts)",
         "hidden": false,
         "locked": false,
         "points": 15,
         "success_message": "totret is a function (+15 pts)"
        },
        {
         "code": ">>> np.allclose(totret(r=np.zeros(2)), 0)\nTrue",
         "failure_message": "total return should be zero if R1=0% and R2=0% (+0 pts)",
         "hidden": false,
         "locked": false,
         "points": 15,
         "success_message": "total return is zero if R1=0% and R2=0% (+15 pts)"
        }
       ],
       "scored": true,
       "setup": "",
       "teardown": "",
       "type": "doctest"
      }
     ]
    }
   }
  }
 },
 "nbformat": 4,
 "nbformat_minor": 5
}