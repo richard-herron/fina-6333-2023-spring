{
 "cells": [
  {
   "cell_type": "markdown",
   "id": "e1ac131b-4292-4bd1-860b-de2f34443775",
   "metadata": {},
   "source": [
    "# McKinney Chapter 3 - Practice (Section 4, Wednesday 11:45 AM)"
   ]
  },
  {
   "cell_type": "markdown",
   "id": "361f37a2-2909-45ee-8c04-4a7352be950b",
   "metadata": {},
   "source": [
    "## Practice"
   ]
  },
  {
   "cell_type": "markdown",
   "id": "280ff089-3829-41e3-b0e3-7ef0a99b1616",
   "metadata": {},
   "source": [
    "### Swap the values assigned to `a` and `b` using a third variable `c`."
   ]
  },
  {
   "cell_type": "code",
   "execution_count": 1,
   "id": "a22cba23-1523-4c48-b40b-810508cce9be",
   "metadata": {
    "tags": []
   },
   "outputs": [],
   "source": [
    "a = 1"
   ]
  },
  {
   "cell_type": "code",
   "execution_count": 2,
   "id": "0a8775c5-a019-44fd-bc32-21563c1fb5f8",
   "metadata": {},
   "outputs": [],
   "source": [
    "b = 2"
   ]
  },
  {
   "cell_type": "code",
   "execution_count": 3,
   "id": "8994d543-550f-471f-b7f6-3c2f4834ed92",
   "metadata": {},
   "outputs": [
    {
     "name": "stdout",
     "output_type": "stream",
     "text": [
      "a is 1 and b is 2\n"
     ]
    }
   ],
   "source": [
    "print(f'a is {a} and b is {b}')"
   ]
  },
  {
   "cell_type": "code",
   "execution_count": 4,
   "id": "f2be3a84-c95f-4417-aa35-dbae4923ed74",
   "metadata": {},
   "outputs": [],
   "source": [
    "c = a"
   ]
  },
  {
   "cell_type": "code",
   "execution_count": 5,
   "id": "7e3d2581-51a2-497d-ba68-4553ad738ba9",
   "metadata": {},
   "outputs": [
    {
     "data": {
      "text/plain": [
       "True"
      ]
     },
     "execution_count": 5,
     "metadata": {},
     "output_type": "execute_result"
    }
   ],
   "source": [
    "c == a"
   ]
  },
  {
   "cell_type": "code",
   "execution_count": 6,
   "id": "43b94084-885c-465f-8e8f-d27cba3c679d",
   "metadata": {},
   "outputs": [
    {
     "data": {
      "text/plain": [
       "True"
      ]
     },
     "execution_count": 6,
     "metadata": {},
     "output_type": "execute_result"
    }
   ],
   "source": [
    "c is a"
   ]
  },
  {
   "cell_type": "code",
   "execution_count": 7,
   "id": "d4338dba-1143-4dd5-a114-cbc7acca1a66",
   "metadata": {},
   "outputs": [],
   "source": [
    "a = b"
   ]
  },
  {
   "cell_type": "code",
   "execution_count": 8,
   "id": "8c1f9f7a-fcdb-49c8-b5e9-5ee8f2c8fc7d",
   "metadata": {},
   "outputs": [],
   "source": [
    "b = c"
   ]
  },
  {
   "cell_type": "code",
   "execution_count": 9,
   "id": "ebf6ba94-139b-4a0c-ab06-6689b0931996",
   "metadata": {},
   "outputs": [
    {
     "name": "stdout",
     "output_type": "stream",
     "text": [
      "a is 2 and b is 1\n"
     ]
    }
   ],
   "source": [
    "print(f'a is {a} and b is {b}')"
   ]
  },
  {
   "cell_type": "code",
   "execution_count": 10,
   "id": "26228ddb-b188-437a-a349-151fed6e2269",
   "metadata": {},
   "outputs": [
    {
     "name": "stdout",
     "output_type": "stream",
     "text": [
      "a\t b\t c\t \n"
     ]
    }
   ],
   "source": [
    "%who"
   ]
  },
  {
   "cell_type": "code",
   "execution_count": 11,
   "id": "83c650fc-0bbd-49ce-a08e-e9a4b113cc84",
   "metadata": {},
   "outputs": [],
   "source": [
    "del c"
   ]
  },
  {
   "cell_type": "code",
   "execution_count": 12,
   "id": "197a0814-aecf-4d40-86b6-04e12f87fe67",
   "metadata": {},
   "outputs": [
    {
     "name": "stdout",
     "output_type": "stream",
     "text": [
      "a\t b\t \n"
     ]
    }
   ],
   "source": [
    "%who"
   ]
  },
  {
   "cell_type": "markdown",
   "id": "04886f77-e0ae-4ab0-9263-2f0c36b8b4df",
   "metadata": {},
   "source": [
    "### Swap the values assigned to `a` and `b` ***without*** using a third variable `c`."
   ]
  },
  {
   "cell_type": "code",
   "execution_count": 13,
   "id": "e33d50f8-058d-4d67-9417-8368850095bc",
   "metadata": {},
   "outputs": [],
   "source": [
    "a = 1"
   ]
  },
  {
   "cell_type": "code",
   "execution_count": 14,
   "id": "37d89945-9f46-4714-be16-2690635de314",
   "metadata": {},
   "outputs": [],
   "source": [
    "b = 2"
   ]
  },
  {
   "cell_type": "code",
   "execution_count": 15,
   "id": "3b56763e-ec42-4599-8234-c5055403118d",
   "metadata": {},
   "outputs": [
    {
     "name": "stdout",
     "output_type": "stream",
     "text": [
      "a is 1 and b is 2\n"
     ]
    }
   ],
   "source": [
    "print(f'a is {a} and b is {b}')"
   ]
  },
  {
   "cell_type": "code",
   "execution_count": 16,
   "id": "168f47aa-56ec-4fb4-9849-2c3a8f11aa33",
   "metadata": {},
   "outputs": [
    {
     "data": {
      "text/plain": [
       "tuple"
      ]
     },
     "execution_count": 16,
     "metadata": {},
     "output_type": "execute_result"
    }
   ],
   "source": [
    "type((a, b))"
   ]
  },
  {
   "cell_type": "code",
   "execution_count": 17,
   "id": "c0ac57fe-68d6-43ea-82a1-25f309c27398",
   "metadata": {},
   "outputs": [],
   "source": [
    "b, a = a, b"
   ]
  },
  {
   "cell_type": "code",
   "execution_count": 18,
   "id": "5b4b98c8-6677-4f79-bc1c-3b8a7cdbebb5",
   "metadata": {},
   "outputs": [
    {
     "name": "stdout",
     "output_type": "stream",
     "text": [
      "a is 2 and b is 1\n"
     ]
    }
   ],
   "source": [
    "print(f'a is {a} and b is {b}')"
   ]
  },
  {
   "cell_type": "markdown",
   "id": "090450f0-6545-496e-8a5f-6e5fa6e35b80",
   "metadata": {},
   "source": [
    "### What is the output of the following code and why?"
   ]
  },
  {
   "cell_type": "code",
   "execution_count": 19,
   "id": "9192768a-4698-4fc7-b290-2db416c8ea41",
   "metadata": {},
   "outputs": [
    {
     "data": {
      "text/plain": [
       "False"
      ]
     },
     "execution_count": 19,
     "metadata": {},
     "output_type": "execute_result"
    }
   ],
   "source": [
    "1 == (1, 1, 1)"
   ]
  },
  {
   "cell_type": "code",
   "execution_count": 20,
   "id": "aea8772f-75ac-4979-9204-0b8978549c7d",
   "metadata": {},
   "outputs": [
    {
     "data": {
      "text/plain": [
       "(1, 1, False)"
      ]
     },
     "execution_count": 20,
     "metadata": {},
     "output_type": "execute_result"
    }
   ],
   "source": [
    "1, 1, 1 == (1, 1, 1)"
   ]
  },
  {
   "cell_type": "code",
   "execution_count": 21,
   "id": "b3cfdd28-8585-4c1c-855f-f9961e856bae",
   "metadata": {},
   "outputs": [
    {
     "data": {
      "text/plain": [
       "(1, False)"
      ]
     },
     "execution_count": 21,
     "metadata": {},
     "output_type": "execute_result"
    }
   ],
   "source": [
    "1, 1 == (1, 1, 1)"
   ]
  },
  {
   "cell_type": "code",
   "execution_count": 22,
   "id": "8d30445a-8c27-4c91-b6eb-52f60166c856",
   "metadata": {},
   "outputs": [
    {
     "data": {
      "text/plain": [
       "True"
      ]
     },
     "execution_count": 22,
     "metadata": {},
     "output_type": "execute_result"
    }
   ],
   "source": [
    "(1, 1, 1) == (1, 1, 1)"
   ]
  },
  {
   "cell_type": "code",
   "execution_count": 23,
   "id": "799245b8-91e7-42a0-b004-c72bbf7c2946",
   "metadata": {},
   "outputs": [
    {
     "data": {
      "text/plain": [
       "(False, 1, 1)"
      ]
     },
     "execution_count": 23,
     "metadata": {},
     "output_type": "execute_result"
    }
   ],
   "source": [
    "(1, 1, 1) == 1, 1, 1"
   ]
  },
  {
   "cell_type": "code",
   "execution_count": 24,
   "id": "3bd86f44-5072-4d93-a727-7fd7984a19a3",
   "metadata": {},
   "outputs": [
    {
     "data": {
      "text/plain": [
       "(1, 1, True, 1, 1)"
      ]
     },
     "execution_count": 24,
     "metadata": {},
     "output_type": "execute_result"
    }
   ],
   "source": [
    "1, 1, 1 == 1, 1, 1"
   ]
  },
  {
   "cell_type": "markdown",
   "id": "14746ac1-7e63-4673-a0ee-7eefc66838e1",
   "metadata": {},
   "source": [
    "### Create a list `l1` of integers from 1 to 100."
   ]
  },
  {
   "cell_type": "code",
   "execution_count": 25,
   "id": "20bca471-e380-47e2-aca5-60ab19f9b8eb",
   "metadata": {},
   "outputs": [
    {
     "name": "stdout",
     "output_type": "stream",
     "text": [
      "[1, 2, 3, 4, 5, 6, 7, 8, 9, 10, 11, 12, 13, 14, 15, 16, 17, 18, 19, 20, 21, 22, 23, 24, 25, 26, 27, 28, 29, 30, 31, 32, 33, 34, 35, 36, 37, 38, 39, 40, 41, 42, 43, 44, 45, 46, 47, 48, 49, 50, 51, 52, 53, 54, 55, 56, 57, 58, 59, 60, 61, 62, 63, 64, 65, 66, 67, 68, 69, 70, 71, 72, 73, 74, 75, 76, 77, 78, 79, 80, 81, 82, 83, 84, 85, 86, 87, 88, 89, 90, 91, 92, 93, 94, 95, 96, 97, 98, 99, 100]\n"
     ]
    }
   ],
   "source": [
    "l1 = list(range(1, 101))\n",
    "print(l1)"
   ]
  },
  {
   "cell_type": "code",
   "execution_count": 26,
   "id": "39966aef-8b90-4fd9-9e0b-8d5de2bfb387",
   "metadata": {},
   "outputs": [
    {
     "data": {
      "text/plain": [
       "[1, 2, 3, 4, 5]"
      ]
     },
     "execution_count": 26,
     "metadata": {},
     "output_type": "execute_result"
    }
   ],
   "source": [
    "l1[:5] "
   ]
  },
  {
   "cell_type": "code",
   "execution_count": 27,
   "id": "efdb38ad-83d2-4523-8653-78e88f0fe3e5",
   "metadata": {},
   "outputs": [
    {
     "data": {
      "text/plain": [
       "[6, 7, 8, 9, 10]"
      ]
     },
     "execution_count": 27,
     "metadata": {},
     "output_type": "execute_result"
    }
   ],
   "source": [
    "l1[5:10]"
   ]
  },
  {
   "cell_type": "markdown",
   "id": "8c8cc667-78cf-4628-921d-10c96888e48c",
   "metadata": {},
   "source": [
    "### Slice `l1` to create a list of integers from 60 to 50 (inclusive)."
   ]
  },
  {
   "cell_type": "markdown",
   "id": "ef01b44c-b1b0-4a04-b682-b4919c095c36",
   "metadata": {},
   "source": [
    "Name this list `l2`."
   ]
  },
  {
   "cell_type": "code",
   "execution_count": 28,
   "id": "8fb7c8f5-9a04-4af9-98f2-d38dc14326bf",
   "metadata": {},
   "outputs": [
    {
     "name": "stdout",
     "output_type": "stream",
     "text": [
      "[60, 59, 58, 57, 56, 55, 54, 53, 52, 51, 50]\n"
     ]
    }
   ],
   "source": [
    "l2 = l1[49:60]\n",
    "l2.sort(reverse=True)\n",
    "print(l2)"
   ]
  },
  {
   "cell_type": "code",
   "execution_count": 29,
   "id": "6b58d183-f57f-4f1c-a2d7-945c11e44166",
   "metadata": {},
   "outputs": [
    {
     "data": {
      "text/plain": [
       "[60, 59, 58, 57, 56, 55, 54, 53, 52, 51, 50]"
      ]
     },
     "execution_count": 29,
     "metadata": {},
     "output_type": "execute_result"
    }
   ],
   "source": [
    "l1[59:48:-1]"
   ]
  },
  {
   "cell_type": "code",
   "execution_count": 30,
   "id": "0dafbc17-aada-4d9e-845b-6735ae8acd97",
   "metadata": {},
   "outputs": [
    {
     "data": {
      "text/plain": [
       "[60, 59, 58, 57, 56, 55, 54, 53, 52, 51, 50]"
      ]
     },
     "execution_count": 30,
     "metadata": {},
     "output_type": "execute_result"
    }
   ],
   "source": [
    "l1[49:60][::-1]"
   ]
  },
  {
   "cell_type": "code",
   "execution_count": 31,
   "id": "1932281f-910e-4f0c-9429-4001b837d1b9",
   "metadata": {},
   "outputs": [
    {
     "data": {
      "text/plain": [
       "[60, 59, 58, 57, 56, 55, 54, 53, 52, 51, 50]"
      ]
     },
     "execution_count": 31,
     "metadata": {},
     "output_type": "execute_result"
    }
   ],
   "source": [
    "l2 = l1[49:60]\n",
    "l2.reverse()\n",
    "l2"
   ]
  },
  {
   "cell_type": "markdown",
   "id": "230d0817-c32b-4448-9052-f2128240549e",
   "metadata": {},
   "source": [
    "### Create a list `l3` of odd integers from 1 to 21."
   ]
  },
  {
   "cell_type": "code",
   "execution_count": 32,
   "id": "a07afdc8-3597-46df-a025-7140fd816825",
   "metadata": {},
   "outputs": [
    {
     "data": {
      "text/plain": [
       "[1, 3, 5, 7, 9, 11, 13, 15, 17, 19, 21]"
      ]
     },
     "execution_count": 32,
     "metadata": {},
     "output_type": "execute_result"
    }
   ],
   "source": [
    "list(range(1, 22, 2))"
   ]
  },
  {
   "cell_type": "code",
   "execution_count": 33,
   "id": "1eef033b-121b-44a7-b4cb-7ff8e71d074d",
   "metadata": {},
   "outputs": [
    {
     "data": {
      "text/plain": [
       "[1, 3, 5, 7, 9, 11, 13, 15, 17, 19, 21]"
      ]
     },
     "execution_count": 33,
     "metadata": {},
     "output_type": "execute_result"
    }
   ],
   "source": [
    "l1[0:21:2]"
   ]
  },
  {
   "cell_type": "markdown",
   "id": "f1d41431-74bd-41c7-8e41-e14f7c4189fe",
   "metadata": {},
   "source": [
    "### Create a list `l4` of the squares of integers from 1 to 100."
   ]
  },
  {
   "cell_type": "code",
   "execution_count": 34,
   "id": "c77cbd63-4bc2-416f-92e5-7a3571ba2893",
   "metadata": {},
   "outputs": [],
   "source": [
    "l4 = [x**2 for x in range(1, 101)]"
   ]
  },
  {
   "cell_type": "code",
   "execution_count": 35,
   "id": "6ffa1b13-f8eb-459b-9e77-22df8492889b",
   "metadata": {},
   "outputs": [],
   "source": [
    "l4_quiz1 = []\n",
    "for x in range(1, 101):\n",
    "    l4_quiz1.append(x**2)"
   ]
  },
  {
   "cell_type": "code",
   "execution_count": 36,
   "id": "fee5cce3-2b7f-434a-9545-c13fa806c777",
   "metadata": {},
   "outputs": [
    {
     "data": {
      "text/plain": [
       "True"
      ]
     },
     "execution_count": 36,
     "metadata": {},
     "output_type": "execute_result"
    }
   ],
   "source": [
    "l4 == l4_quiz1"
   ]
  },
  {
   "cell_type": "markdown",
   "id": "eb51a457-4a81-493f-b9b9-ab848a4ff0fa",
   "metadata": {},
   "source": [
    "---\n",
    "New question: Can we use ternary expressions (i.e., inline `if else`) with a list comprehension?\n",
    "\n",
    "I suggest writing a function to make this more obvious, but here is an example.\n",
    "We can try squaring `x` if `x` is even, but cubing `x` if `x` is odd.\n",
    "This case is an excellent application of \"ternary\" statements, which have the form \"TrueValue if True else FalseValue\"."
   ]
  },
  {
   "cell_type": "code",
   "execution_count": 37,
   "id": "4387cfcd-2d6e-4590-9db1-11917c6b2513",
   "metadata": {},
   "outputs": [],
   "source": [
    "l4_new_question = [x**2 if (x%2 == 0) else x**3 for x in range(1, 101)]"
   ]
  },
  {
   "cell_type": "code",
   "execution_count": 38,
   "id": "4a9204dc-7978-4cf8-8053-d965601d30b8",
   "metadata": {},
   "outputs": [
    {
     "name": "stdout",
     "output_type": "stream",
     "text": [
      "[1, 4, 27, 16, 125, 36, 343, 64, 729, 100, 1331, 144, 2197, 196, 3375, 256, 4913, 324, 6859, 400, 9261, 484, 12167, 576, 15625, 676, 19683, 784, 24389, 900, 29791, 1024, 35937, 1156, 42875, 1296, 50653, 1444, 59319, 1600, 68921, 1764, 79507, 1936, 91125, 2116, 103823, 2304, 117649, 2500, 132651, 2704, 148877, 2916, 166375, 3136, 185193, 3364, 205379, 3600, 226981, 3844, 250047, 4096, 274625, 4356, 300763, 4624, 328509, 4900, 357911, 5184, 389017, 5476, 421875, 5776, 456533, 6084, 493039, 6400, 531441, 6724, 571787, 7056, 614125, 7396, 658503, 7744, 704969, 8100, 753571, 8464, 804357, 8836, 857375, 9216, 912673, 9604, 970299, 10000]\n"
     ]
    }
   ],
   "source": [
    "print(l4_new_question)"
   ]
  },
  {
   "cell_type": "markdown",
   "id": "29d61aed-80b2-49eb-9a5a-f61f924cb3ae",
   "metadata": {},
   "source": [
    "---"
   ]
  },
  {
   "cell_type": "markdown",
   "id": "d07ccc33-f6e6-4810-8dfc-5549efb30648",
   "metadata": {},
   "source": [
    "### Create a list `l5` that contains the squares of ***odd*** integers from 1 to 100."
   ]
  },
  {
   "cell_type": "code",
   "execution_count": 39,
   "id": "ffff0ba4-a6b2-4f20-ac53-5c1d950b915f",
   "metadata": {},
   "outputs": [],
   "source": [
    "l5 = [x**2 for x in range(1, 101, 2)]"
   ]
  },
  {
   "cell_type": "code",
   "execution_count": 40,
   "id": "38fce8f8-8137-44fa-87c5-e5973bb085be",
   "metadata": {},
   "outputs": [
    {
     "name": "stdout",
     "output_type": "stream",
     "text": [
      "[1, 9, 25, 49, 81, 121, 169, 225, 289, 361, 441, 529, 625, 729, 841, 961, 1089, 1225, 1369, 1521, 1681, 1849, 2025, 2209, 2401, 2601, 2809, 3025, 3249, 3481, 3721, 3969, 4225, 4489, 4761, 5041, 5329, 5625, 5929, 6241, 6561, 6889, 7225, 7569, 7921, 8281, 8649, 9025, 9409, 9801]\n"
     ]
    }
   ],
   "source": [
    "print(l5)"
   ]
  },
  {
   "cell_type": "code",
   "execution_count": 41,
   "id": "bd352855-f51b-4741-a0c0-516caa1dc7d2",
   "metadata": {},
   "outputs": [],
   "source": [
    "l5_alt = [x**2 for x in range(1, 101) if x%2 != 0]"
   ]
  },
  {
   "cell_type": "code",
   "execution_count": 42,
   "id": "5a352a98-7919-41e8-be6d-3a1ca4dc1f51",
   "metadata": {},
   "outputs": [
    {
     "data": {
      "text/plain": [
       "False"
      ]
     },
     "execution_count": 42,
     "metadata": {},
     "output_type": "execute_result"
    }
   ],
   "source": [
    "l5 == l5_alt[-41]"
   ]
  },
  {
   "cell_type": "markdown",
   "id": "c7ec67de-3972-42ce-873f-40a7aaa57442",
   "metadata": {},
   "source": [
    "### Use a lambda function to sort `strings` by the last letter."
   ]
  },
  {
   "cell_type": "code",
   "execution_count": 43,
   "id": "7faff1c8-e416-4175-bcf9-e26c014e9c78",
   "metadata": {},
   "outputs": [],
   "source": [
    "strings = ['card', 'aaaa', 'foo', 'bar', 'abab']"
   ]
  },
  {
   "cell_type": "code",
   "execution_count": 44,
   "id": "9213bbca-0e3b-466b-931c-d6c012889b72",
   "metadata": {},
   "outputs": [
    {
     "data": {
      "text/plain": [
       "['aaaa', 'abab', 'card', 'foo', 'bar']"
      ]
     },
     "execution_count": 44,
     "metadata": {},
     "output_type": "execute_result"
    }
   ],
   "source": [
    "strings.sort(key=lambda x: x[-1])\n",
    "strings"
   ]
  },
  {
   "cell_type": "markdown",
   "id": "86c5da54-0e9f-4471-b8d5-d29326960ac5",
   "metadata": {},
   "source": [
    "### Given an integer array `nums` and an integer `k`, return the $k^{th}$ largest element in the array."
   ]
  },
  {
   "cell_type": "markdown",
   "id": "18a32df2-94dc-4b2c-8efa-c108d23a105e",
   "metadata": {},
   "source": [
    "Note that it is the $k^{th}$ largest element in the sorted order, not the $k^{th}$ distinct element.\n",
    "\n",
    "Example 1:\n",
    "\n",
    "Input: `nums = [3,2,1,5,6,4]`, `k = 2` \\\n",
    "Output: `5`\n",
    "\n",
    "Example 2:\n",
    "\n",
    "Input: `nums = [3,2,3,1,2,4,5,5,6]`, `k = 4` \\\n",
    "Output: `4`\n",
    "\n",
    "I saw this question on [LeetCode](https://leetcode.com/problems/kth-largest-element-in-an-array/)."
   ]
  },
  {
   "cell_type": "code",
   "execution_count": 45,
   "id": "8cf530dd-88cf-4e2d-9d11-eff9bdb04bbf",
   "metadata": {},
   "outputs": [],
   "source": [
    "def nums(x, k):\n",
    "    x_copy = x.copy()\n",
    "    x_copy.sort()\n",
    "    return x_copy[-k]"
   ]
  },
  {
   "cell_type": "code",
   "execution_count": 46,
   "id": "5ef3c049-4dc9-481f-b085-938bbb281ac9",
   "metadata": {},
   "outputs": [
    {
     "data": {
      "text/plain": [
       "5"
      ]
     },
     "execution_count": 46,
     "metadata": {},
     "output_type": "execute_result"
    }
   ],
   "source": [
    "nums(x=[3,2,1,5,6,4], k=2)"
   ]
  },
  {
   "cell_type": "markdown",
   "id": "59fb9183-8cbd-4e18-9cfd-562a6ee1d37c",
   "metadata": {},
   "source": [
    "### Given an integer array `nums` and an integer `k`, return the `k` most frequent elements. "
   ]
  },
  {
   "cell_type": "markdown",
   "id": "f16ea5ed-5667-401e-855f-bce485671316",
   "metadata": {},
   "source": [
    "You may return the answer in any order.\n",
    "\n",
    "Example 1:\n",
    "\n",
    "Input: `nums = [1,1,1,2,2,3]`, `k = 2` \\\n",
    "Output: `[1,2]`\n",
    "\n",
    "Example 2:\n",
    "\n",
    "Input: `nums = [1]`, `k = 1` \\\n",
    "Output: `[1]`\n",
    "\n",
    "I saw this question on [LeetCode](https://leetcode.com/problems/top-k-frequent-elements/)."
   ]
  },
  {
   "cell_type": "code",
   "execution_count": 47,
   "id": "c22068b4-6577-4f8a-bbab-0bf8fa5ee050",
   "metadata": {},
   "outputs": [],
   "source": [
    "def nums(nums, k):\n",
    "    counts = {}\n",
    "    for n in nums:\n",
    "        if n in counts:\n",
    "            counts[n] += 1\n",
    "        else:\n",
    "            counts[n] = 1\n",
    "    return [x[0] for x in sorted(counts.items(), key=lambda x: x[1], reverse=True)[:k]]\n"
   ]
  },
  {
   "cell_type": "code",
   "execution_count": 48,
   "id": "f68c3dbb-cac5-45fe-8518-e0538d91421d",
   "metadata": {},
   "outputs": [
    {
     "data": {
      "text/plain": [
       "[1, 2]"
      ]
     },
     "execution_count": 48,
     "metadata": {},
     "output_type": "execute_result"
    }
   ],
   "source": [
    "nums(nums=[1,1,1,2,2,3], k=2)"
   ]
  },
  {
   "cell_type": "markdown",
   "id": "8c81e744-5add-4c6f-a035-7e54802b1319",
   "metadata": {},
   "source": [
    "### Test whether the given strings are palindromes."
   ]
  },
  {
   "cell_type": "markdown",
   "id": "b4cd9be1-9f78-417b-ba8d-fedd1d2c6605",
   "metadata": {},
   "source": [
    "Input: `[\"aba\", \"no\"]` \\\n",
    "Output: `[True, False]`"
   ]
  },
  {
   "cell_type": "code",
   "execution_count": 49,
   "id": "28a2ea54-4baa-45d8-ad90-8dfe0e858b62",
   "metadata": {},
   "outputs": [],
   "source": [
    "def is_palindrome(x):\n",
    "    return [list(y) == list(y)[::-1] for y in x]"
   ]
  },
  {
   "cell_type": "code",
   "execution_count": 50,
   "id": "a55b870b-4045-465c-8e8a-1110dd3da197",
   "metadata": {},
   "outputs": [
    {
     "data": {
      "text/plain": [
       "[True, False]"
      ]
     },
     "execution_count": 50,
     "metadata": {},
     "output_type": "execute_result"
    }
   ],
   "source": [
    "is_palindrome([\"aba\", \"no\"])"
   ]
  },
  {
   "cell_type": "markdown",
   "id": "e999107f-269e-4f58-b64d-32c188ae2725",
   "metadata": {},
   "source": [
    "### Write a function `returns()` that accepts lists of prices and dividends and returns a list of returns."
   ]
  },
  {
   "cell_type": "code",
   "execution_count": 51,
   "id": "876346e1-ebea-41e4-a2e1-e9143b67b54b",
   "metadata": {},
   "outputs": [],
   "source": [
    "prices = [100, 150, 100, 50, 100, 150, 100, 150]\n",
    "dividends = [1, 1, 1, 1, 2, 2, 2, 2]"
   ]
  },
  {
   "cell_type": "code",
   "execution_count": 52,
   "id": "68558527-4def-4da9-b24a-21ca886eaac9",
   "metadata": {},
   "outputs": [],
   "source": [
    "def returns(p, d):\n",
    "    rts = [None]\n",
    "    for t in range(1, len(p)): # start at t=1 b/c need 2 prices to calculate a return\n",
    "        pt = p[t]\n",
    "        ptm1 = p[t-1]\n",
    "        dt = d[t]\n",
    "        rt = (pt - ptm1 + dt) / ptm1\n",
    "        rts.append(rt)\n",
    "\n",
    "    return rts"
   ]
  },
  {
   "cell_type": "code",
   "execution_count": 53,
   "id": "ded02311-6dd5-48b5-b6cc-962a72c2782c",
   "metadata": {},
   "outputs": [
    {
     "data": {
      "text/plain": [
       "[None, 0.51, -0.32666666666666666, -0.49, 1.04, 0.52, -0.32, 0.52]"
      ]
     },
     "execution_count": 53,
     "metadata": {},
     "output_type": "execute_result"
    }
   ],
   "source": [
    "returns(p=prices, d=dividends)"
   ]
  },
  {
   "cell_type": "markdown",
   "id": "59f6e878-8cb4-4bf8-8ff1-f883f8581a5d",
   "metadata": {},
   "source": [
    "### Rewrite the function `returns()` so it returns lists of returns, capital gains yields, and dividend yields."
   ]
  },
  {
   "cell_type": "code",
   "execution_count": 54,
   "id": "8dbb2185-4627-447b-a4c8-dfb38ffc396f",
   "metadata": {},
   "outputs": [],
   "source": [
    "def returns(p, d):\n",
    "    rts, cgs, dys = [None], [None], [None]\n",
    "    for t in range(1, len(p)): # start at t=1 b/c need 2 prices to calculate a return\n",
    "        pt = p[t]\n",
    "        ptm1 = p[t-1]\n",
    "        dt = d[t]\n",
    "        dy = dt / ptm1\n",
    "        cg = (pt - ptm1) / ptm1\n",
    "        rt = dy + cg\n",
    "        rts.append(rt)\n",
    "        dys.append(dy)\n",
    "        cgs.append(cg)\n",
    "\n",
    "    return {'rt':rts, 'dy':dys, 'cg':cgs}"
   ]
  },
  {
   "cell_type": "code",
   "execution_count": 55,
   "id": "1f598e8f-b971-4b0a-996a-dfbe4ce80a14",
   "metadata": {},
   "outputs": [
    {
     "data": {
      "text/plain": [
       "{'rt': [None, 0.51, -0.32666666666666666, -0.49, 1.04, 0.52, -0.32, 0.52],\n",
       " 'dy': [None,\n",
       "  0.01,\n",
       "  0.006666666666666667,\n",
       "  0.01,\n",
       "  0.04,\n",
       "  0.02,\n",
       "  0.013333333333333334,\n",
       "  0.02],\n",
       " 'cg': [None,\n",
       "  0.5,\n",
       "  -0.3333333333333333,\n",
       "  -0.5,\n",
       "  1.0,\n",
       "  0.5,\n",
       "  -0.3333333333333333,\n",
       "  0.5]}"
      ]
     },
     "execution_count": 55,
     "metadata": {},
     "output_type": "execute_result"
    }
   ],
   "source": [
    "returns(p=prices, d=dividends)"
   ]
  },
  {
   "cell_type": "markdown",
   "id": "7eb026c8-a42b-4eef-b237-57cade6897ed",
   "metadata": {},
   "source": [
    "### Rescale and shift numbers so that they cover the range `[0, 1]`."
   ]
  },
  {
   "cell_type": "markdown",
   "id": "f89c70d3-70cb-46b6-b554-2fc6ff08ff2a",
   "metadata": {},
   "source": [
    "Input: `[18.5, 17.0, 18.0, 19.0, 18.0]` \\\n",
    "Output: `[0.75, 0.0, 0.5, 1.0, 0.5]`"
   ]
  },
  {
   "cell_type": "code",
   "execution_count": 56,
   "id": "55b81d35-6504-448e-952f-2d15f2a4f94c",
   "metadata": {},
   "outputs": [],
   "source": [
    "numbers = [18.5, 17.0, 18.0, 19.0, 18.0]"
   ]
  },
  {
   "cell_type": "code",
   "execution_count": 57,
   "id": "e2bf6817-8cc5-4b89-8826-bff3fa01b0c3",
   "metadata": {},
   "outputs": [],
   "source": [
    "def rescale(x):\n",
    "    x_min = min(x)\n",
    "    x_max = max(x)\n",
    "    return [(x - x_min) / (x_max - x_min) for x in x]"
   ]
  },
  {
   "cell_type": "code",
   "execution_count": 58,
   "id": "d2f3d693-ddc4-4f91-9c30-dbf4a79b7bc9",
   "metadata": {},
   "outputs": [
    {
     "data": {
      "text/plain": [
       "[0.75, 0.0, 0.5, 1.0, 0.5]"
      ]
     },
     "execution_count": 58,
     "metadata": {},
     "output_type": "execute_result"
    }
   ],
   "source": [
    "rescale(numbers)"
   ]
  }
 ],
 "metadata": {
  "author": "Richard Herron",
  "kernelspec": {
   "display_name": "Python 3 (ipykernel)",
   "language": "python",
   "name": "python3"
  },
  "language_info": {
   "codemirror_mode": {
    "name": "ipython",
    "version": 3
   },
   "file_extension": ".py",
   "mimetype": "text/x-python",
   "name": "python",
   "nbconvert_exporter": "python",
   "pygments_lexer": "ipython3",
   "version": "3.9.13"
  },
  "title": "McKinney Chapter 3 - Practice"
 },
 "nbformat": 4,
 "nbformat_minor": 5
}