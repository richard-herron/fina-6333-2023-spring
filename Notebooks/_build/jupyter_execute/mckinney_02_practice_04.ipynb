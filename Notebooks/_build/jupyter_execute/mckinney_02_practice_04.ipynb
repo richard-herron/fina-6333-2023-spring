{
 "cells": [
  {
   "cell_type": "markdown",
   "id": "84f5567b-2c05-41c7-9cb3-498ecd6e4c00",
   "metadata": {},
   "source": [
    "# McKinney Chapter 2 - Practice (Section 4, Wednesday 11:45 AM)"
   ]
  },
  {
   "cell_type": "markdown",
   "id": "0d94babe-614d-43b3-bf70-70b5b4232989",
   "metadata": {
    "tags": []
   },
   "source": [
    "## Practice"
   ]
  },
  {
   "cell_type": "markdown",
   "id": "81317ccf-710c-421e-b9d3-fc6d81088a55",
   "metadata": {
    "tags": []
   },
   "source": [
    "### Extract the year, month, and day from an integer 8-digit date (i.e., YYYYMMDD format) using `//` (integer division) and `%` (modulo division)."
   ]
  },
  {
   "cell_type": "markdown",
   "id": "8809a156-48dd-4069-b514-8a0f5f0427e0",
   "metadata": {},
   "source": [
    "Try `20080915`."
   ]
  },
  {
   "cell_type": "code",
   "execution_count": 1,
   "id": "4a6a87a1-8c9d-425c-8c8d-2b8cde49411d",
   "metadata": {},
   "outputs": [
    {
     "data": {
      "text/plain": [
       "12.34"
      ]
     },
     "execution_count": 1,
     "metadata": {},
     "output_type": "execute_result"
    }
   ],
   "source": [
    "1234 / 100 # \"regular\" division"
   ]
  },
  {
   "cell_type": "code",
   "execution_count": 2,
   "id": "1258a99b-a2eb-4902-a9f4-097c1d8b4757",
   "metadata": {},
   "outputs": [
    {
     "data": {
      "text/plain": [
       "12"
      ]
     },
     "execution_count": 2,
     "metadata": {},
     "output_type": "execute_result"
    }
   ],
   "source": [
    "1234 // 100 # integer or floor division gives us the integer portion"
   ]
  },
  {
   "cell_type": "code",
   "execution_count": 3,
   "id": "63ab0590-9166-4cc3-9d1d-9f239355e692",
   "metadata": {},
   "outputs": [
    {
     "data": {
      "text/plain": [
       "34"
      ]
     },
     "execution_count": 3,
     "metadata": {},
     "output_type": "execute_result"
    }
   ],
   "source": [
    "1234 % 100 # modulo division gives us the remainder"
   ]
  },
  {
   "cell_type": "code",
   "execution_count": 4,
   "id": "f1abe924-daba-40c2-a3a1-5ac239a306d4",
   "metadata": {},
   "outputs": [],
   "source": [
    "ymd = 20080915"
   ]
  },
  {
   "cell_type": "code",
   "execution_count": 5,
   "id": "b9c7655b-17de-4709-86d5-6deb433e07b6",
   "metadata": {},
   "outputs": [],
   "source": [
    "year = ymd // 10_000"
   ]
  },
  {
   "cell_type": "code",
   "execution_count": 6,
   "id": "06fe4dd6-fe7c-4696-a45c-dcbb2fa08002",
   "metadata": {},
   "outputs": [],
   "source": [
    "month = (ymd % 10_000) // 100"
   ]
  },
  {
   "cell_type": "code",
   "execution_count": 7,
   "id": "ea0f517d-29f5-4b9b-8339-906b0b58fe51",
   "metadata": {},
   "outputs": [],
   "source": [
    "day = ymd % 100"
   ]
  },
  {
   "cell_type": "code",
   "execution_count": 8,
   "id": "7b65ebf7-c31e-48ac-a590-ae88e3fb424c",
   "metadata": {},
   "outputs": [
    {
     "data": {
      "text/plain": [
       "(2008, 9, 15)"
      ]
     },
     "execution_count": 8,
     "metadata": {},
     "output_type": "execute_result"
    }
   ],
   "source": [
    "(year, month, day)"
   ]
  },
  {
   "cell_type": "markdown",
   "id": "3563e4eb-4b0d-46a8-bd3b-fa64bf38f794",
   "metadata": {},
   "source": [
    "### Use your answer above to write a function `date` that accepts an integer 8-digit date argument and returns a tuple of the year, month, and date (e.g., `return (year, month, date)`)."
   ]
  },
  {
   "cell_type": "code",
   "execution_count": 9,
   "id": "b4c180bc-bfe2-417c-b24b-d0e063b70eff",
   "metadata": {},
   "outputs": [],
   "source": [
    "def date(ymd):\n",
    "    year = ymd // 10_000\n",
    "    month = (ymd % 10_000) // 100\n",
    "    day = ymd % 100\n",
    "    return (year, month, day)"
   ]
  },
  {
   "cell_type": "code",
   "execution_count": 10,
   "id": "95f81c5a-fd0e-421e-ac42-d29708401f70",
   "metadata": {},
   "outputs": [
    {
     "data": {
      "text/plain": [
       "(2008, 9, 15)"
      ]
     },
     "execution_count": 10,
     "metadata": {},
     "output_type": "execute_result"
    }
   ],
   "source": [
    "date(ymd=20080915)"
   ]
  },
  {
   "cell_type": "markdown",
   "id": "b531f445-1d33-45b8-af02-7a0191a7dda1",
   "metadata": {},
   "source": [
    "### Rewrite `date` to accept an 8-digit date as an integer or string."
   ]
  },
  {
   "cell_type": "code",
   "execution_count": 11,
   "id": "14a61fb6-9419-4bdc-befd-bbdd1013856c",
   "metadata": {},
   "outputs": [],
   "source": [
    "def date(ymd):\n",
    "    if type(ymd) is str:\n",
    "        ymd = int(ymd)\n",
    "    year = ymd // 10_000\n",
    "    month = (ymd % 10_000) // 100\n",
    "    day = ymd % 100\n",
    "    return (year, month, day)"
   ]
  },
  {
   "cell_type": "code",
   "execution_count": 12,
   "id": "09aaa7cb-6156-40af-b8b7-7e1aaec069fe",
   "metadata": {},
   "outputs": [
    {
     "data": {
      "text/plain": [
       "(2008, 9, 15)"
      ]
     },
     "execution_count": 12,
     "metadata": {},
     "output_type": "execute_result"
    }
   ],
   "source": [
    "date(ymd='20080915')"
   ]
  },
  {
   "cell_type": "markdown",
   "id": "7bd59889-315f-4a3b-938e-967e7f0cb79c",
   "metadata": {},
   "source": [
    "### Finally, rewrite `date` to accept a list of 8-digit dates as integers or strings."
   ]
  },
  {
   "cell_type": "code",
   "execution_count": 13,
   "id": "57c84a7d-8b60-4125-95b3-37256acfd27f",
   "metadata": {},
   "outputs": [],
   "source": [
    "ymds = [20080915, '20080915']"
   ]
  },
  {
   "cell_type": "code",
   "execution_count": 14,
   "id": "9ae04db7-4e8c-456f-8973-78220dc440cf",
   "metadata": {},
   "outputs": [],
   "source": [
    "def date(ymds):\n",
    "    ymds_out = []\n",
    "    if type(ymds) is not list:\n",
    "        ymds = [ymds]\n",
    "    for ymd in ymds:\n",
    "        if type(ymd) is str:\n",
    "            ymd = int(ymd)\n",
    "        year = ymd // 10_000\n",
    "        month = (ymd % 10_000) // 100\n",
    "        day = ymd % 100\n",
    "        ymds_out.append((year, month, day))\n",
    "    return ymds_out"
   ]
  },
  {
   "cell_type": "code",
   "execution_count": 15,
   "id": "9b6a71ae-1477-4f80-9455-b94adadb170c",
   "metadata": {},
   "outputs": [
    {
     "data": {
      "text/plain": [
       "[(2008, 9, 15), (2008, 9, 15)]"
      ]
     },
     "execution_count": 15,
     "metadata": {},
     "output_type": "execute_result"
    }
   ],
   "source": [
    "date(ymds)"
   ]
  },
  {
   "cell_type": "code",
   "execution_count": 16,
   "id": "d5faf399-77c6-4e0f-89a7-ee1e12a16f04",
   "metadata": {},
   "outputs": [
    {
     "data": {
      "text/plain": [
       "[(2008, 9, 15)]"
      ]
     },
     "execution_count": 16,
     "metadata": {},
     "output_type": "execute_result"
    }
   ],
   "source": [
    "date(20080915)"
   ]
  },
  {
   "cell_type": "markdown",
   "id": "4f1f9aae-4ed4-4726-ae9a-cc933f6ae9bc",
   "metadata": {},
   "source": [
    "### Write a for loop that prints the squares of integers from 1 to 10."
   ]
  },
  {
   "cell_type": "code",
   "execution_count": 17,
   "id": "fbbb2775-ea03-4bbf-886c-0d49ab63fe66",
   "metadata": {},
   "outputs": [
    {
     "name": "stdout",
     "output_type": "stream",
     "text": [
      "1 4 9 16 25 36 49 64 81 100 "
     ]
    }
   ],
   "source": [
    "for i in range(1, 11):\n",
    "    print(i**2, end=' ')"
   ]
  },
  {
   "cell_type": "markdown",
   "id": "dffa26f4-6d09-4388-bae3-b85caa1f5f7d",
   "metadata": {},
   "source": [
    "Above, I change the `end` argument from the default '\\n' to ' '.\n",
    "The default '\\n' inserts a new line after value, making the output too long."
   ]
  },
  {
   "cell_type": "markdown",
   "id": "0c9dad3d-a64c-4080-a287-577a71924de4",
   "metadata": {},
   "source": [
    "### Write a for loop that prints the squares of *even* integers from 1 to 10."
   ]
  },
  {
   "cell_type": "code",
   "execution_count": 18,
   "id": "6f2a77c8-61ce-44d1-99f6-7de72780acf4",
   "metadata": {},
   "outputs": [
    {
     "name": "stdout",
     "output_type": "stream",
     "text": [
      "4 16 36 64 100 "
     ]
    }
   ],
   "source": [
    "for i in range(1, 11):\n",
    "    if i % 2 == 0:\n",
    "        print(i**2, end=' ')"
   ]
  },
  {
   "cell_type": "markdown",
   "id": "08285dc6-cacf-4c8d-a35d-552b57967cdd",
   "metadata": {},
   "source": [
    "### Write a for loop that sums the squares of integers from 1 to 10."
   ]
  },
  {
   "cell_type": "code",
   "execution_count": 19,
   "id": "787ebb54-b2fe-4038-b25c-6ed9823d2753",
   "metadata": {},
   "outputs": [],
   "source": [
    "total = 0\n",
    "for i in range(1, 11):\n",
    "    total += i**2"
   ]
  },
  {
   "cell_type": "code",
   "execution_count": 20,
   "id": "40dfd411-cf0e-47dc-b8a3-ac8de0007e9c",
   "metadata": {},
   "outputs": [
    {
     "data": {
      "text/plain": [
       "385"
      ]
     },
     "execution_count": 20,
     "metadata": {},
     "output_type": "execute_result"
    }
   ],
   "source": [
    "total"
   ]
  },
  {
   "cell_type": "markdown",
   "id": "6ad7a573-683a-474c-a83e-1d8a545e9ced",
   "metadata": {},
   "source": [
    "Above, I use `total += i`, which is equivalent to `total = total + i`."
   ]
  },
  {
   "cell_type": "markdown",
   "id": "14cba57b-adc1-45d7-99de-12fd0bf0843e",
   "metadata": {},
   "source": [
    "### Write a for loop that sums the squares of integers from 1 to 10 but stops before the sum exceeds 50."
   ]
  },
  {
   "cell_type": "code",
   "execution_count": 21,
   "id": "f3200099-bc93-4c5c-a3e5-c8c9d04a0e0c",
   "metadata": {},
   "outputs": [],
   "source": [
    "total = 0\n",
    "for i in range(1, 11):\n",
    "    if (total + i**2) > 50:\n",
    "        break\n",
    "    total += i**2"
   ]
  },
  {
   "cell_type": "code",
   "execution_count": 22,
   "id": "0713ce4f-4fdb-4209-aceb-9144d5161f05",
   "metadata": {},
   "outputs": [
    {
     "data": {
      "text/plain": [
       "30"
      ]
     },
     "execution_count": 22,
     "metadata": {},
     "output_type": "execute_result"
    }
   ],
   "source": [
    "total"
   ]
  },
  {
   "cell_type": "markdown",
   "id": "1ecdb727-8b7d-405a-98b7-afd4137f6dc9",
   "metadata": {
    "tags": []
   },
   "source": [
    "### FizzBuzz "
   ]
  },
  {
   "cell_type": "markdown",
   "id": "7540f734-7e14-48f2-9947-4fa08907436c",
   "metadata": {},
   "source": [
    "Write a for loop that prints the numbers from 1 to 100. \n",
    "For multiples of three print \"Fizz\" instead of the number.\n",
    "For multiples of five print \"Buzz\". \n",
    "For numbers that are multiples of both three and five print \"FizzBuzz\".\n",
    "More [here](https://blog.codinghorror.com/why-cant-programmers-program/)."
   ]
  },
  {
   "cell_type": "code",
   "execution_count": 23,
   "id": "3aedbc3d-a8c6-4bb0-8e06-00efca1a3df4",
   "metadata": {},
   "outputs": [
    {
     "data": {
      "text/plain": [
       "False"
      ]
     },
     "execution_count": 23,
     "metadata": {},
     "output_type": "execute_result"
    }
   ],
   "source": [
    "4 % 3 == 0"
   ]
  },
  {
   "cell_type": "code",
   "execution_count": 24,
   "id": "c81cd53a-3290-407f-a23f-57fcc0499192",
   "metadata": {},
   "outputs": [
    {
     "name": "stdout",
     "output_type": "stream",
     "text": [
      "1 2 Fizz 4 Buzz Fizz 7 8 Fizz Buzz 11 Fizz 13 14 FizzBuzz 16 17 Fizz 19 Buzz Fizz 22 23 Fizz Buzz 26 Fizz 28 29 FizzBuzz 31 32 Fizz 34 Buzz Fizz 37 38 Fizz Buzz 41 Fizz 43 44 FizzBuzz 46 47 Fizz 49 Buzz Fizz 52 53 Fizz Buzz 56 Fizz 58 59 FizzBuzz 61 62 Fizz 64 Buzz Fizz 67 68 Fizz Buzz 71 Fizz 73 74 FizzBuzz 76 77 Fizz 79 Buzz Fizz 82 83 Fizz Buzz 86 Fizz 88 89 FizzBuzz 91 92 Fizz 94 Buzz Fizz 97 98 Fizz Buzz "
     ]
    }
   ],
   "source": [
    "for i in range(1, 101):\n",
    "    is_mult_3 = (i % 3 == 0)\n",
    "    is_mult_5 = (i % 5 == 0)\n",
    "    if is_mult_3 and is_mult_5:\n",
    "        print('FizzBuzz', end=' ')\n",
    "    elif is_mult_3:\n",
    "        print('Fizz', end=' ')\n",
    "    elif is_mult_5:\n",
    "        print('Buzz', end=' ')\n",
    "    else:\n",
    "        print(i, end=' ')"
   ]
  },
  {
   "cell_type": "markdown",
   "id": "823a6d21-05a4-494d-aa42-d53c59e6cc77",
   "metadata": {},
   "source": [
    "### Use ternary expressions to make your FizzBuzz code more compact."
   ]
  },
  {
   "cell_type": "code",
   "execution_count": 25,
   "id": "d7782268-2814-49e8-a300-18821efc1493",
   "metadata": {},
   "outputs": [
    {
     "name": "stdout",
     "output_type": "stream",
     "text": [
      "1 2 Fizz 4 Buzz Fizz 7 8 Fizz Buzz 11 Fizz 13 14 FizzBuzz 16 17 Fizz 19 Buzz Fizz 22 23 Fizz Buzz 26 Fizz 28 29 FizzBuzz 31 32 Fizz 34 Buzz Fizz 37 38 Fizz Buzz 41 Fizz 43 44 FizzBuzz 46 47 Fizz 49 Buzz Fizz 52 53 Fizz Buzz 56 Fizz 58 59 FizzBuzz 61 62 Fizz 64 Buzz Fizz 67 68 Fizz Buzz 71 Fizz 73 74 FizzBuzz 76 77 Fizz 79 Buzz Fizz 82 83 Fizz Buzz 86 Fizz 88 89 FizzBuzz 91 92 Fizz 94 Buzz Fizz 97 98 Fizz Buzz "
     ]
    }
   ],
   "source": [
    "for i in range(1, 101):\n",
    "    is_mult_3 = (i % 3 == 0)\n",
    "    is_mult_5 = (i % 5 == 0)\n",
    "    print('Fizz'*is_mult_3 + 'Buzz'*is_mult_5 if is_mult_3 or is_mult_5 else i, end=' ')"
   ]
  },
  {
   "cell_type": "markdown",
   "id": "fe35b8e9-315f-44b0-b132-8fc92bfa4658",
   "metadata": {},
   "source": [
    "The solution above is shorter and uses from neat tricks, but I consider the previous solution easier to read and troubleshoot."
   ]
  },
  {
   "cell_type": "markdown",
   "id": "1d8675e0-0b6a-497c-ab0d-6562c79af0d9",
   "metadata": {},
   "source": [
    "### Triangle"
   ]
  },
  {
   "cell_type": "markdown",
   "id": "3c62a348-8beb-471c-8c6d-052c3224ac84",
   "metadata": {},
   "source": [
    "Write a function `triangle` that accepts a positive integer $N$ and prints a numerical triangle of height $N-1$.\n",
    "For example, `triangle(N=6)` should print:\n",
    "\n",
    "```\n",
    "1\n",
    "22\n",
    "333\n",
    "4444\n",
    "55555\n",
    "```"
   ]
  },
  {
   "cell_type": "code",
   "execution_count": 26,
   "id": "f7ca1995-94f0-4dd5-a2bb-c6636ce1f898",
   "metadata": {},
   "outputs": [],
   "source": [
    "def triangle(N):\n",
    "    for i in range(1, N):\n",
    "        print(str(i) * i)"
   ]
  },
  {
   "cell_type": "code",
   "execution_count": 27,
   "id": "0a7324f8-82a4-4c9f-90a2-dcc4f38adf42",
   "metadata": {},
   "outputs": [
    {
     "name": "stdout",
     "output_type": "stream",
     "text": [
      "1\n",
      "22\n",
      "333\n",
      "4444\n",
      "55555\n"
     ]
    }
   ],
   "source": [
    "triangle(6)"
   ]
  },
  {
   "cell_type": "markdown",
   "id": "cded4e0c-afbb-42df-a6b5-e4fd05b008a0",
   "metadata": {},
   "source": [
    "The solution above works because a multiplying a string by `i` concatenates `i` copies of the string."
   ]
  },
  {
   "cell_type": "code",
   "execution_count": 28,
   "id": "a0a9e1b0-a185-4017-ad34-2252a1263308",
   "metadata": {},
   "outputs": [
    {
     "data": {
      "text/plain": [
       "'TestTestTest'"
      ]
     },
     "execution_count": 28,
     "metadata": {},
     "output_type": "execute_result"
    }
   ],
   "source": [
    "'Test' + 'Test' + 'Test'"
   ]
  },
  {
   "cell_type": "code",
   "execution_count": 29,
   "id": "9e5e0dc4-0dd0-4f64-ad77-b3a896e1cb36",
   "metadata": {},
   "outputs": [
    {
     "data": {
      "text/plain": [
       "'TestTestTest'"
      ]
     },
     "execution_count": 29,
     "metadata": {},
     "output_type": "execute_result"
    }
   ],
   "source": [
    "'Test' * 3"
   ]
  },
  {
   "cell_type": "markdown",
   "id": "6d5e0444-1257-4e82-af43-07983307a05f",
   "metadata": {},
   "source": [
    "### Two Sum"
   ]
  },
  {
   "cell_type": "markdown",
   "id": "7d00f029-f980-49f3-b4b3-3d8bb111b204",
   "metadata": {},
   "source": [
    "Write a function `two_sum` that does the following.\n",
    "\n",
    "Given an array of integers `nums` and an integer `target`, return the indices of the two numbers that add up to target.\n",
    "\n",
    "You may assume that each input would have exactly one solution, and you may not use the same element twice.\n",
    "\n",
    "You can return the answer in any order.\n",
    "\n",
    "Here are some examples:\n",
    "\n",
    "Example 1:\n",
    "\n",
    "Input: `nums = [2,7,11,15]`, `target = 9` \\\n",
    "Output: `[0,1]` \\\n",
    "Explanation: Because `nums[0] + nums[1] == 9`, we return `[0, 1]`.\n",
    "\n",
    "Example 2:\n",
    "\n",
    "Input: `nums = [3,2,4]`, `target = 6` \\\n",
    "Output: `[1,2]` \\\n",
    "\n",
    "Example 3:\n",
    "\n",
    "Input: `nums = [3,3]`, `target = 6` \\\n",
    "Output: `[0,1]` \\\n",
    "\n",
    "I saw this question on [LeetCode](https://leetcode.com/problems/two-sum/description/)."
   ]
  },
  {
   "cell_type": "code",
   "execution_count": 30,
   "id": "ab2c4ee3-7b50-4261-88fd-76c5be9d56a5",
   "metadata": {},
   "outputs": [],
   "source": [
    "def two_sum(nums, target):\n",
    "    for i in range(1, len(nums)):\n",
    "        for j in range(i):\n",
    "            if nums[i] + nums[j] == target:\n",
    "                return [j, i]"
   ]
  },
  {
   "cell_type": "code",
   "execution_count": 31,
   "id": "a840b4aa-7887-4c07-99ff-505e4bdc409c",
   "metadata": {},
   "outputs": [
    {
     "data": {
      "text/plain": [
       "[0, 1]"
      ]
     },
     "execution_count": 31,
     "metadata": {},
     "output_type": "execute_result"
    }
   ],
   "source": [
    "two_sum(nums = [2,7,11,15], target = 9)"
   ]
  },
  {
   "cell_type": "code",
   "execution_count": 32,
   "id": "a9983a07-7411-4f7b-b5b2-48f4d66cc3c4",
   "metadata": {},
   "outputs": [
    {
     "data": {
      "text/plain": [
       "[1, 2]"
      ]
     },
     "execution_count": 32,
     "metadata": {},
     "output_type": "execute_result"
    }
   ],
   "source": [
    "two_sum(nums = [3,2,4], target = 6)"
   ]
  },
  {
   "cell_type": "code",
   "execution_count": 33,
   "id": "bb18745b-8969-47e4-9b4e-8e266c1e0804",
   "metadata": {},
   "outputs": [
    {
     "data": {
      "text/plain": [
       "[0, 1]"
      ]
     },
     "execution_count": 33,
     "metadata": {},
     "output_type": "execute_result"
    }
   ],
   "source": [
    "two_sum(nums = [3,3], target = 6)"
   ]
  },
  {
   "cell_type": "markdown",
   "id": "4f0034b7-e281-40a9-b7e3-706210c6d24b",
   "metadata": {},
   "source": [
    "We can write more efficient code once we learn other data structures in chapter 3 of McKinney!"
   ]
  },
  {
   "cell_type": "markdown",
   "id": "f6d56fb7-e822-4d44-9d24-fe203e2ce414",
   "metadata": {},
   "source": [
    "### Best Time"
   ]
  },
  {
   "cell_type": "markdown",
   "id": "b5297026-9ea9-4d11-b71c-deec577c0ada",
   "metadata": {},
   "source": [
    "Write a function `best_time` that solves the following.\n",
    "\n",
    "You are given an array `prices` where `prices[i]` is the price of a given stock on the $i^{th}$ day.\n",
    "\n",
    "You want to maximize your profit by choosing a single day to buy one stock and choosing a different day in the future to sell that stock.\n",
    "\n",
    "Return the maximum profit you can achieve from this transaction. If you cannot achieve any profit, return 0.\n",
    "\n",
    "Here are some examples:\n",
    "\n",
    "Example 1:\n",
    "\n",
    "Input: `prices = [7,1,5,3,6,4]` \\\n",
    "Output: `5` \\\n",
    "Explanation: Buy on day 2 (price = 1) and sell on day 5 (price = 6), profit = 6-1 = 5.\n",
    "Note that buying on day 2 and selling on day 1 is not allowed because you must buy before you sell.\n",
    "\n",
    "Example 2:\n",
    "\n",
    "Input: `prices = [7,6,4,3,1]` \\\n",
    "Output: `0` \\\n",
    "Explanation: In this case, no transactions are done and the max profit = 0.\n",
    "\n",
    "I saw this question on [LeetCode](https://leetcode.com/problems/best-time-to-buy-and-sell-stock/)."
   ]
  },
  {
   "cell_type": "code",
   "execution_count": 34,
   "id": "5039db45-f879-463d-8a1f-f9b3a740cc3e",
   "metadata": {},
   "outputs": [],
   "source": [
    "def max_profit(prices):\n",
    "        min_price = prices[0]\n",
    "        max_profit = 0\n",
    "        for price in prices:\n",
    "            min_price = price if price < min_price else min_price\n",
    "            profit = price - min_price\n",
    "            max_profit = profit if profit > max_profit else max_profit\n",
    "        return max_profit"
   ]
  },
  {
   "cell_type": "code",
   "execution_count": 35,
   "id": "d350b114-62bd-4032-b2b9-057c97c7f82e",
   "metadata": {},
   "outputs": [
    {
     "data": {
      "text/plain": [
       "5"
      ]
     },
     "execution_count": 35,
     "metadata": {},
     "output_type": "execute_result"
    }
   ],
   "source": [
    "max_profit(prices=[7,1,5,3,6,4])"
   ]
  },
  {
   "cell_type": "code",
   "execution_count": 36,
   "id": "9fa1121c-9ab2-4997-9628-b45e4b3f37fd",
   "metadata": {},
   "outputs": [
    {
     "data": {
      "text/plain": [
       "0"
      ]
     },
     "execution_count": 36,
     "metadata": {},
     "output_type": "execute_result"
    }
   ],
   "source": [
    "max_profit(prices=[7,6,4,3,1])"
   ]
  }
 ],
 "metadata": {
  "author": "Richard Herron",
  "kernelspec": {
   "display_name": "Python 3 (ipykernel)",
   "language": "python",
   "name": "python3"
  },
  "language_info": {
   "codemirror_mode": {
    "name": "ipython",
    "version": 3
   },
   "file_extension": ".py",
   "mimetype": "text/x-python",
   "name": "python",
   "nbconvert_exporter": "python",
   "pygments_lexer": "ipython3",
   "version": "3.9.13"
  },
  "title": "McKinney Chapter 2 - Practice",
  "toc-autonumbering": true
 },
 "nbformat": 4,
 "nbformat_minor": 5
}