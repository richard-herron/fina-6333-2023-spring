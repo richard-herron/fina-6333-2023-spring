{
 "cells": [
  {
   "cell_type": "markdown",
   "id": "84f5567b-2c05-41c7-9cb3-498ecd6e4c00",
   "metadata": {
    "tags": []
   },
   "source": [
    "# McKinney Chapter 2 - Practice (Section 2, Wednesday 2:45 PM)"
   ]
  },
  {
   "cell_type": "markdown",
   "id": "af4e70bb-871f-43b8-aa41-f7aa312e305a",
   "metadata": {
    "tags": []
   },
   "source": [
    "## Practice"
   ]
  },
  {
   "cell_type": "markdown",
   "id": "7373fbfc-3994-4c15-bc09-91e9599291e1",
   "metadata": {
    "tags": []
   },
   "source": [
    "### Extract the year, month, and day from an integer 8-digit date (i.e., YYYYMMDD format) using `//` (integer division) and `%` (modulo division)."
   ]
  },
  {
   "cell_type": "markdown",
   "id": "7539b557-95e1-486a-b4a5-4bdf54ea3507",
   "metadata": {},
   "source": [
    "Try `20080915`."
   ]
  },
  {
   "cell_type": "code",
   "execution_count": 1,
   "id": "949d481e-bfcc-41f8-bbf9-1c018f859f2f",
   "metadata": {},
   "outputs": [
    {
     "data": {
      "text/plain": [
       "12.34"
      ]
     },
     "execution_count": 1,
     "metadata": {},
     "output_type": "execute_result"
    }
   ],
   "source": [
    "1234 / 100"
   ]
  },
  {
   "cell_type": "code",
   "execution_count": 2,
   "id": "a4f8c93a-e0e7-440a-bb16-7d655e052f01",
   "metadata": {},
   "outputs": [
    {
     "data": {
      "text/plain": [
       "12"
      ]
     },
     "execution_count": 2,
     "metadata": {},
     "output_type": "execute_result"
    }
   ],
   "source": [
    "1234 // 100 # // is integer division"
   ]
  },
  {
   "cell_type": "code",
   "execution_count": 3,
   "id": "00fb1c28-541c-4004-908e-a1b2366ee097",
   "metadata": {},
   "outputs": [
    {
     "data": {
      "text/plain": [
       "34"
      ]
     },
     "execution_count": 3,
     "metadata": {},
     "output_type": "execute_result"
    }
   ],
   "source": [
    "1234 % 100 # % is modulo (or remainder) division"
   ]
  },
  {
   "cell_type": "code",
   "execution_count": 4,
   "id": "f9c5fce0-5a49-41ed-845e-3efaf3ff19b9",
   "metadata": {},
   "outputs": [],
   "source": [
    "ymd = 20080915"
   ]
  },
  {
   "cell_type": "code",
   "execution_count": 5,
   "id": "e8f612e7-7d7c-4aaa-b618-b1e3b2f7c79a",
   "metadata": {},
   "outputs": [],
   "source": [
    "year = ymd // 10_000"
   ]
  },
  {
   "cell_type": "code",
   "execution_count": 6,
   "id": "b420e6f3-5e3b-44fb-8e4c-66e05bf146e5",
   "metadata": {},
   "outputs": [],
   "source": [
    "month = (ymd % 10_000) // 100"
   ]
  },
  {
   "cell_type": "code",
   "execution_count": 7,
   "id": "64b42443-0dad-4883-aa7f-0cbeba7f659c",
   "metadata": {},
   "outputs": [],
   "source": [
    "day = ymd % 100"
   ]
  },
  {
   "cell_type": "code",
   "execution_count": 8,
   "id": "643b30c6-4f1b-4dad-b8dd-52e777ff40a9",
   "metadata": {},
   "outputs": [
    {
     "data": {
      "text/plain": [
       "(2008, 9, 15)"
      ]
     },
     "execution_count": 8,
     "metadata": {},
     "output_type": "execute_result"
    }
   ],
   "source": [
    "(year, month, day)"
   ]
  },
  {
   "cell_type": "code",
   "execution_count": 9,
   "id": "d2f4b7d9-4b71-4ee8-8cef-847e6150e789",
   "metadata": {},
   "outputs": [
    {
     "name": "stdout",
     "output_type": "stream",
     "text": [
      "2008 9 15\n"
     ]
    }
   ],
   "source": [
    "print(year, month, day)"
   ]
  },
  {
   "cell_type": "code",
   "execution_count": 10,
   "id": "5f75d945-858b-4ba4-871e-245bfa1b05d3",
   "metadata": {},
   "outputs": [
    {
     "name": "stdout",
     "output_type": "stream",
     "text": [
      "2008/9/15\n"
     ]
    }
   ],
   "source": [
    "print(year, month, day, sep='/')"
   ]
  },
  {
   "cell_type": "code",
   "execution_count": 11,
   "id": "8aebfcc4-8489-4197-80ca-2233dc32c48d",
   "metadata": {},
   "outputs": [
    {
     "name": "stdout",
     "output_type": "stream",
     "text": [
      "year is 2008, month is 9, day is 15\n"
     ]
    }
   ],
   "source": [
    "print(f'year is {year}, month is {month}, day is {day}')"
   ]
  },
  {
   "cell_type": "markdown",
   "id": "be060ebd-93d7-4c2e-b57a-a4ff9a6d2a93",
   "metadata": {
    "tags": []
   },
   "source": [
    "### Use your answer above to write a function `date` that accepts an integer 8-digit date argument and returns a tuple of the year, month, and date (e.g., `return (year, month, date)`)."
   ]
  },
  {
   "cell_type": "code",
   "execution_count": 12,
   "id": "a4967b7f-021b-4e0f-a0b9-bce5a52de474",
   "metadata": {},
   "outputs": [],
   "source": [
    "def date(ymd):\n",
    "    year = ymd // 10_000\n",
    "    month = (ymd % 10_000) // 100\n",
    "    day = ymd % 100\n",
    "    return (year, month, day)"
   ]
  },
  {
   "cell_type": "code",
   "execution_count": 13,
   "id": "ab860def-3a90-4a67-b3dc-e90a56d08973",
   "metadata": {},
   "outputs": [],
   "source": [
    "parsed_date = date(20080915)"
   ]
  },
  {
   "cell_type": "code",
   "execution_count": 14,
   "id": "516b68e7-c177-4ec7-9fcc-f25c82ad5f01",
   "metadata": {},
   "outputs": [
    {
     "data": {
      "text/plain": [
       "(2008, 9, 15)"
      ]
     },
     "execution_count": 14,
     "metadata": {},
     "output_type": "execute_result"
    }
   ],
   "source": [
    "parsed_date"
   ]
  },
  {
   "cell_type": "markdown",
   "id": "89e332f5-1f05-479a-a055-188098f0d9dd",
   "metadata": {},
   "source": [
    "### Rewrite `date` to accept an 8-digit date as an integer or string."
   ]
  },
  {
   "cell_type": "code",
   "execution_count": 15,
   "id": "fb434ddf-6abf-430b-93c9-16b6722df99d",
   "metadata": {},
   "outputs": [],
   "source": [
    "def date(ymd):\n",
    "    if type(ymd) is str:\n",
    "        ymd = int(ymd)\n",
    "    year = ymd // 10_000\n",
    "    month = (ymd % 10_000) // 100\n",
    "    day = ymd % 100\n",
    "    return (year, month, day)"
   ]
  },
  {
   "cell_type": "code",
   "execution_count": 16,
   "id": "8d6bf5da-ec51-4eb8-9ce0-c9d3ac26421b",
   "metadata": {},
   "outputs": [
    {
     "data": {
      "text/plain": [
       "(2008, 9, 15)"
      ]
     },
     "execution_count": 16,
     "metadata": {},
     "output_type": "execute_result"
    }
   ],
   "source": [
    "date('20080915')"
   ]
  },
  {
   "cell_type": "code",
   "execution_count": 17,
   "id": "4a93d148-584a-46b8-af85-893d87e34a1d",
   "metadata": {},
   "outputs": [
    {
     "data": {
      "text/plain": [
       "(2008, 9, 15)"
      ]
     },
     "execution_count": 17,
     "metadata": {},
     "output_type": "execute_result"
    }
   ],
   "source": [
    "date(20080915)"
   ]
  },
  {
   "cell_type": "markdown",
   "id": "7ea1b963-efc2-40ef-b81c-24f0fc4a48d0",
   "metadata": {},
   "source": [
    "### Finally, rewrite `date` to accept a list of 8-digit dates as integers or strings."
   ]
  },
  {
   "cell_type": "markdown",
   "id": "2fbc2118-c430-49ea-ac1a-093f120a61d5",
   "metadata": {},
   "source": [
    "Return a list of tuples of year, month, and date."
   ]
  },
  {
   "cell_type": "code",
   "execution_count": 18,
   "id": "41b5a213-64bd-48eb-a43a-007fa12db67e",
   "metadata": {},
   "outputs": [],
   "source": [
    "ymds = [20080915, '20080916']"
   ]
  },
  {
   "cell_type": "code",
   "execution_count": 19,
   "id": "d319e24e-8246-4cfd-833a-88a183e7c8c0",
   "metadata": {},
   "outputs": [
    {
     "data": {
      "text/plain": [
       "20080915"
      ]
     },
     "execution_count": 19,
     "metadata": {},
     "output_type": "execute_result"
    }
   ],
   "source": [
    "ymds[0]"
   ]
  },
  {
   "cell_type": "code",
   "execution_count": 20,
   "id": "cad965cb-91a1-4c13-a4c2-74dba4691146",
   "metadata": {},
   "outputs": [
    {
     "data": {
      "text/plain": [
       "'20080916'"
      ]
     },
     "execution_count": 20,
     "metadata": {},
     "output_type": "execute_result"
    }
   ],
   "source": [
    "ymds[1]"
   ]
  },
  {
   "cell_type": "code",
   "execution_count": 21,
   "id": "ed20a1da-306d-4024-a2fc-a761ca61907e",
   "metadata": {},
   "outputs": [
    {
     "name": "stdout",
     "output_type": "stream",
     "text": [
      "20080915\n",
      "20080916\n"
     ]
    }
   ],
   "source": [
    "for ymd in ymds:\n",
    "    print(ymd)"
   ]
  },
  {
   "cell_type": "code",
   "execution_count": 22,
   "id": "918785aa-f29e-4bb3-b027-0f333f9a0d4d",
   "metadata": {},
   "outputs": [],
   "source": [
    "def date(ymds):\n",
    "    parsed_dates = []\n",
    "    for ymd in ymds:\n",
    "        if type(ymd) is str:\n",
    "            ymd = int(ymd)\n",
    "        year = ymd // 10_000\n",
    "        month = (ymd % 10_000) // 100\n",
    "        day = ymd % 100\n",
    "        parsed_dates.append((year, month, day))\n",
    "    return parsed_dates"
   ]
  },
  {
   "cell_type": "code",
   "execution_count": 23,
   "id": "ba7202d3-0fe0-4471-be2e-8f4814294f1b",
   "metadata": {},
   "outputs": [
    {
     "data": {
      "text/plain": [
       "[(2008, 9, 15), (2008, 9, 16)]"
      ]
     },
     "execution_count": 23,
     "metadata": {},
     "output_type": "execute_result"
    }
   ],
   "source": [
    "date(ymds=ymds)"
   ]
  },
  {
   "cell_type": "markdown",
   "id": "629e8239-27c2-48f4-ba1c-7e97da177f01",
   "metadata": {},
   "source": [
    "### Write a for loop that prints the squares of integers from 1 to 10."
   ]
  },
  {
   "cell_type": "code",
   "execution_count": 24,
   "id": "44fde448-7658-432d-a4eb-23a7ccfcb655",
   "metadata": {},
   "outputs": [
    {
     "name": "stdout",
     "output_type": "stream",
     "text": [
      "1 4 9 16 25 36 49 64 81 100 "
     ]
    }
   ],
   "source": [
    "for i in range(1, 11):\n",
    "    print(i**2, end=' ')"
   ]
  },
  {
   "cell_type": "markdown",
   "id": "81929c64-45f9-4a9d-8e85-8fc05e59f8fa",
   "metadata": {},
   "source": [
    "Above, I change the `end` argument from the default '\\n' to ' '.\n",
    "The default '\\n' inserts a new line after value, making the output too long."
   ]
  },
  {
   "cell_type": "markdown",
   "id": "a9d5310a-f19a-448e-976f-44ffbecad467",
   "metadata": {},
   "source": [
    "### Write a for loop that prints the squares of *even* integers from 1 to 10."
   ]
  },
  {
   "cell_type": "code",
   "execution_count": 25,
   "id": "53f81ae8-9f14-4065-83f0-afa4b205511d",
   "metadata": {},
   "outputs": [
    {
     "name": "stdout",
     "output_type": "stream",
     "text": [
      "4 16 36 64 100 "
     ]
    }
   ],
   "source": [
    "for i in range(1, 11):\n",
    "    if i % 2 == 0:\n",
    "        print(i**2, end=' ')"
   ]
  },
  {
   "cell_type": "markdown",
   "id": "fca2f010-cd87-4c0f-8a47-c849a8f26cc2",
   "metadata": {},
   "source": [
    "### Write a for loop that sums the squares of integers from 1 to 10."
   ]
  },
  {
   "cell_type": "code",
   "execution_count": 26,
   "id": "4b2264a7-e465-4856-a733-6fd9be36185c",
   "metadata": {},
   "outputs": [],
   "source": [
    "total = 0\n",
    "for i in range(1, 11):\n",
    "    total += i**2"
   ]
  },
  {
   "cell_type": "code",
   "execution_count": 27,
   "id": "71100a17-9e3d-48d2-b568-74c455d53522",
   "metadata": {},
   "outputs": [
    {
     "data": {
      "text/plain": [
       "385"
      ]
     },
     "execution_count": 27,
     "metadata": {},
     "output_type": "execute_result"
    }
   ],
   "source": [
    "total"
   ]
  },
  {
   "cell_type": "markdown",
   "id": "a88197b8-d504-4884-b01b-2325e89a0aa3",
   "metadata": {},
   "source": [
    "Above, I use `total += i`, which is equivalent to `total = total + i`."
   ]
  },
  {
   "cell_type": "markdown",
   "id": "4f59f13f-ba78-4212-bf00-b060756b4320",
   "metadata": {},
   "source": [
    "### Write a for loop that sums the squares of integers from 1 to 10 but stops before the sum exceeds 50."
   ]
  },
  {
   "cell_type": "code",
   "execution_count": 28,
   "id": "5822fef2-84d9-403d-a747-44b768c57514",
   "metadata": {},
   "outputs": [],
   "source": [
    "total = 0\n",
    "for i in range(1, 11):\n",
    "    if (total + i**2) > 50:\n",
    "        break\n",
    "    total += i**2"
   ]
  },
  {
   "cell_type": "code",
   "execution_count": 29,
   "id": "9a1dfedf-752c-46c8-b74c-3285623f8c52",
   "metadata": {},
   "outputs": [
    {
     "data": {
      "text/plain": [
       "30"
      ]
     },
     "execution_count": 29,
     "metadata": {},
     "output_type": "execute_result"
    }
   ],
   "source": [
    "total"
   ]
  },
  {
   "cell_type": "markdown",
   "id": "754dfb1e-228a-4b17-a232-b5cea8f6885f",
   "metadata": {
    "tags": []
   },
   "source": [
    "### FizzBuzz "
   ]
  },
  {
   "cell_type": "markdown",
   "id": "8fffdd3e-8f23-4610-a677-7fad71db15d5",
   "metadata": {},
   "source": [
    "Write a for loop that prints the numbers from 1 to 100. \n",
    "For multiples of three print \"Fizz\" instead of the number.\n",
    "For multiples of five print \"Buzz\". \n",
    "For numbers that are multiples of both three and five print \"FizzBuzz\".\n",
    "More [here](https://blog.codinghorror.com/why-cant-programmers-program/)."
   ]
  },
  {
   "cell_type": "code",
   "execution_count": 30,
   "id": "3d7b6793-981c-4a9d-baba-5d99bf031be6",
   "metadata": {},
   "outputs": [
    {
     "data": {
      "text/plain": [
       "True"
      ]
     },
     "execution_count": 30,
     "metadata": {},
     "output_type": "execute_result"
    }
   ],
   "source": [
    "6 % 3 == 0"
   ]
  },
  {
   "cell_type": "code",
   "execution_count": 31,
   "id": "e0b1e0fb-f88e-4126-9857-45e1b395e9f7",
   "metadata": {},
   "outputs": [
    {
     "name": "stdout",
     "output_type": "stream",
     "text": [
      "1 2 Fizz 4 Buzz Fizz 7 8 Fizz Buzz 11 Fizz 13 14 FizzBuzz 16 17 Fizz 19 Buzz Fizz 22 23 Fizz Buzz 26 Fizz 28 29 FizzBuzz 31 32 Fizz 34 Buzz Fizz 37 38 Fizz Buzz 41 Fizz 43 44 FizzBuzz 46 47 Fizz 49 Buzz Fizz 52 53 Fizz Buzz 56 Fizz 58 59 FizzBuzz 61 62 Fizz 64 Buzz Fizz 67 68 Fizz Buzz 71 Fizz 73 74 FizzBuzz 76 77 Fizz 79 Buzz Fizz 82 83 Fizz Buzz 86 Fizz 88 89 FizzBuzz 91 92 Fizz 94 Buzz Fizz 97 98 Fizz Buzz "
     ]
    }
   ],
   "source": [
    "for i in range(1, 101):\n",
    "    is_mult_3 = (i % 3 == 0)\n",
    "    is_mult_5 = (i % 5 == 0)\n",
    "    if is_mult_3 and is_mult_5:\n",
    "        print('FizzBuzz', end=' ')\n",
    "    elif is_mult_3:\n",
    "        print('Fizz', end=' ')\n",
    "    elif is_mult_5:\n",
    "        print('Buzz', end=' ')\n",
    "    else:\n",
    "        print(i, end=' ')"
   ]
  },
  {
   "cell_type": "markdown",
   "id": "9f07719a-e80d-4ddd-8d4f-ea87397d6d09",
   "metadata": {},
   "source": [
    "### Use ternary expressions to make your FizzBuzz code more compact."
   ]
  },
  {
   "cell_type": "code",
   "execution_count": 32,
   "id": "dfd32939-4391-4fa9-974c-9633cf67715b",
   "metadata": {},
   "outputs": [
    {
     "name": "stdout",
     "output_type": "stream",
     "text": [
      "1 2 Fizz 4 Buzz Fizz 7 8 Fizz Buzz 11 Fizz 13 14 FizzBuzz 16 17 Fizz 19 Buzz Fizz 22 23 Fizz Buzz 26 Fizz 28 29 FizzBuzz 31 32 Fizz 34 Buzz Fizz 37 38 Fizz Buzz 41 Fizz 43 44 FizzBuzz 46 47 Fizz 49 Buzz Fizz 52 53 Fizz Buzz 56 Fizz 58 59 FizzBuzz 61 62 Fizz 64 Buzz Fizz 67 68 Fizz Buzz 71 Fizz 73 74 FizzBuzz 76 77 Fizz 79 Buzz Fizz 82 83 Fizz Buzz 86 Fizz 88 89 FizzBuzz 91 92 Fizz 94 Buzz Fizz 97 98 Fizz Buzz "
     ]
    }
   ],
   "source": [
    "for i in range(1, 101):\n",
    "    is_mult_3 = (i % 3 == 0)\n",
    "    is_mult_5 = (i % 5 == 0)\n",
    "    print('Fizz'*is_mult_3 + 'Buzz'*is_mult_5 if is_mult_3 or is_mult_5 else i, end=' ')"
   ]
  },
  {
   "cell_type": "markdown",
   "id": "84ee8ea4-ff86-4b79-9d9e-82e8883a3e84",
   "metadata": {},
   "source": [
    "The solution above is shorter and uses from neat tricks, but I consider the previous solution easier to read and troubleshoot."
   ]
  },
  {
   "cell_type": "markdown",
   "id": "d5b3a6e7-8e81-4140-943f-33be191f00d2",
   "metadata": {},
   "source": [
    "### Triangle"
   ]
  },
  {
   "cell_type": "markdown",
   "id": "c76b23e0-a42d-4843-9723-3986a506f89e",
   "metadata": {},
   "source": [
    "Write a function `triangle` that accepts a positive integer $N$ and prints a numerical triangle of height $N-1$.\n",
    "For example, `triangle(N=6)` should print:\n",
    "\n",
    "```\n",
    "1\n",
    "22\n",
    "333\n",
    "4444\n",
    "55555\n",
    "```"
   ]
  },
  {
   "cell_type": "code",
   "execution_count": 33,
   "id": "80f4f901-bc4d-43ad-ab6b-98deabf104d6",
   "metadata": {},
   "outputs": [],
   "source": [
    "def triangle(N):\n",
    "    for i in range(1, N):\n",
    "        print(str(i) * i)"
   ]
  },
  {
   "cell_type": "code",
   "execution_count": 34,
   "id": "b5428f87-579d-4e54-a826-3bf3440b26fe",
   "metadata": {},
   "outputs": [
    {
     "name": "stdout",
     "output_type": "stream",
     "text": [
      "1\n",
      "22\n",
      "333\n",
      "4444\n",
      "55555\n"
     ]
    }
   ],
   "source": [
    "triangle(6)"
   ]
  },
  {
   "cell_type": "markdown",
   "id": "b2ec5b94-fe26-4761-a73d-b51b2f2b93d8",
   "metadata": {},
   "source": [
    "The solution above works because a multiplying a string by `i` concatenates `i` copies of the string."
   ]
  },
  {
   "cell_type": "code",
   "execution_count": 35,
   "id": "547d0087-88d5-463f-996c-be1086b7d0a1",
   "metadata": {},
   "outputs": [
    {
     "data": {
      "text/plain": [
       "'TestTestTest'"
      ]
     },
     "execution_count": 35,
     "metadata": {},
     "output_type": "execute_result"
    }
   ],
   "source": [
    "'Test' + 'Test' + 'Test'"
   ]
  },
  {
   "cell_type": "code",
   "execution_count": 36,
   "id": "7dc88194-eff4-4394-afa3-a2010e9debf3",
   "metadata": {},
   "outputs": [
    {
     "data": {
      "text/plain": [
       "'TestTestTest'"
      ]
     },
     "execution_count": 36,
     "metadata": {},
     "output_type": "execute_result"
    }
   ],
   "source": [
    "'Test' * 3"
   ]
  },
  {
   "cell_type": "markdown",
   "id": "b07c3200-d00d-4451-a777-d415c0350a88",
   "metadata": {},
   "source": [
    "### Two Sum"
   ]
  },
  {
   "cell_type": "markdown",
   "id": "e60568ec-e02d-4639-b6b5-a9816d3454d7",
   "metadata": {},
   "source": [
    "Write a function `two_sum` that does the following.\n",
    "\n",
    "Given an array of integers `nums` and an integer `target`, return the indices of the two numbers that add up to target.\n",
    "\n",
    "You may assume that each input would have exactly one solution, and you may not use the same element twice.\n",
    "\n",
    "You can return the answer in any order.\n",
    "\n",
    "Here are some examples:\n",
    "\n",
    "Example 1:\n",
    "\n",
    "Input: `nums = [2,7,11,15]`, `target = 9` \\\n",
    "Output: `[0,1]` \\\n",
    "Explanation: Because `nums[0] + nums[1] == 9`, we return `[0, 1]`.\n",
    "\n",
    "Example 2:\n",
    "\n",
    "Input: `nums = [3,2,4]`, `target = 6` \\\n",
    "Output: `[1,2]` \\\n",
    "\n",
    "Example 3:\n",
    "\n",
    "Input: `nums = [3,3]`, `target = 6` \\\n",
    "Output: `[0,1]` \\\n",
    "\n",
    "I saw this question on [LeetCode](https://leetcode.com/problems/two-sum/description/)."
   ]
  },
  {
   "cell_type": "code",
   "execution_count": 37,
   "id": "517ecfeb-9573-463a-88dc-589962edb7aa",
   "metadata": {},
   "outputs": [],
   "source": [
    "def two_sum(nums, target):\n",
    "    for i in range(1, len(nums)):\n",
    "        for j in range(i):\n",
    "            if nums[i] + nums[j] == target:\n",
    "                return [j, i]"
   ]
  },
  {
   "cell_type": "code",
   "execution_count": 38,
   "id": "f70da2b6-6299-4874-a91f-31c94629b6d1",
   "metadata": {},
   "outputs": [
    {
     "data": {
      "text/plain": [
       "[0, 1]"
      ]
     },
     "execution_count": 38,
     "metadata": {},
     "output_type": "execute_result"
    }
   ],
   "source": [
    "two_sum(nums = [2,7,11,15], target = 9)"
   ]
  },
  {
   "cell_type": "code",
   "execution_count": 39,
   "id": "2294b533-02df-4265-93d0-c0b7ad9d6025",
   "metadata": {},
   "outputs": [
    {
     "data": {
      "text/plain": [
       "[1, 2]"
      ]
     },
     "execution_count": 39,
     "metadata": {},
     "output_type": "execute_result"
    }
   ],
   "source": [
    "two_sum(nums = [3,2,4], target = 6)"
   ]
  },
  {
   "cell_type": "code",
   "execution_count": 40,
   "id": "b2dd1bc1-668a-4cf1-92fc-8db54067ae1f",
   "metadata": {},
   "outputs": [
    {
     "data": {
      "text/plain": [
       "[0, 1]"
      ]
     },
     "execution_count": 40,
     "metadata": {},
     "output_type": "execute_result"
    }
   ],
   "source": [
    "two_sum(nums = [3,3], target = 6)"
   ]
  },
  {
   "cell_type": "markdown",
   "id": "7d1b84f4-dd2b-4567-bc7c-5b461eed9004",
   "metadata": {},
   "source": [
    "We can write more efficient code once we learn other data structures in chapter 3 of McKinney!"
   ]
  },
  {
   "cell_type": "markdown",
   "id": "a46274a2-1bbc-4313-b7f3-489ec83caafc",
   "metadata": {},
   "source": [
    "### Best Time"
   ]
  },
  {
   "cell_type": "markdown",
   "id": "4356132c-54c0-419a-aacd-55b6766dd774",
   "metadata": {},
   "source": [
    "Write a function `best_time` that solves the following.\n",
    "\n",
    "You are given an array `prices` where `prices[i]` is the price of a given stock on the $i^{th}$ day.\n",
    "\n",
    "You want to maximize your profit by choosing a single day to buy one stock and choosing a different day in the future to sell that stock.\n",
    "\n",
    "Return the maximum profit you can achieve from this transaction. If you cannot achieve any profit, return 0.\n",
    "\n",
    "Here are some examples:\n",
    "\n",
    "Example 1:\n",
    "\n",
    "Input: `prices = [7,1,5,3,6,4]` \\\n",
    "Output: `5` \\\n",
    "Explanation: Buy on day 2 (price = 1) and sell on day 5 (price = 6), profit = 6-1 = 5.\n",
    "Note that buying on day 2 and selling on day 1 is not allowed because you must buy before you sell.\n",
    "\n",
    "Example 2:\n",
    "\n",
    "Input: `prices = [7,6,4,3,1]` \\\n",
    "Output: `0` \\\n",
    "Explanation: In this case, no transactions are done and the max profit = 0.\n",
    "\n",
    "I saw this question on [LeetCode](https://leetcode.com/problems/best-time-to-buy-and-sell-stock/)."
   ]
  },
  {
   "cell_type": "code",
   "execution_count": 41,
   "id": "ac8a56a6-8cf3-4ba4-a078-fd7e64c35cff",
   "metadata": {},
   "outputs": [],
   "source": [
    "def max_profit(prices):\n",
    "        min_price = prices[0]\n",
    "        max_profit = 0\n",
    "        for price in prices:\n",
    "            min_price = price if price < min_price else min_price\n",
    "            profit = price - min_price\n",
    "            max_profit = profit if profit > max_profit else max_profit\n",
    "        return max_profit"
   ]
  },
  {
   "cell_type": "code",
   "execution_count": 42,
   "id": "dcebf4be-69ff-488c-8fb7-abe5d656c052",
   "metadata": {},
   "outputs": [
    {
     "data": {
      "text/plain": [
       "5"
      ]
     },
     "execution_count": 42,
     "metadata": {},
     "output_type": "execute_result"
    }
   ],
   "source": [
    "max_profit(prices=[7,1,5,3,6,4])"
   ]
  },
  {
   "cell_type": "code",
   "execution_count": 43,
   "id": "6023f8e6-3d71-41c9-a891-062b12ba3fcb",
   "metadata": {},
   "outputs": [
    {
     "data": {
      "text/plain": [
       "0"
      ]
     },
     "execution_count": 43,
     "metadata": {},
     "output_type": "execute_result"
    }
   ],
   "source": [
    "max_profit(prices=[7,6,4,3,1])"
   ]
  }
 ],
 "metadata": {
  "author": "Richard Herron",
  "kernelspec": {
   "display_name": "Python 3 (ipykernel)",
   "language": "python",
   "name": "python3"
  },
  "language_info": {
   "codemirror_mode": {
    "name": "ipython",
    "version": 3
   },
   "file_extension": ".py",
   "mimetype": "text/x-python",
   "name": "python",
   "nbconvert_exporter": "python",
   "pygments_lexer": "ipython3",
   "version": "3.9.13"
  },
  "title": "McKinney Chapter 2 - Practice",
  "toc-autonumbering": true
 },
 "nbformat": 4,
 "nbformat_minor": 5
}