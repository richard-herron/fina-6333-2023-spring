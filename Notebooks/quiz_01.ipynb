{
 "cells": [
  {
   "cell_type": "code",
   "execution_count": null,
   "id": "2dd9a486",
   "metadata": {
    "deletable": false,
    "editable": false
   },
   "outputs": [],
   "source": [
    "# Initialize Otter\n",
    "import otter\n",
    "grader = otter.Notebook(\"quiz_01.ipynb\")"
   ]
  },
  {
   "cell_type": "markdown",
   "id": "3dfccd3c",
   "metadata": {},
   "source": [
    "# Quiz 1"
   ]
  },
  {
   "cell_type": "markdown",
   "id": "8f60b003",
   "metadata": {},
   "source": [
    "## Instructions\n",
    "\n",
    "1. After you answer a question, you should run its public tests.\n",
    "1. After you answer every question, you should:\n",
    "    1. Restart your kernel and clear all output\n",
    "    1. Run up to the last cell\n",
    "    1. Save your notebook\n",
    "    1. Run the last cell to create a .zip file for Gradescope\n",
    "    1. Upload this .zip file to Gradescope\n",
    "    1. ***Make sure your local autograder results match your Gradescope autograder results***\n",
    "1. This quiz has public and hidden tests:\n",
    "    1. Public tests check if your answers are the correct types and shapes, but they may not check if your answers are exactly correct\n",
    "    1. Hidden tests check if your answers are exactly correct, but their results are not available until after the due date\n",
    "1. You may ask technical questions on Canvas Discussions, but the quiz is an individual effort."
   ]
  },
  {
   "cell_type": "markdown",
   "id": "46d26ebf",
   "metadata": {},
   "source": [
    "## Questions"
   ]
  },
  {
   "cell_type": "markdown",
   "id": "a2a028fc",
   "metadata": {
    "tags": []
   },
   "source": [
    "### Question 1"
   ]
  },
  {
   "cell_type": "markdown",
   "id": "1da0765b",
   "metadata": {},
   "source": [
    "Create a list named `list_1` that contains the squares for integers from 1 to 100.\n",
    "The first and last values in `list_1` should be $1^2 = 1$ and $100^2 = 10,000$, respectively.\n",
    "\n",
    "_Points:_ 30"
   ]
  },
  {
   "cell_type": "code",
   "execution_count": null,
   "id": "8e77f4cf",
   "metadata": {
    "tags": []
   },
   "outputs": [],
   "source": [
    "..."
   ]
  },
  {
   "cell_type": "code",
   "execution_count": null,
   "id": "099542cd",
   "metadata": {
    "deletable": false,
    "editable": false
   },
   "outputs": [],
   "source": [
    "grader.check(\"q1\")"
   ]
  },
  {
   "cell_type": "markdown",
   "id": "56af2909",
   "metadata": {
    "tags": []
   },
   "source": [
    "### Question 2"
   ]
  },
  {
   "cell_type": "markdown",
   "id": "d6e4cd29",
   "metadata": {},
   "source": [
    "Create an integer `int_2` that contains the sum of squared integers from 1 to 100 inclusive.\n",
    "This `int_2` contains the sum of the values in `list_1` from question 1.\n",
    "\n",
    "_Points:_ 30"
   ]
  },
  {
   "cell_type": "code",
   "execution_count": null,
   "id": "05dc7ccc",
   "metadata": {
    "tags": []
   },
   "outputs": [],
   "source": [
    "..."
   ]
  },
  {
   "cell_type": "code",
   "execution_count": null,
   "id": "d1056a8b",
   "metadata": {
    "deletable": false,
    "editable": false
   },
   "outputs": [],
   "source": [
    "grader.check(\"q2\")"
   ]
  },
  {
   "cell_type": "markdown",
   "id": "ec32d67b",
   "metadata": {
    "tags": []
   },
   "source": [
    "### Question 3"
   ]
  },
  {
   "cell_type": "markdown",
   "id": "5f5a4f93",
   "metadata": {},
   "source": [
    "Write a function `fun_3` that sums that squares of integers between its arguments `start` and `stop` inclusive.\n",
    "If `start=1` and `stop=2`, `fun_3` should return $1^2 + 2^2 = 1 + 4 = 5$.\n",
    "If `start=1` and `stop=100`, `fun_3` should return your answer from question 2.\n",
    "I will test your function at several values of `start` and `stop`, you may assume that `stop` is always greater than `start`.\n",
    "\n",
    "***Note:***\n",
    "This question has 1 hidden test worth 10 points.\n",
    "The autograder will not show you hidden test results until after the due date, and Gradescope will show your quiz score as `~/100` until after the due date.\n",
    "\n",
    "_Points:_ 40"
   ]
  },
  {
   "cell_type": "code",
   "execution_count": null,
   "id": "7f9cc94d",
   "metadata": {
    "tags": []
   },
   "outputs": [],
   "source": [
    "def fun_3(start, stop):\n",
    "..."
   ]
  },
  {
   "cell_type": "code",
   "execution_count": null,
   "id": "d9a574bf",
   "metadata": {
    "deletable": false,
    "editable": false
   },
   "outputs": [],
   "source": [
    "grader.check(\"q3\")"
   ]
  },
  {
   "cell_type": "markdown",
   "id": "83b5c923",
   "metadata": {
    "deletable": false,
    "editable": false
   },
   "source": [
    "## Submission\n",
    "\n",
    "Make sure you have run all cells in your notebook in order before running the cell below, so that all images/graphs appear in the output. The cell below will generate a zip file for you to submit. **Please save before exporting!**"
   ]
  },
  {
   "cell_type": "code",
   "execution_count": null,
   "id": "e0b7a313",
   "metadata": {
    "deletable": false,
    "editable": false
   },
   "outputs": [],
   "source": [
    "# Save your notebook first, then run this cell to export your submission.\n",
    "grader.export(pdf=False, run_tests=True)"
   ]
  },
  {
   "cell_type": "markdown",
   "id": "9b8b8d5a",
   "metadata": {},
   "source": [
    " "
   ]
  }
 ],
 "metadata": {
  "kernelspec": {
   "display_name": "Python 3 (ipykernel)",
   "language": "python",
   "name": "python3"
  },
  "language_info": {
   "codemirror_mode": {
    "name": "ipython",
    "version": 3
   },
   "file_extension": ".py",
   "mimetype": "text/x-python",
   "name": "python",
   "nbconvert_exporter": "python",
   "pygments_lexer": "ipython3",
   "version": "3.10.8"
  },
  "otter": {
   "OK_FORMAT": true,
   "tests": {
    "q1": {
     "name": "q1",
     "points": 30,
     "suites": [
      {
       "cases": [
        {
         "code": ">>> type(list_1) is list\nTrue",
         "failure_message": "list_1 is not the correct (+0 pts)",
         "hidden": false,
         "locked": false,
         "points": 10,
         "success_message": "list_1 is the correct type (+10 pts)"
        },
        {
         "code": ">>> len(list_1) == 100\nTrue",
         "failure_message": "list_1 is not the correct length (+0 pts)",
         "hidden": false,
         "locked": false,
         "points": 10,
         "success_message": "list_1 is the correct length (+10 pts)"
        },
        {
         "code": ">>> list_1 == [i**2 for i in range(1, 101)]\nTrue",
         "failure_message": "list_1 does not have all correct values (+0 pts)",
         "hidden": false,
         "locked": false,
         "points": 10,
         "success_message": "list_1 has all correct values (+10 pts)"
        }
       ],
       "scored": true,
       "setup": "",
       "teardown": "",
       "type": "doctest"
      }
     ]
    },
    "q2": {
     "name": "q2",
     "points": 30,
     "suites": [
      {
       "cases": [
        {
         "code": ">>> type(int_2) is int\nTrue",
         "failure_message": "int_2 is not the correct (+0 pts)",
         "hidden": false,
         "locked": false,
         "points": 10,
         "success_message": "int_2 is the correct type (+10 pts)"
        },
        {
         "code": ">>> int_2 > 0\nTrue",
         "failure_message": "int_2 is not positive (+0 pts)",
         "hidden": false,
         "locked": false,
         "points": 10,
         "success_message": "int_2 is positive (+10 pts)"
        },
        {
         "code": ">>> int_2 == 338350\nTrue",
         "failure_message": "int_2 is not the correct value (+0 pts)",
         "hidden": false,
         "locked": false,
         "points": 10,
         "success_message": "int_2 is the correct value (+10 pts)"
        }
       ],
       "scored": true,
       "setup": "",
       "teardown": "",
       "type": "doctest"
      }
     ]
    },
    "q3": {
     "name": "q3",
     "points": 40,
     "suites": [
      {
       "cases": [
        {
         "code": ">>> callable(fun_3)\nTrue",
         "failure_message": "fun_3 is not a function (+0 points)",
         "hidden": false,
         "locked": false,
         "points": 10,
         "success_message": "fun_3 is a function (+10 points)"
        },
        {
         "code": ">>> fun_3(start=1, stop=2) == 5\nTrue",
         "failure_message": "your output is incorrect for start=1 and stop=2 (+0 points)",
         "hidden": false,
         "locked": false,
         "points": 10,
         "success_message": "your output is correct for start=1 and stop=2 (+10 points)"
        },
        {
         "code": ">>> fun_3(start=1, stop=100) == 338350\nTrue",
         "failure_message": "your output is incorrect for start=1 and stop=100 (+0 points)",
         "hidden": false,
         "locked": false,
         "points": 10,
         "success_message": "your output is correct for start=1 and stop=100 (+10 points)"
        }
       ],
       "scored": true,
       "setup": "",
       "teardown": "",
       "type": "doctest"
      }
     ]
    }
   }
  }
 },
 "nbformat": 4,
 "nbformat_minor": 5
}
