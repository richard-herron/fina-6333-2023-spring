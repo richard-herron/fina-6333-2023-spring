{
 "cells": [
  {
   "cell_type": "markdown",
   "id": "22b59adb-864b-49c7-99dc-5f498ced59c2",
   "metadata": {},
   "source": [
    "# Herron Topic 6 - Practice (Blank)"
   ]
  },
  {
   "cell_type": "markdown",
   "id": "5adf9803-55e1-4ccc-a675-65f13ac58bca",
   "metadata": {},
   "source": [
    "## Announcements"
   ]
  },
  {
   "cell_type": "markdown",
   "id": "837fbfec-079d-4190-b763-7cf5e73ec3e2",
   "metadata": {},
   "source": [
    "##  Practice"
   ]
  },
  {
   "cell_type": "code",
   "execution_count": 25,
   "id": "2c33c2ac-4f03-4ceb-abbd-0b586c696330",
   "metadata": {
    "editable": true
   },
   "outputs": [],
   "source": [
    "import matplotlib.pyplot as plt\n",
    "import numpy as np\n",
    "import pandas as pd"
   ]
  },
  {
   "cell_type": "code",
   "execution_count": 26,
   "id": "f11fbcf7-3831-4d78-9696-db94bd39a4df",
   "metadata": {},
   "outputs": [],
   "source": [
    "%config InlineBackend.figure_format = 'retina'\n",
    "%precision 4\n",
    "pd.options.display.float_format = '{:.4f}'.format"
   ]
  },
  {
   "cell_type": "code",
   "execution_count": 27,
   "id": "adc4cf62-6571-4ac8-8edf-85d99afe751e",
   "metadata": {},
   "outputs": [],
   "source": [
    "import yfinance as yf\n",
    "import pandas_datareader as pdr\n",
    "import requests_cache\n",
    "session = requests_cache.CachedSession()"
   ]
  },
  {
   "cell_type": "markdown",
   "id": "45f55c8d-086e-48fd-a44f-d22d3ac26b86",
   "metadata": {},
   "source": [
    "### Reimplement the equal-weighted momentum investing strategy from the lecture notebook"
   ]
  },
  {
   "cell_type": "markdown",
   "id": "818e97c3-ca22-4362-ab49-5f55a2ba916e",
   "metadata": {},
   "source": [
    "Try to use a few cells and temporary variables as you can (i.e., perform calculations inside `pd.concat()`)."
   ]
  },
  {
   "cell_type": "markdown",
   "id": "7130563d-c183-4121-aba0-279ecf07a937",
   "metadata": {},
   "source": [
    "### Add a long-short portfolio that is long portfolio 10 and short portfolio 1"
   ]
  },
  {
   "cell_type": "markdown",
   "id": "ef035218-671e-4097-8701-1c4d2f65d1ec",
   "metadata": {},
   "source": [
    "Call this long-short portfolio UMD.\n",
    "What are the best and worst months for portfolios 1, 10, and UMD?"
   ]
  },
  {
   "cell_type": "markdown",
   "id": "38c1f3e3-1ad9-4660-a95a-4505e12caf0b",
   "metadata": {},
   "source": [
    "### What are the Sharpe Ratios on these 11 portfolios?"
   ]
  },
  {
   "cell_type": "markdown",
   "id": "8b5405e3-015f-4b61-9054-f80b239754cc",
   "metadata": {},
   "source": [
    "### Implement a value-weighted momentum investing strategy"
   ]
  },
  {
   "cell_type": "markdown",
   "id": "57f68ea7-7f22-4a40-9495-6250c92e243c",
   "metadata": {},
   "source": [
    "Assign this strategy to data frame `mom_vw`, and include long-short portfolio UMD"
   ]
  },
  {
   "cell_type": "markdown",
   "id": "b8fff9e2-1c4f-4068-b73a-d72ad1ec18b9",
   "metadata": {},
   "source": [
    "### What are the CAPM and FF4 alphas for these value-weighted portfolios?"
   ]
  },
  {
   "cell_type": "markdown",
   "id": "69bba67f-a58a-4669-99db-6632227ecd03",
   "metadata": {},
   "source": [
    "### What are the Sharpe Ratios for these value-weighted portfolios?"
   ]
  },
  {
   "cell_type": "markdown",
   "id": "957f7549-f1b9-49dd-9abd-0c25c4d16ae7",
   "metadata": {},
   "source": [
    "### Implement an equal-weighted size investing strategy based on market capitalization at the start of each month"
   ]
  },
  {
   "cell_type": "markdown",
   "id": "6ea05386-f89f-45f7-9ece-bfde95c75f79",
   "metadata": {},
   "source": [
    "### Implement a value-weighted size investing strategy based on market capitalization at the start of each month"
   ]
  }
 ],
 "metadata": {
  "kernelspec": {
   "display_name": "Python 3 (ipykernel)",
   "language": "python",
   "name": "python3"
  },
  "language_info": {
   "codemirror_mode": {
    "name": "ipython",
    "version": 3
   },
   "file_extension": ".py",
   "mimetype": "text/x-python",
   "name": "python",
   "nbconvert_exporter": "python",
   "pygments_lexer": "ipython3",
   "version": "3.9.13"
  },
  "title": "Herron Topic 6 - Practice"
 },
 "nbformat": 4,
 "nbformat_minor": 5
}
