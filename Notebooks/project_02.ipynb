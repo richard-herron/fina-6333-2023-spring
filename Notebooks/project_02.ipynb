{
 "cells": [
  {
   "cell_type": "markdown",
   "id": "547d4483-a381-4c6e-bff6-fc83dc4d4bda",
   "metadata": {},
   "source": [
    "# Project 2"
   ]
  },
  {
   "cell_type": "markdown",
   "id": "74453f0b-eb60-4bd6-b5e2-5fbbc06201c3",
   "metadata": {
    "tags": []
   },
   "source": [
    "# Purpose"
   ]
  },
  {
   "cell_type": "markdown",
   "id": "c930cdaf-14a9-4acf-a469-12467258d408",
   "metadata": {},
   "source": [
    "This [November 2021 CNBC article](https://www.cnbc.com/2021/11/09/bitcoin-vs-gold-leading-gold-authorities-on-inflation-hedge-battle.html) on Bitcoin and gold as inflation and market risk hedges motivated this project.\n",
    "I have two goals for this project:\n",
    "\n",
    "1. To help you master data analysis\n",
    "1. To help you evaluate articles in the popular media using your data analysis skills"
   ]
  },
  {
   "cell_type": "code",
   "execution_count": 1,
   "id": "6ec39344-efba-459b-99ff-8efc253a7e7a",
   "metadata": {
    "tags": []
   },
   "outputs": [],
   "source": [
    "import pandas as pd\n",
    "import numpy as np\n",
    "import matplotlib.pyplot as plt"
   ]
  },
  {
   "cell_type": "code",
   "execution_count": 2,
   "id": "48ddc7d0-f1d6-4221-99bf-40d102373bcc",
   "metadata": {},
   "outputs": [],
   "source": [
    "pd.set_option('display.float_format', '{:.2f}'.format)\n",
    "%precision 2\n",
    "%config InlineBackend.figure_format = 'retina'"
   ]
  },
  {
   "cell_type": "code",
   "execution_count": 3,
   "id": "55113eb7-a701-4690-a4e6-a7f41776384a",
   "metadata": {},
   "outputs": [],
   "source": [
    "import yfinance as yf\n",
    "import pandas_datareader as pdr\n",
    "import requests_cache\n",
    "session = requests_cache.CachedSession()"
   ]
  },
  {
   "cell_type": "code",
   "execution_count": 4,
   "id": "f0ab2658-0092-4ad4-a7eb-3fb90c3e3f39",
   "metadata": {},
   "outputs": [],
   "source": [
    "import scipy.optimize as sco\n",
    "import seaborn as sns\n",
    "import statsmodels.formula.api as smf"
   ]
  },
  {
   "cell_type": "markdown",
   "id": "6b129c26-f969-4767-9f06-ba7f991b5f1b",
   "metadata": {},
   "source": [
    "# Tasks"
   ]
  },
  {
   "cell_type": "markdown",
   "id": "4971cd98-23a7-4423-88f5-44644c91510c",
   "metadata": {
    "tags": []
   },
   "source": [
    "## Task 1: Do Bitcoin and gold hedge inflation risk?"
   ]
  },
  {
   "cell_type": "markdown",
   "id": "382ac8e9-912a-4389-b871-2a29e6d68090",
   "metadata": {},
   "source": [
    "Use the typical finance definition of [hedge](https://www.investopedia.com/terms/h/hedge.asp):\n",
    "\n",
    "> To hedge, in finance, is to take an offsetting position in an asset or investment that reduces the price risk of an existing position. A hedge is therefore a trade that is made with the purpose of reducing the risk of adverse price movements in another asset. Normally, a hedge consists of taking the opposite position in a related security or in a derivative security based on the asset to be hedged. \n",
    "\n",
    "Here are a few suggestions:\n",
    "\n",
    "1. Measure Bitcoin's price with [BTC-USD](https://finance.yahoo.com/quote/BTC-USD?p=BTC-USD&.tsrc=fin-srch) and gold's price with [GLD](https://finance.yahoo.com/quote/GLD?p=GLD&.tsrc=fin-srch)\n",
    "1. Throughout the project, assume Bitcoin and U.S. public equity markets have the same closing time\n",
    "1. Measure the price level with [PCEPI](https://fred.stlouisfed.org/series/PCEPI/) from the Federal Reserve Database (FRED), which is downloadable with `pdr.DataReader()`\n",
    "1. Measure inflation (i.e., the rate of change in the price level) as the percent change in PCEPI"
   ]
  },
  {
   "cell_type": "markdown",
   "id": "232ce26f-01dc-4edb-b3cc-06007d15572d",
   "metadata": {
    "tags": []
   },
   "source": [
    "## Task 2: Do Bitcoin and gold hedge market risk?"
   ]
  },
  {
   "cell_type": "markdown",
   "id": "f88d7c77-33cf-4a19-9f1a-64e86d840c4a",
   "metadata": {},
   "source": [
    "Here are a few suggestions:\n",
    "\n",
    "1. Estimate capital asset pricing model (CAPM) regressions for Bitcoin and gold\n",
    "1. Use the daily factor data from Ken French"
   ]
  },
  {
   "cell_type": "markdown",
   "id": "cceb8f97-d3fc-45cf-96a5-cb64278d757c",
   "metadata": {},
   "source": [
    "## Task 3: Plot the mean-variance efficient frontier of Standard & Poor's 100 Index (SP100) stocks, with and without Bitcoin and gold"
   ]
  },
  {
   "cell_type": "markdown",
   "id": "635e7f87-e382-4eaa-aab4-8a2aad186870",
   "metadata": {},
   "source": [
    "Here are a few suggestions:\n",
    "\n",
    "1. You can learn about the SP100 stocks [here](https://en.wikipedia.org/wiki/S%26P_100)\n",
    "1. Only consider days with complete data for Bitcoin and gold\n",
    "1. Drop any stocks with shorter return histories than Bitcoin and gold\n",
    "1. Assume long-only portfolios"
   ]
  },
  {
   "cell_type": "markdown",
   "id": "559e65d2-6ada-4238-8bdc-2f658c77dac8",
   "metadata": {
    "tags": []
   },
   "source": [
    "## Task 4: Find the maximum Sharpe Ratio portfolio of SP100 stocks, with and without Bitcoin and gold"
   ]
  },
  {
   "cell_type": "markdown",
   "id": "578e5db4-1128-4cde-9f00-d28c7c294dcb",
   "metadata": {},
   "source": [
    "Follow the data requirements of task 3."
   ]
  },
  {
   "cell_type": "markdown",
   "id": "09a54ac3-75d3-4e1c-ab1d-3fa9c2f0e48b",
   "metadata": {},
   "source": [
    "## Task 5: Every full calendar year, compare the $\\frac{1}{n}$ portfolio with the out-of-sample performance of the previous maximum Sharpe Ratio portfolio"
   ]
  },
  {
   "cell_type": "markdown",
   "id": "e7e35631-0221-4e31-8991-47b5c9cb3120",
   "metadata": {},
   "source": [
    "Follow the data requirements of task 3.\n",
    "Estimate the previous maximum Sharpe Ratio portfolio using data from the previous two years.\n",
    "Consider, at least, the Sharpe Ratios of each portfolio, but other performance measures may help you tell a more complete story."
   ]
  },
  {
   "cell_type": "markdown",
   "id": "bd70416e-1f83-40d0-82c4-c9e2691a961f",
   "metadata": {},
   "source": [
    "## Task 6: What do you conclude about Bitcoin and gold as inflation and market risk hedges?"
   ]
  },
  {
   "cell_type": "markdown",
   "id": "34871064-ee3a-43dc-8f74-f121b4d3ec3b",
   "metadata": {},
   "source": [
    "What are your overall conclusions and limitations of your analysis?\n",
    "What do the data suggest about the article that motivated this project?\n",
    "Please see the link at the top of this notebook."
   ]
  },
  {
   "cell_type": "markdown",
   "id": "b7ed6733-b328-452d-9e02-0b3296ecc60a",
   "metadata": {
    "tags": []
   },
   "source": [
    "# Criteria"
   ]
  },
  {
   "cell_type": "markdown",
   "id": "9da8f9ef-ac66-43ef-ab87-13908395a846",
   "metadata": {},
   "source": [
    "1. ***Discuss and explain your findings for all 6 tasks, and be specific!***\n",
    "1. ***Your goal is to convince me of your calculations and conclusions***\n",
    "1. All tasks are worth 16.67 points each\n",
    "1. Your report should not exceed 25 pages\n",
    "1. Here are more tips\n",
    "    1. Each task includes suggestions\n",
    "    1. I suggest you include plots and calculations for all but the last task\n",
    "    1. Remove unnecessary code, outputs, and print statements\n",
    "    1. Write functions for plots and calculations that you use more than once\n",
    "    1. I will not penalize code style, but I will penalize submissions that are difficult to follow or do not follow these instructions\n",
    "1. How to submit your project\n",
    "    1. Restart your kernel, run all cells, and save your notebook\n",
    "    1. Export your notebook to PDF (`File > Save And Export Notebook As ... > PDF` in JupyterLab)\n",
    "        1. If this export does not work, you can either (1) Install MiKTeX on your laptop with default settings or (2) use DataCamp Workspace to export your notebook to PDF\n",
    "        1. You do not need to re-run your notebook to export it because notebooks store output cells\n",
    "    1. Upload your notebook and PDF to Canvas\n",
    "    1. Upload your PDF only to Gradescope and tag your tasks and teammates\n",
    "    1. Gradescope helps me give better feedback more quickly, but it is not reliable for sharing and storing your submission files"
   ]
  }
 ],
 "metadata": {
  "author": "Richard Herron",
  "kernelspec": {
   "display_name": "Python 3 (ipykernel)",
   "language": "python",
   "name": "python3"
  },
  "language_info": {
   "codemirror_mode": {
    "name": "ipython",
    "version": 3
   },
   "file_extension": ".py",
   "mimetype": "text/x-python",
   "name": "python",
   "nbconvert_exporter": "python",
   "pygments_lexer": "ipython3",
   "version": "3.9.13"
  },
  "title": "Project 2"
 },
 "nbformat": 4,
 "nbformat_minor": 5
}
