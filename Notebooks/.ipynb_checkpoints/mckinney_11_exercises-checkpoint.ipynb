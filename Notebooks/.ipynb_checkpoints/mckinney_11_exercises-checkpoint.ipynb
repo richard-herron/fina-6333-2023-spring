{
 "cells": [
  {
   "cell_type": "markdown",
   "id": "4660c66c-e02d-4f08-a478-475f8bafb27c",
   "metadata": {},
   "source": [
    "# McKinney Chapter 11 - Exercises (Blank)"
   ]
  },
  {
   "cell_type": "code",
   "execution_count": null,
   "id": "9ae64d53-8cd1-4fa2-9a28-3ea3b20f65b0",
   "metadata": {},
   "outputs": [],
   "source": []
  }
 ],
 "metadata": {
  "author": "Richard Herron",
  "kernelspec": {
   "display_name": "Python 3 (ipykernel)",
   "language": "python",
   "name": "python3"
  },
  "language_info": {
   "codemirror_mode": {
    "name": "ipython",
    "version": 3
   },
   "file_extension": ".py",
   "mimetype": "text/x-python",
   "name": "python",
   "nbconvert_exporter": "python",
   "pygments_lexer": "ipython3",
   "version": "3.10.8"
  },
  "title": "McKinney Chapter 11 - Exercises"
 },
 "nbformat": 4,
 "nbformat_minor": 5
}
