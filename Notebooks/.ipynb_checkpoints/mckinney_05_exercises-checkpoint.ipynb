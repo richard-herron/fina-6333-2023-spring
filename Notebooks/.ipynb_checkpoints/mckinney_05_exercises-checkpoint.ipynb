{
 "cells": [
  {
   "cell_type": "markdown",
   "id": "c1e33842-3bd0-4623-9296-60a1ad2fe57b",
   "metadata": {},
   "source": [
    "# McKinney Chapter 5 - Exercises (Blank)"
   ]
  },
  {
   "cell_type": "code",
   "execution_count": null,
   "id": "2701e7f1-4386-4b85-967e-77b51c8f1372",
   "metadata": {},
   "outputs": [],
   "source": []
  }
 ],
 "metadata": {
  "author": "Richard Herron",
  "kernelspec": {
   "display_name": "Python 3 (ipykernel)",
   "language": "python",
   "name": "python3"
  },
  "language_info": {
   "codemirror_mode": {
    "name": "ipython",
    "version": 3
   },
   "file_extension": ".py",
   "mimetype": "text/x-python",
   "name": "python",
   "nbconvert_exporter": "python",
   "pygments_lexer": "ipython3",
   "version": "3.10.8"
  },
  "title": "McKinney Chapter 5 - Exercises"
 },
 "nbformat": 4,
 "nbformat_minor": 5
}
