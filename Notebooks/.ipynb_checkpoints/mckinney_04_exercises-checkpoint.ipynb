{
 "cells": [
  {
   "cell_type": "markdown",
   "id": "44439447-3047-4145-847e-ac90df0e3162",
   "metadata": {},
   "source": [
    "# McKinney Chapter 4 - Exercises (Blank)"
   ]
  }
 ],
 "metadata": {
  "author": "Richard Herron",
  "kernelspec": {
   "display_name": "Python 3 (ipykernel)",
   "language": "python",
   "name": "python3"
  },
  "language_info": {
   "codemirror_mode": {
    "name": "ipython",
    "version": 3
   },
   "file_extension": ".py",
   "mimetype": "text/x-python",
   "name": "python",
   "nbconvert_exporter": "python",
   "pygments_lexer": "ipython3",
   "version": "3.10.8"
  },
  "title": "McKinney Chapter 4 - Exercises"
 },
 "nbformat": 4,
 "nbformat_minor": 5
}
