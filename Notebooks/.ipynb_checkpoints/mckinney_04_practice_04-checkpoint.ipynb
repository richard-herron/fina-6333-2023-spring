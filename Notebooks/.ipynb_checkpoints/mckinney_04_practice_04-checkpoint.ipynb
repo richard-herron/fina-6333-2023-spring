{
 "cells": [
  {
   "cell_type": "markdown",
   "id": "44439447-3047-4145-847e-ac90df0e3162",
   "metadata": {},
   "source": [
    "# McKinney Chapter 4 - Practice (Section 4, Wednesday 11:45 AM)"
   ]
  },
  {
   "cell_type": "code",
   "execution_count": 1,
   "id": "e699f608-e306-43be-833d-942d29021c50",
   "metadata": {},
   "outputs": [
    {
     "data": {
      "text/plain": [
       "'%.4f'"
      ]
     },
     "execution_count": 1,
     "metadata": {},
     "output_type": "execute_result"
    }
   ],
   "source": [
    "import numpy as np\n",
    "%precision 4"
   ]
  },
  {
   "cell_type": "markdown",
   "id": "21410ead-370f-4283-b694-a4bfb7f751c8",
   "metadata": {
    "tags": []
   },
   "source": [
    "## Practice"
   ]
  },
  {
   "cell_type": "markdown",
   "id": "bd998b0b-6cb1-45c7-adec-48bb1fc62f9f",
   "metadata": {
    "tags": []
   },
   "source": [
    "### Create a 1-dimensional array named `a1` that counts from 0 to 24 by 1."
   ]
  },
  {
   "cell_type": "code",
   "execution_count": 2,
   "id": "c3ca8867-345f-4a0d-82e9-791ea899c0b8",
   "metadata": {},
   "outputs": [
    {
     "data": {
      "text/plain": [
       "array([ 0,  1,  2,  3,  4,  5,  6,  7,  8,  9, 10, 11, 12, 13, 14, 15, 16,\n",
       "       17, 18, 19, 20, 21, 22, 23, 24])"
      ]
     },
     "execution_count": 2,
     "metadata": {},
     "output_type": "execute_result"
    }
   ],
   "source": [
    "a1 = np.arange(25)\n",
    "a1"
   ]
  },
  {
   "cell_type": "markdown",
   "id": "2bf711fc-5690-42ed-bfa8-5788b2af1320",
   "metadata": {},
   "source": [
    "### Create a 1-dimentional array named `a2` that counts from 0 to 24 by 3."
   ]
  },
  {
   "cell_type": "code",
   "execution_count": 3,
   "id": "2d8cec2f-2746-4515-9ba2-83c2ea183811",
   "metadata": {},
   "outputs": [
    {
     "data": {
      "text/plain": [
       "array([ 0,  3,  6,  9, 12, 15, 18, 21, 24])"
      ]
     },
     "execution_count": 3,
     "metadata": {},
     "output_type": "execute_result"
    }
   ],
   "source": [
    "a2 = np.arange(0, 25, 3)\n",
    "a2"
   ]
  },
  {
   "cell_type": "code",
   "execution_count": 4,
   "id": "ce866179-bd95-4c65-8a0d-93976fbe281f",
   "metadata": {},
   "outputs": [
    {
     "data": {
      "text/plain": [
       "array([ 0,  3,  6,  9, 12, 15, 18, 21, 24])"
      ]
     },
     "execution_count": 4,
     "metadata": {},
     "output_type": "execute_result"
    }
   ],
   "source": [
    "np.arange(0, 26, 3)"
   ]
  },
  {
   "cell_type": "code",
   "execution_count": 5,
   "id": "7fc8ec29-2567-4d25-a82a-46f05289692e",
   "metadata": {},
   "outputs": [
    {
     "data": {
      "text/plain": [
       "array([ 0,  3,  6,  9, 12, 15, 18, 21, 24])"
      ]
     },
     "execution_count": 5,
     "metadata": {},
     "output_type": "execute_result"
    }
   ],
   "source": [
    "np.arange(0, 27, 3)"
   ]
  },
  {
   "cell_type": "markdown",
   "id": "ca4c0603-53bc-41e4-8be4-234b5d223033",
   "metadata": {},
   "source": [
    "### Create a 1-dimentional array named `a3` that counts from 0 to 100 by multiples of 3 or 5."
   ]
  },
  {
   "cell_type": "code",
   "execution_count": 6,
   "id": "f2fb7cd4-6f27-47d2-88a4-069293c04912",
   "metadata": {},
   "outputs": [
    {
     "data": {
      "text/plain": [
       "array([  0,   3,   5,   6,   9,  10,  12,  15,  18,  20,  21,  24,  25,\n",
       "        27,  30,  33,  35,  36,  39,  40,  42,  45,  48,  50,  51,  54,\n",
       "        55,  57,  60,  63,  65,  66,  69,  70,  72,  75,  78,  80,  81,\n",
       "        84,  85,  87,  90,  93,  95,  96,  99, 100])"
      ]
     },
     "execution_count": 6,
     "metadata": {},
     "output_type": "execute_result"
    }
   ],
   "source": [
    "a3 = np.arange(101)\n",
    "a3 = a3[(a3 % 3 == 0) | (a3 % 5 == 0)]\n",
    "a3"
   ]
  },
  {
   "cell_type": "markdown",
   "id": "bebb5994-953d-49bd-bab3-535ba1edcdf8",
   "metadata": {},
   "source": [
    "We can also create `a3` with a list comprehension."
   ]
  },
  {
   "cell_type": "code",
   "execution_count": 7,
   "id": "cba33c3b-fa9d-4d0d-82a3-a7b1b1bdbfe4",
   "metadata": {},
   "outputs": [
    {
     "data": {
      "text/plain": [
       "array([  0,   3,   5,   6,   9,  10,  12,  15,  18,  20,  21,  24,  25,\n",
       "        27,  30,  33,  35,  36,  39,  40,  42,  45,  48,  50,  51,  54,\n",
       "        55,  57,  60,  63,  65,  66,  69,  70,  72,  75,  78,  80,  81,\n",
       "        84,  85,  87,  90,  93,  95,  96,  99, 100])"
      ]
     },
     "execution_count": 7,
     "metadata": {},
     "output_type": "execute_result"
    }
   ],
   "source": [
    "a3_lc = np.array([i for i in range(101) if (i%3==0) or (i%5==0)])\n",
    "a3_lc"
   ]
  },
  {
   "cell_type": "code",
   "execution_count": 8,
   "id": "44747c48-1a21-4a5c-a5c8-9e57a5a35a77",
   "metadata": {},
   "outputs": [
    {
     "data": {
      "text/plain": [
       "array([ True,  True,  True,  True,  True,  True,  True,  True,  True,\n",
       "        True,  True,  True,  True,  True,  True,  True,  True,  True,\n",
       "        True,  True,  True,  True,  True,  True,  True,  True,  True,\n",
       "        True,  True,  True,  True,  True,  True,  True,  True,  True,\n",
       "        True,  True,  True,  True,  True,  True,  True,  True,  True,\n",
       "        True,  True,  True])"
      ]
     },
     "execution_count": 8,
     "metadata": {},
     "output_type": "execute_result"
    }
   ],
   "source": [
    "a3 == a3_lc"
   ]
  },
  {
   "cell_type": "code",
   "execution_count": 9,
   "id": "634a9f3a-4a58-4f5f-91db-5c42b6b54a8c",
   "metadata": {},
   "outputs": [
    {
     "data": {
      "text/plain": [
       "True"
      ]
     },
     "execution_count": 9,
     "metadata": {},
     "output_type": "execute_result"
    }
   ],
   "source": [
    "(a3 == a3_lc).all()"
   ]
  },
  {
   "cell_type": "code",
   "execution_count": 10,
   "id": "8ee6ea87-b51a-4be0-a004-5eded009f84a",
   "metadata": {},
   "outputs": [
    {
     "data": {
      "text/plain": [
       "False"
      ]
     },
     "execution_count": 10,
     "metadata": {},
     "output_type": "execute_result"
    }
   ],
   "source": [
    "a3 is a3_lc"
   ]
  },
  {
   "cell_type": "markdown",
   "id": "5d8094be-53ca-4fce-a493-e8ba05051e9a",
   "metadata": {},
   "source": [
    "### Create a 1-dimensional array `a3` that contains the squares of the even integers through 100,000."
   ]
  },
  {
   "cell_type": "markdown",
   "id": "c85459e5-1871-46c6-a682-3de73a5241ca",
   "metadata": {},
   "source": [
    "How much faster is the NumPy version than the list comprehension version?"
   ]
  },
  {
   "cell_type": "code",
   "execution_count": 11,
   "id": "99fdaa7b-0828-4632-ab98-bd616d821974",
   "metadata": {},
   "outputs": [
    {
     "name": "stdout",
     "output_type": "stream",
     "text": [
      "12.8 ms ± 21.5 µs per loop (mean ± std. dev. of 7 runs, 100 loops each)\n"
     ]
    }
   ],
   "source": [
    "%timeit np.array([i**2 for i in range(100_001) if i%2==0])"
   ]
  },
  {
   "cell_type": "code",
   "execution_count": 12,
   "id": "f5168093-e2f5-4c99-b92f-2bcdd520c89f",
   "metadata": {},
   "outputs": [
    {
     "name": "stdout",
     "output_type": "stream",
     "text": [
      "10 ms ± 89 µs per loop (mean ± std. dev. of 7 runs, 100 loops each)\n"
     ]
    }
   ],
   "source": [
    "%timeit np.array([i**2 for i in range(0, 100_001, 2)])"
   ]
  },
  {
   "cell_type": "code",
   "execution_count": 13,
   "id": "2f2b9a2c-3322-4c5a-8528-45b57a704a14",
   "metadata": {},
   "outputs": [
    {
     "name": "stdout",
     "output_type": "stream",
     "text": [
      "20.4 µs ± 262 ns per loop (mean ± std. dev. of 7 runs, 100000 loops each)\n"
     ]
    }
   ],
   "source": [
    "%timeit np.arange(0, 100_001, 2, dtype=np.int64)**2"
   ]
  },
  {
   "cell_type": "markdown",
   "id": "100c5784-ab09-4648-8eb1-38bffebc6216",
   "metadata": {},
   "source": [
    "---"
   ]
  },
  {
   "cell_type": "markdown",
   "id": "2f6a6c9e-d9c6-4b10-86ee-a218a9a2e2e5",
   "metadata": {},
   "source": [
    "***Note:***\n",
    "On some platforms, `np.arange(0, 100_001, 2)` returns an array of 32-bit integers.\n",
    "If we square this array of 32-bit integers, we get the wrong answer because the large values (e.g., $100,000^2$) are too large to represent as 32-bit integers.\n",
    "Since we know that we need 54-bit integers for this calculation, we should explcitly set either `dtype='int64'` or `dtype=np.int64`."
   ]
  },
  {
   "cell_type": "code",
   "execution_count": 54,
   "id": "2c1384a3-6208-4fe8-90c0-cbd1967078a8",
   "metadata": {},
   "outputs": [
    {
     "data": {
      "text/plain": [
       "array([          0,           4,          16, ...,  9999200016,\n",
       "        9999600004, 10000000000])"
      ]
     },
     "execution_count": 54,
     "metadata": {},
     "output_type": "execute_result"
    }
   ],
   "source": [
    "np.arange(0, 100_001, 2, dtype='int64')**2"
   ]
  },
  {
   "cell_type": "code",
   "execution_count": 55,
   "id": "65c6c9bf-8534-4ba2-adf8-ff4388a96ebb",
   "metadata": {},
   "outputs": [
    {
     "data": {
      "text/plain": [
       "array([          0,           4,          16, ...,  9999200016,\n",
       "        9999600004, 10000000000])"
      ]
     },
     "execution_count": 55,
     "metadata": {},
     "output_type": "execute_result"
    }
   ],
   "source": [
    "np.arange(0, 100_001, 2, dtype=np.int64)**2"
   ]
  },
  {
   "cell_type": "markdown",
   "id": "bc8f93f0-02b9-493d-ac9c-96ac73617745",
   "metadata": {},
   "source": [
    "This [StackOverflow answer](https://stackoverflow.com/a/1970697/334755) is this best explanation I have found of this behavior."
   ]
  },
  {
   "cell_type": "markdown",
   "id": "36fab648-a988-48b1-8dfd-bd6a86862845",
   "metadata": {},
   "source": [
    "---"
   ]
  },
  {
   "cell_type": "markdown",
   "id": "daa77654-df00-4f92-8b4e-158b62e27c0e",
   "metadata": {},
   "source": [
    "### Write a function that mimic Excel's `pv` function."
   ]
  },
  {
   "cell_type": "markdown",
   "id": "44ca9068-349c-411a-9d9c-d9ed69b2c456",
   "metadata": {},
   "source": [
    "Here is how we call Excel's `pv` function:\n",
    "`=PV(rate, nper, pmt, [fv], [type])`\n",
    "We can use the annuity and lump sum present value formulas.\n",
    "\n",
    "Present value of an annuity payment `pmt`:\n",
    "$PV_{pmt} = \\frac{pmt}{rate} \\times \\left(1 - \\frac{1}{(1+rate)^{nper}} \\right)$\n",
    "\n",
    "Present value of a lump sum `fv`:\n",
    "$PV_{fv} = \\frac{fv}{(1+rate)^{nper}}$"
   ]
  },
  {
   "cell_type": "code",
   "execution_count": 14,
   "id": "67306376-778c-42ba-8ca6-5b0a2e8e99d8",
   "metadata": {},
   "outputs": [],
   "source": [
    "def pv(rate, nper, pmt=None, fv=None, type='END'):\n",
    "    if pmt is None:\n",
    "        pv_pmt = 0\n",
    "    else:\n",
    "        pv_pmt = (pmt / rate) * (1 - (1 + rate)**(-1*nper))\n",
    "    \n",
    "    if fv is None:\n",
    "        pv_fv = 0\n",
    "    else:\n",
    "        pv_fv = fv / (1 + rate)**nper\n",
    "\n",
    "    pv = -1 * (pv_pmt + pv_fv)\n",
    "    \n",
    "    if type == 'END':\n",
    "        pv = pv\n",
    "    elif type == 'BGN':\n",
    "        pv *= (1 + rate)\n",
    "    else:\n",
    "        print('Enter END or BGN for type argument')\n",
    "        \n",
    "    return pv"
   ]
  },
  {
   "cell_type": "code",
   "execution_count": 15,
   "id": "d13f3e3e-aedf-4d15-ba7b-dd21c5f3feb5",
   "metadata": {},
   "outputs": [
    {
     "data": {
      "text/plain": [
       "-1000.0000"
      ]
     },
     "execution_count": 15,
     "metadata": {},
     "output_type": "execute_result"
    }
   ],
   "source": [
    "pv(rate=0.1, nper=10, pmt=100, fv=1000, type='END')"
   ]
  },
  {
   "cell_type": "markdown",
   "id": "99aab945-099d-48fb-8390-71fca4b22c2e",
   "metadata": {},
   "source": [
    "### Write a function that mimic Excel's `fv` function."
   ]
  },
  {
   "cell_type": "code",
   "execution_count": 16,
   "id": "87cf62ab-fdc2-4a22-bed4-902c14879408",
   "metadata": {},
   "outputs": [],
   "source": [
    "def fv(rate, nper, pmt=None, pv=None, type = 'END'):\n",
    "    if pmt is not None: # calculate PV of pmt, if given\n",
    "        fv_pmt = (pmt / rate) * ((1 + rate)**nper - 1)\n",
    "    else:\n",
    "        fv_pmt = 0\n",
    "\n",
    "    if fv is not None: # calculate PV of fv, if given\n",
    "        fv_pv = pv * (1 + rate)**nper\n",
    "    else:\n",
    "        fv_fv = 0\n",
    "    \n",
    "    if type=='END': # as-is if end of period payments\n",
    "        return -1 * (fv_pmt + fv_pv)\n",
    "    elif type=='BGN': # undo one period of discounting if bgn of period payments\n",
    "        return -1 * (fv_pmt + fv_pv) * (1 + rate)\n",
    "    else: # otherwise, ask use to specify end or bgn of period payments\n",
    "        print('Please enter END or BGN for the type argument')"
   ]
  },
  {
   "cell_type": "code",
   "execution_count": 17,
   "id": "544350a2-b19f-4f12-8cb7-5567d7fe305c",
   "metadata": {},
   "outputs": [
    {
     "data": {
      "text/plain": [
       "1000.0000"
      ]
     },
     "execution_count": 17,
     "metadata": {},
     "output_type": "execute_result"
    }
   ],
   "source": [
    "fv(rate=0.1, nper=10, pmt=100, pv=-1000, type='END')"
   ]
  },
  {
   "cell_type": "markdown",
   "id": "9c479549-c910-4bf6-843c-f263d81520e5",
   "metadata": {},
   "source": [
    "### Replace the negative values in `data` with -1 and positive values with +1."
   ]
  },
  {
   "cell_type": "code",
   "execution_count": 18,
   "id": "e98dc508-db40-43d0-95a7-b5b3a36a34b2",
   "metadata": {},
   "outputs": [
    {
     "data": {
      "text/plain": [
       "array([[ 0.4967, -0.1383,  0.6477,  1.523 , -0.2342, -0.2341,  1.5792],\n",
       "       [ 0.7674, -0.4695,  0.5426, -0.4634, -0.4657,  0.242 , -1.9133],\n",
       "       [-1.7249, -0.5623, -1.0128,  0.3142, -0.908 , -1.4123,  1.4656],\n",
       "       [-0.2258,  0.0675, -1.4247, -0.5444,  0.1109, -1.151 ,  0.3757],\n",
       "       [-0.6006, -0.2917, -0.6017,  1.8523, -0.0135, -1.0577,  0.8225],\n",
       "       [-1.2208,  0.2089, -1.9597, -1.3282,  0.1969,  0.7385,  0.1714],\n",
       "       [-0.1156, -0.3011, -1.4785, -0.7198, -0.4606,  1.0571,  0.3436]])"
      ]
     },
     "execution_count": 18,
     "metadata": {},
     "output_type": "execute_result"
    }
   ],
   "source": [
    "np.random.seed(42)\n",
    "data = np.random.randn(7, 7)\n",
    "data"
   ]
  },
  {
   "cell_type": "code",
   "execution_count": 19,
   "id": "b8fc5ea0-048e-4337-b5a3-b912c457658a",
   "metadata": {},
   "outputs": [
    {
     "data": {
      "text/plain": [
       "array([[ 1., -1.,  1.,  1., -1., -1.,  1.],\n",
       "       [ 1., -1.,  1., -1., -1.,  1., -1.],\n",
       "       [-1., -1., -1.,  1., -1., -1.,  1.],\n",
       "       [-1.,  1., -1., -1.,  1., -1.,  1.],\n",
       "       [-1., -1., -1.,  1., -1., -1.,  1.],\n",
       "       [-1.,  1., -1., -1.,  1.,  1.,  1.],\n",
       "       [-1., -1., -1., -1., -1.,  1.,  1.]])"
      ]
     },
     "execution_count": 19,
     "metadata": {},
     "output_type": "execute_result"
    }
   ],
   "source": [
    "data_c = data.copy()\n",
    "data_c[data_c < 0] = -1\n",
    "data_c[data_c > 0] = +1\n",
    "\n",
    "data_c"
   ]
  },
  {
   "cell_type": "code",
   "execution_count": 20,
   "id": "a9126c51-8741-41c0-a073-6454bda54ca3",
   "metadata": {},
   "outputs": [
    {
     "data": {
      "text/plain": [
       "array([[ 0.4967, -0.1383,  0.6477,  1.523 , -0.2342, -0.2341,  1.5792],\n",
       "       [ 0.7674, -0.4695,  0.5426, -0.4634, -0.4657,  0.242 , -1.9133],\n",
       "       [-1.7249, -0.5623, -1.0128,  0.3142, -0.908 , -1.4123,  1.4656],\n",
       "       [-0.2258,  0.0675, -1.4247, -0.5444,  0.1109, -1.151 ,  0.3757],\n",
       "       [-0.6006, -0.2917, -0.6017,  1.8523, -0.0135, -1.0577,  0.8225],\n",
       "       [-1.2208,  0.2089, -1.9597, -1.3282,  0.1969,  0.7385,  0.1714],\n",
       "       [-0.1156, -0.3011, -1.4785, -0.7198, -0.4606,  1.0571,  0.3436]])"
      ]
     },
     "execution_count": 20,
     "metadata": {},
     "output_type": "execute_result"
    }
   ],
   "source": [
    "data"
   ]
  },
  {
   "cell_type": "code",
   "execution_count": 21,
   "id": "3d1f7815-aeeb-4b19-8ae5-4d0ed1bcb448",
   "metadata": {},
   "outputs": [
    {
     "data": {
      "text/plain": [
       "array([[ 1., -1.,  1.,  1., -1., -1.,  1.],\n",
       "       [ 1., -1.,  1., -1., -1.,  1., -1.],\n",
       "       [-1., -1., -1.,  1., -1., -1.,  1.],\n",
       "       [-1.,  1., -1., -1.,  1., -1.,  1.],\n",
       "       [-1., -1., -1.,  1., -1., -1.,  1.],\n",
       "       [-1.,  1., -1., -1.,  1.,  1.,  1.],\n",
       "       [-1., -1., -1., -1., -1.,  1.,  1.]])"
      ]
     },
     "execution_count": 21,
     "metadata": {},
     "output_type": "execute_result"
    }
   ],
   "source": [
    "np.where(data < 0, -1, np.where(data > 0, +1, data))"
   ]
  },
  {
   "cell_type": "code",
   "execution_count": 22,
   "id": "4296c303-ba6f-4192-8ded-4eff0245624e",
   "metadata": {},
   "outputs": [
    {
     "data": {
      "text/plain": [
       "array([[ 1, -1,  1,  1, -1, -1,  1],\n",
       "       [ 1, -1,  1, -1, -1,  1, -1],\n",
       "       [-1, -1, -1,  1, -1, -1,  1],\n",
       "       [-1,  1, -1, -1,  1, -1,  1],\n",
       "       [-1, -1, -1,  1, -1, -1,  1],\n",
       "       [-1,  1, -1, -1,  1,  1,  1],\n",
       "       [-1, -1, -1, -1, -1,  1,  1]])"
      ]
     },
     "execution_count": 22,
     "metadata": {},
     "output_type": "execute_result"
    }
   ],
   "source": [
    "np.select(\n",
    "    condlist=[data<0, data>0],\n",
    "    choicelist=[-1, +1],\n",
    "    default=0\n",
    ")"
   ]
  },
  {
   "cell_type": "markdown",
   "id": "784da531-3f16-4afd-b0bb-0d800c116540",
   "metadata": {},
   "source": [
    "### Write a function `npmts()` that calculates the number of payments that generate $x\\%$ of the present value of a perpetuity."
   ]
  },
  {
   "cell_type": "markdown",
   "id": "d275e333-9bcf-463b-a39d-9ea8a2eade3e",
   "metadata": {},
   "source": [
    "Your `npmts()` should accept arguments `c1`, `r`, and `g` that represent  $C_1$, $r$, and $g$.\n",
    "The present value of a growing perpetuity is $PV = \\frac{C_1}{r - g}$, and the present value of a growing annuity is $PV = \\frac{C_1}{r - g}\\left[ 1 - \\left( \\frac{1 + g}{1 + r} \\right)^t \\right]$."
   ]
  },
  {
   "cell_type": "markdown",
   "id": "c59bfb72-89d1-45e3-95ca-ab3d038e1da0",
   "metadata": {},
   "source": [
    "We can use the growing annuity and perpetuity formulas to show: $x = \\left[ 1 - \\left( \\frac{1 + g}{1 + r} \\right)^t \\right]$. \n",
    "\n",
    "Then: $1 - x = \\left( \\frac{1 + g}{1 + r} \\right)^t$.\n",
    "\n",
    "Finally: $t = \\frac{\\log(1-x)}{\\log\\left(\\frac{1 + g}{1 + r}\\right)}$\n",
    "\n",
    "***We do not need to accept an argument `c1` because $C_1$ cancels out!***"
   ]
  },
  {
   "cell_type": "code",
   "execution_count": 23,
   "id": "3c9a812c-9514-41d9-8c77-120ae0354bb6",
   "metadata": {},
   "outputs": [],
   "source": [
    "def npmts(x, r, g):\n",
    "    return np.log(1-x) / np.log((1 + g) / (1 + r))"
   ]
  },
  {
   "cell_type": "code",
   "execution_count": 24,
   "id": "d0b69424-ae41-4191-871c-a1c7f8b54d39",
   "metadata": {},
   "outputs": [
    {
     "data": {
      "text/plain": [
       "14.899977377480532"
      ]
     },
     "execution_count": 24,
     "metadata": {},
     "output_type": "execute_result"
    }
   ],
   "source": [
    "npmts(0.5, 0.1, 0.05)"
   ]
  },
  {
   "cell_type": "markdown",
   "id": "c350c919-5358-414c-a106-ca845a1149ff",
   "metadata": {},
   "source": [
    "### Write a function that calculates the internal rate of return given a NumPy array of cash flows."
   ]
  },
  {
   "cell_type": "markdown",
   "id": "c87157ab-b16a-4a3e-8276-b240302d9aea",
   "metadata": {},
   "source": [
    "Here are some data where the $IRR$ is obvious!"
   ]
  },
  {
   "cell_type": "code",
   "execution_count": 25,
   "id": "6a2b1259-6c5e-4e79-9f45-836994a032da",
   "metadata": {},
   "outputs": [],
   "source": [
    "c = np.array([-100, 110])\n",
    "irr = 0.1"
   ]
  },
  {
   "cell_type": "markdown",
   "id": "d73d9bda-798a-4369-979a-8deefc9f9920",
   "metadata": {},
   "source": [
    "We want to replicate the following calculation with NumPy:"
   ]
  },
  {
   "cell_type": "code",
   "execution_count": 26,
   "id": "e228579d-e00f-4e38-a1c9-54b0fd1e6299",
   "metadata": {},
   "outputs": [
    {
     "data": {
      "text/plain": [
       "-1.4210854715202004e-14"
      ]
     },
     "execution_count": 26,
     "metadata": {},
     "output_type": "execute_result"
    }
   ],
   "source": [
    "c[0]/(1+irr)**0 + c[1]/(1+irr)**1"
   ]
  },
  {
   "cell_type": "markdown",
   "id": "8be67288-c82c-4120-965a-8fc32decbe36",
   "metadata": {},
   "source": [
    "The following NumPy code calculates the present value interest factor for each cash flow:"
   ]
  },
  {
   "cell_type": "code",
   "execution_count": 27,
   "id": "6869ee32-b0a8-4508-8f07-b271bdd9b490",
   "metadata": {},
   "outputs": [
    {
     "data": {
      "text/plain": [
       "array([1.    , 0.9091])"
      ]
     },
     "execution_count": 27,
     "metadata": {},
     "output_type": "execute_result"
    }
   ],
   "source": [
    "1 / (1 + irr)**np.arange(len(c)) # present value interest factor"
   ]
  },
  {
   "cell_type": "markdown",
   "id": "3274ede3-d4eb-4e81-852e-61c1e190a8dc",
   "metadata": {},
   "source": [
    "The following NumPy code calculates the present value for each cash flow:"
   ]
  },
  {
   "cell_type": "code",
   "execution_count": 28,
   "id": "49c0e82c-c4e8-4531-bbb7-9cb03303ed0d",
   "metadata": {},
   "outputs": [
    {
     "data": {
      "text/plain": [
       "array([-100.,  100.])"
      ]
     },
     "execution_count": 28,
     "metadata": {},
     "output_type": "execute_result"
    }
   ],
   "source": [
    "c / (1 + irr)**np.arange(len(c)) # present value of each cash flow"
   ]
  },
  {
   "cell_type": "markdown",
   "id": "5983e1aa-0e65-43da-b938-64e9c744f08b",
   "metadata": {},
   "source": [
    "We sum these present values of each cash flow to calculate the net present value:"
   ]
  },
  {
   "cell_type": "code",
   "execution_count": 29,
   "id": "1db4ff18-f7c1-4430-baa9-e1ab40b6fe54",
   "metadata": {},
   "outputs": [
    {
     "data": {
      "text/plain": [
       "-1.4210854715202004e-14"
      ]
     },
     "execution_count": 29,
     "metadata": {},
     "output_type": "execute_result"
    }
   ],
   "source": [
    "(c / (1 + irr)**np.arange(len(c))).sum()"
   ]
  },
  {
   "cell_type": "markdown",
   "id": "02e9d473-f333-48f2-a561-c1447336df9f",
   "metadata": {},
   "source": [
    "The $IRR$ is the discount rate where $NPV=0$.\n",
    "We can can use the NumPy code above to try different discount rates until $NPV=0$.\n",
    "The following code is crude, but sufficient for week three of our class and highlights two tools:\n",
    "\n",
    "1. Using a `while` to try different discount rates until our answer is within some tolerance\n",
    "1. Using NumPy to perform repetitive calculations without a `for` loop"
   ]
  },
  {
   "cell_type": "code",
   "execution_count": 30,
   "id": "568e6630-9039-4e75-b4cb-d97c4a7a80dd",
   "metadata": {},
   "outputs": [],
   "source": [
    "def irr(c, guess=0, tol=0.0001, inc=0.0001):\n",
    "    npv = 42\n",
    "    irr = guess\n",
    "    while np.abs(npv) > tol:\n",
    "        irr += inc\n",
    "        npv = (c / (1 + irr)**np.arange(len(c))).sum()\n",
    "        \n",
    "    return irr"
   ]
  },
  {
   "cell_type": "code",
   "execution_count": 31,
   "id": "7787876f-cadf-410b-8af8-49a18821c2b5",
   "metadata": {},
   "outputs": [],
   "source": [
    "c = np.array([-100, 110])"
   ]
  },
  {
   "cell_type": "code",
   "execution_count": 32,
   "id": "f896b4f2-335c-4833-b496-518c5d85a106",
   "metadata": {},
   "outputs": [
    {
     "data": {
      "text/plain": [
       "0.1000"
      ]
     },
     "execution_count": 32,
     "metadata": {},
     "output_type": "execute_result"
    }
   ],
   "source": [
    "irr(c)"
   ]
  },
  {
   "cell_type": "markdown",
   "id": "3bbc1ce3-1962-469e-bc58-f8c13b512961",
   "metadata": {},
   "source": [
    "### Write a function `returns()` that accepts *NumPy arrays* of prices and dividends and returns a *NumPy array* of returns."
   ]
  },
  {
   "cell_type": "code",
   "execution_count": 33,
   "id": "a0cddc6d-6efd-40b5-8747-aba48243558f",
   "metadata": {},
   "outputs": [],
   "source": [
    "prices = np.array([100, 150, 100, 50, 100, 150, 100, 150])\n",
    "dividends = np.array([1, 1, 1, 1, 2, 2, 2, 2])"
   ]
  },
  {
   "cell_type": "code",
   "execution_count": 34,
   "id": "918c4491-7940-498c-841d-44240f2cfe25",
   "metadata": {
    "tags": []
   },
   "outputs": [],
   "source": [
    "def returns(p, d):\n",
    "    return (p[1:] - p[:-1] + d[1:]) / p[:-1]"
   ]
  },
  {
   "cell_type": "code",
   "execution_count": 35,
   "id": "376544aa-fa3f-4af2-b8bd-86a2a2cfd102",
   "metadata": {},
   "outputs": [
    {
     "data": {
      "text/plain": [
       "array([ 0.51  , -0.3267, -0.49  ,  1.04  ,  0.52  , -0.32  ,  0.52  ])"
      ]
     },
     "execution_count": 35,
     "metadata": {},
     "output_type": "execute_result"
    }
   ],
   "source": [
    "returns(p=prices, d=dividends)"
   ]
  },
  {
   "cell_type": "markdown",
   "id": "31b6c657-3164-46a0-9160-7c868714c76b",
   "metadata": {},
   "source": [
    "### Rewrite the function `returns()` so it returns *NumPy arrays* of returns, capital gains yields, and dividend yields."
   ]
  },
  {
   "cell_type": "code",
   "execution_count": 36,
   "id": "55a0e5b9-7ab7-412f-a79c-2c7daf290e27",
   "metadata": {},
   "outputs": [],
   "source": [
    "def returns(p, d):\n",
    "    cg = (p[1:] - p[:-1]) / p[:-1]\n",
    "    dy = d[1:] / p[:-1]\n",
    "    r = cg + dy\n",
    "    return {'r': r, 'cg': cg, 'dy': dy}"
   ]
  },
  {
   "cell_type": "code",
   "execution_count": 37,
   "id": "45cd2fc2-5932-4aad-a5cf-1aacb042a78e",
   "metadata": {},
   "outputs": [
    {
     "data": {
      "text/plain": [
       "{'r': array([ 0.51  , -0.3267, -0.49  ,  1.04  ,  0.52  , -0.32  ,  0.52  ]),\n",
       " 'cg': array([ 0.5   , -0.3333, -0.5   ,  1.    ,  0.5   , -0.3333,  0.5   ]),\n",
       " 'dy': array([0.01  , 0.0067, 0.01  , 0.04  , 0.02  , 0.0133, 0.02  ])}"
      ]
     },
     "execution_count": 37,
     "metadata": {},
     "output_type": "execute_result"
    }
   ],
   "source": [
    "returns(p=prices, d=dividends)"
   ]
  },
  {
   "cell_type": "markdown",
   "id": "d8bd7ca3-163d-4283-89bd-3902139b42a8",
   "metadata": {},
   "source": [
    "### Rescale and shift numbers so that they cover the range [0, 1]"
   ]
  },
  {
   "cell_type": "markdown",
   "id": "fadb2aee-d90a-4493-bfbb-d6b5b85fa829",
   "metadata": {},
   "source": [
    "Input: `np.array([18.5, 17.0, 18.0, 19.0, 18.0])` \\\n",
    "Output: `np.array([0.75, 0.0, 0.5, 1.0, 0.5])`"
   ]
  },
  {
   "cell_type": "code",
   "execution_count": 38,
   "id": "73c96365-d699-4762-b87a-f4f9f68643a1",
   "metadata": {},
   "outputs": [],
   "source": [
    "numbers = np.array([18.5, 17.0, 18.0, 19.0, 18.0])"
   ]
  },
  {
   "cell_type": "code",
   "execution_count": 39,
   "id": "3c2706fc-b296-48ee-a354-9944f2a4f189",
   "metadata": {
    "tags": []
   },
   "outputs": [
    {
     "data": {
      "text/plain": [
       "array([0.75, 0.  , 0.5 , 1.  , 0.5 ])"
      ]
     },
     "execution_count": 39,
     "metadata": {},
     "output_type": "execute_result"
    }
   ],
   "source": [
    "(numbers - numbers.min()) / (numbers.max() - numbers.min())"
   ]
  },
  {
   "cell_type": "markdown",
   "id": "b2840013-143b-4c27-842b-737269192f17",
   "metadata": {},
   "source": [
    "### Write functions `var()` and `std()` that calculate variance and standard deviation."
   ]
  },
  {
   "cell_type": "markdown",
   "id": "892d8f7d-c891-42fc-877c-d2dee982200d",
   "metadata": {},
   "source": [
    "NumPy's `.var()` and `.std()` methods return *population* statistics (i.e., denominators of $n$).\n",
    "The pandas equivalents return *sample* statistics (denominators of $n-1$), which are more appropriate for financial data analysis where we have a sample instead of a population.\n",
    "\n",
    "\n",
    "Both function should have an argument `sample` that is `True` by default so both functions return sample statistics by default.\n",
    "\n",
    "Use the output of `returns()` to compare your functions with NumPy's `.var()` and `.std()` methods."
   ]
  },
  {
   "cell_type": "code",
   "execution_count": 40,
   "id": "7f6b5be3-160f-4516-aa2e-947f6d14bbe9",
   "metadata": {},
   "outputs": [
    {
     "data": {
      "text/plain": [
       "array([ 0.4967, -0.1383,  0.6477, ..., -0.113 ,  1.4691,  0.4764])"
      ]
     },
     "execution_count": 40,
     "metadata": {},
     "output_type": "execute_result"
    }
   ],
   "source": [
    "np.random.seed(42)\n",
    "r = np.random.randn(1_000_000)\n",
    "r"
   ]
  },
  {
   "cell_type": "code",
   "execution_count": 41,
   "id": "32eac7c9-21d8-4187-b71e-8c760dba5955",
   "metadata": {},
   "outputs": [],
   "source": [
    "def var(x, ddof=0):\n",
    "    N = len(x)\n",
    "    return ((x - x.mean())**2).sum() / (N - ddof)"
   ]
  },
  {
   "cell_type": "code",
   "execution_count": 42,
   "id": "18b928c7-16f8-49d1-9845-7aa96589eb84",
   "metadata": {},
   "outputs": [
    {
     "data": {
      "text/plain": [
       "1.0003761089673018"
      ]
     },
     "execution_count": 42,
     "metadata": {},
     "output_type": "execute_result"
    }
   ],
   "source": [
    "r.var()"
   ]
  },
  {
   "cell_type": "code",
   "execution_count": 43,
   "id": "15389b77-9726-425e-91cd-3e709aa75c9f",
   "metadata": {},
   "outputs": [
    {
     "data": {
      "text/plain": [
       "1.0003761089673018"
      ]
     },
     "execution_count": 43,
     "metadata": {},
     "output_type": "execute_result"
    }
   ],
   "source": [
    "var(r)"
   ]
  },
  {
   "cell_type": "code",
   "execution_count": 44,
   "id": "7366ff46-503b-4c40-97bd-588441f60079",
   "metadata": {},
   "outputs": [
    {
     "data": {
      "text/plain": [
       "True"
      ]
     },
     "execution_count": 44,
     "metadata": {},
     "output_type": "execute_result"
    }
   ],
   "source": [
    "np.allclose(r.var(), var(r))"
   ]
  },
  {
   "cell_type": "code",
   "execution_count": 45,
   "id": "df709859-c387-456a-8112-6f038820fdf0",
   "metadata": {},
   "outputs": [
    {
     "data": {
      "text/plain": [
       "True"
      ]
     },
     "execution_count": 45,
     "metadata": {},
     "output_type": "execute_result"
    }
   ],
   "source": [
    "np.allclose(r.var(ddof=1), var(r, ddof=1))"
   ]
  },
  {
   "cell_type": "code",
   "execution_count": 46,
   "id": "ae460a11-fc8e-4060-8036-775cb7251918",
   "metadata": {},
   "outputs": [],
   "source": [
    "def std(x, ddof=0):\n",
    "    return np.sqrt(var(x=x, ddof=ddof))"
   ]
  },
  {
   "cell_type": "code",
   "execution_count": 47,
   "id": "8ea1ce92-1027-4980-a1af-f4edfb00b400",
   "metadata": {},
   "outputs": [
    {
     "data": {
      "text/plain": [
       "1.000188036804731"
      ]
     },
     "execution_count": 47,
     "metadata": {},
     "output_type": "execute_result"
    }
   ],
   "source": [
    "r.std()"
   ]
  },
  {
   "cell_type": "code",
   "execution_count": 48,
   "id": "a19a515d-dac7-4dc3-8122-3674f8c8aa7c",
   "metadata": {},
   "outputs": [
    {
     "data": {
      "text/plain": [
       "1.000188036804731"
      ]
     },
     "execution_count": 48,
     "metadata": {},
     "output_type": "execute_result"
    }
   ],
   "source": [
    "std(r)"
   ]
  },
  {
   "cell_type": "code",
   "execution_count": 49,
   "id": "a32c9fcd-4682-45ae-8adf-57eee2353efb",
   "metadata": {},
   "outputs": [
    {
     "data": {
      "text/plain": [
       "True"
      ]
     },
     "execution_count": 49,
     "metadata": {},
     "output_type": "execute_result"
    }
   ],
   "source": [
    "np.allclose(r.std(), std(r))"
   ]
  },
  {
   "cell_type": "code",
   "execution_count": 50,
   "id": "752c46c6-e8a8-48ef-88ad-4d14edf206d3",
   "metadata": {},
   "outputs": [
    {
     "data": {
      "text/plain": [
       "True"
      ]
     },
     "execution_count": 50,
     "metadata": {},
     "output_type": "execute_result"
    }
   ],
   "source": [
    "np.allclose(r.std(ddof=1), std(r, ddof=1))"
   ]
  }
 ],
 "metadata": {
  "author": "Richard Herron",
  "kernelspec": {
   "display_name": "Python 3 (ipykernel)",
   "language": "python",
   "name": "python3"
  },
  "language_info": {
   "codemirror_mode": {
    "name": "ipython",
    "version": 3
   },
   "file_extension": ".py",
   "mimetype": "text/x-python",
   "name": "python",
   "nbconvert_exporter": "python",
   "pygments_lexer": "ipython3",
   "version": "3.9.13"
  },
  "title": "McKinney Chapter 4 - Practice"
 },
 "nbformat": 4,
 "nbformat_minor": 5
}
