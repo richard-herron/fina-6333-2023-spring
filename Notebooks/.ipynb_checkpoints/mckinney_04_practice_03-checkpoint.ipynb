{
 "cells": [
  {
   "cell_type": "markdown",
   "id": "44439447-3047-4145-847e-ac90df0e3162",
   "metadata": {},
   "source": [
    "# McKinney Chapter 4 - Practice (Section 3, Monday 2:45 PM)"
   ]
  },
  {
   "cell_type": "code",
   "execution_count": 1,
   "id": "e699f608-e306-43be-833d-942d29021c50",
   "metadata": {},
   "outputs": [
    {
     "data": {
      "text/plain": [
       "'%.4f'"
      ]
     },
     "execution_count": 1,
     "metadata": {},
     "output_type": "execute_result"
    }
   ],
   "source": [
    "import numpy as np\n",
    "%precision 4"
   ]
  },
  {
   "cell_type": "markdown",
   "id": "21410ead-370f-4283-b694-a4bfb7f751c8",
   "metadata": {
    "tags": []
   },
   "source": [
    "## Practice"
   ]
  },
  {
   "cell_type": "markdown",
   "id": "bd998b0b-6cb1-45c7-adec-48bb1fc62f9f",
   "metadata": {
    "tags": []
   },
   "source": [
    "### Create a 1-dimensional array named `a1` that counts from 0 to 24 by 1."
   ]
  },
  {
   "cell_type": "code",
   "execution_count": 2,
   "id": "43eae206-6729-4482-a90b-34bc68c93f79",
   "metadata": {},
   "outputs": [
    {
     "data": {
      "text/plain": [
       "array([ 0,  1,  2,  3,  4,  5,  6,  7,  8,  9, 10, 11, 12, 13, 14, 15, 16,\n",
       "       17, 18, 19, 20, 21, 22, 23, 24])"
      ]
     },
     "execution_count": 2,
     "metadata": {},
     "output_type": "execute_result"
    }
   ],
   "source": [
    "np.array(range(25))"
   ]
  },
  {
   "cell_type": "code",
   "execution_count": 3,
   "id": "34ab667c-c53c-4547-b31b-22229439dcc7",
   "metadata": {},
   "outputs": [
    {
     "data": {
      "text/plain": [
       "array([ 0,  1,  2,  3,  4,  5,  6,  7,  8,  9, 10, 11, 12, 13, 14, 15, 16,\n",
       "       17, 18, 19, 20, 21, 22, 23, 24])"
      ]
     },
     "execution_count": 3,
     "metadata": {},
     "output_type": "execute_result"
    }
   ],
   "source": [
    "a1 = np.arange(25)\n",
    "a1"
   ]
  },
  {
   "cell_type": "code",
   "execution_count": 4,
   "id": "88c55824-ca98-430f-abb0-15e8864f48f7",
   "metadata": {},
   "outputs": [
    {
     "data": {
      "text/plain": [
       "0"
      ]
     },
     "execution_count": 4,
     "metadata": {},
     "output_type": "execute_result"
    }
   ],
   "source": [
    "a1[0]"
   ]
  },
  {
   "cell_type": "code",
   "execution_count": 5,
   "id": "47300d4d-ec72-49af-8d35-287ef40269fc",
   "metadata": {},
   "outputs": [
    {
     "data": {
      "text/plain": [
       "24"
      ]
     },
     "execution_count": 5,
     "metadata": {},
     "output_type": "execute_result"
    }
   ],
   "source": [
    "a1[-1]"
   ]
  },
  {
   "cell_type": "markdown",
   "id": "785ad26a-898d-46f0-a5de-798f7f16a2a7",
   "metadata": {},
   "source": [
    "How can we quickly slice the first five elements in `a1`? The next five elements in `a1`?"
   ]
  },
  {
   "cell_type": "code",
   "execution_count": 6,
   "id": "9d2df45f-db56-4922-9fbc-60e4a5223844",
   "metadata": {},
   "outputs": [
    {
     "data": {
      "text/plain": [
       "array([0, 1, 2, 3, 4])"
      ]
     },
     "execution_count": 6,
     "metadata": {},
     "output_type": "execute_result"
    }
   ],
   "source": [
    "a1[:5]"
   ]
  },
  {
   "cell_type": "code",
   "execution_count": 7,
   "id": "0a24a1dd-f86a-400e-a264-386bdab4dee8",
   "metadata": {},
   "outputs": [
    {
     "data": {
      "text/plain": [
       "array([5, 6, 7, 8, 9])"
      ]
     },
     "execution_count": 7,
     "metadata": {},
     "output_type": "execute_result"
    }
   ],
   "source": [
    "a1[5:10]"
   ]
  },
  {
   "cell_type": "markdown",
   "id": "2bf711fc-5690-42ed-bfa8-5788b2af1320",
   "metadata": {},
   "source": [
    "### Create a 1-dimentional array named `a2` that counts from 0 to 24 by 3."
   ]
  },
  {
   "cell_type": "code",
   "execution_count": 8,
   "id": "ad7dc8d4-09f7-4d49-9e25-a0f8c6128114",
   "metadata": {},
   "outputs": [],
   "source": [
    "a2 = np.arange(0, 25, 3)"
   ]
  },
  {
   "cell_type": "code",
   "execution_count": 9,
   "id": "12dac5b4-a471-4016-8555-7be04daf129e",
   "metadata": {},
   "outputs": [
    {
     "data": {
      "text/plain": [
       "array([ 0,  3,  6,  9, 12, 15, 18, 21, 24])"
      ]
     },
     "execution_count": 9,
     "metadata": {},
     "output_type": "execute_result"
    }
   ],
   "source": [
    "np.arange(0, 27, 3)"
   ]
  },
  {
   "cell_type": "markdown",
   "id": "e5f07713-7998-472b-bbc6-3b27b3ad73a4",
   "metadata": {},
   "source": [
    "Here is the \"Zen of Python\", which is an easter egg about the philosophy of Python."
   ]
  },
  {
   "cell_type": "code",
   "execution_count": 10,
   "id": "fde30f29-ebcd-4d61-8eaf-d07e38b94096",
   "metadata": {},
   "outputs": [
    {
     "name": "stdout",
     "output_type": "stream",
     "text": [
      "The Zen of Python, by Tim Peters\n",
      "\n",
      "Beautiful is better than ugly.\n",
      "Explicit is better than implicit.\n",
      "Simple is better than complex.\n",
      "Complex is better than complicated.\n",
      "Flat is better than nested.\n",
      "Sparse is better than dense.\n",
      "Readability counts.\n",
      "Special cases aren't special enough to break the rules.\n",
      "Although practicality beats purity.\n",
      "Errors should never pass silently.\n",
      "Unless explicitly silenced.\n",
      "In the face of ambiguity, refuse the temptation to guess.\n",
      "There should be one-- and preferably only one --obvious way to do it.\n",
      "Although that way may not be obvious at first unless you're Dutch.\n",
      "Now is better than never.\n",
      "Although never is often better than *right* now.\n",
      "If the implementation is hard to explain, it's a bad idea.\n",
      "If the implementation is easy to explain, it may be a good idea.\n",
      "Namespaces are one honking great idea -- let's do more of those!\n"
     ]
    }
   ],
   "source": [
    "import this"
   ]
  },
  {
   "cell_type": "markdown",
   "id": "ca4c0603-53bc-41e4-8be4-234b5d223033",
   "metadata": {},
   "source": [
    "### Create a 1-dimentional array named `a3` that counts from 0 to 100 by multiples of 3 and 5."
   ]
  },
  {
   "cell_type": "code",
   "execution_count": 11,
   "id": "e488fa77-1d95-47be-8220-8603094b6be5",
   "metadata": {},
   "outputs": [],
   "source": [
    "a3 = np.arange(100)"
   ]
  },
  {
   "cell_type": "code",
   "execution_count": 12,
   "id": "13bf3762-55bc-490e-b862-7e3ad25782b9",
   "metadata": {},
   "outputs": [
    {
     "data": {
      "text/plain": [
       "array([ 0,  3,  5,  6,  9, 10, 12, 15, 18, 20, 21, 24, 25, 27, 30, 33, 35,\n",
       "       36, 39, 40, 42, 45, 48, 50, 51, 54, 55, 57, 60, 63, 65, 66, 69, 70,\n",
       "       72, 75, 78, 80, 81, 84, 85, 87, 90, 93, 95, 96, 99])"
      ]
     },
     "execution_count": 12,
     "metadata": {},
     "output_type": "execute_result"
    }
   ],
   "source": [
    "a3 = a3[(a3%3==0) | (a3%5==0)]\n",
    "a3"
   ]
  },
  {
   "cell_type": "markdown",
   "id": "d2b6c6b1-2ef6-4dca-8d78-8baa1e669f20",
   "metadata": {},
   "source": [
    "We can also use a list comprehension, then cast the results to be an array.\n",
    "List comprehensions look like: `[function(i) for i in range(x) if condition on i]`"
   ]
  },
  {
   "cell_type": "code",
   "execution_count": 13,
   "id": "c39da698-8653-49d2-8382-338707efc227",
   "metadata": {},
   "outputs": [
    {
     "data": {
      "text/plain": [
       "array([ 0,  3,  5,  6,  9, 10, 12, 15, 18, 20, 21, 24, 25, 27, 30, 33, 35,\n",
       "       36, 39, 40, 42, 45, 48, 50, 51, 54, 55, 57, 60, 63, 65, 66, 69, 70,\n",
       "       72, 75, 78, 80, 81, 84, 85, 87, 90, 93, 95, 96, 99])"
      ]
     },
     "execution_count": 13,
     "metadata": {},
     "output_type": "execute_result"
    }
   ],
   "source": [
    "np.array([i for i in range(100) if (i%3==0) | (i%5==0)])"
   ]
  },
  {
   "cell_type": "markdown",
   "id": "5d8094be-53ca-4fce-a493-e8ba05051e9a",
   "metadata": {},
   "source": [
    "### Create a 1-dimensional array `a3` that contains the squares of the even integers through 100,000."
   ]
  },
  {
   "cell_type": "markdown",
   "id": "c85459e5-1871-46c6-a682-3de73a5241ca",
   "metadata": {},
   "source": [
    "How much faster is the NumPy version than the list comprehension version?"
   ]
  },
  {
   "cell_type": "code",
   "execution_count": 14,
   "id": "575ea022-bbb9-465a-8357-5b65884c83a5",
   "metadata": {},
   "outputs": [
    {
     "name": "stdout",
     "output_type": "stream",
     "text": [
      "9.91 ms ± 42.5 µs per loop (mean ± std. dev. of 7 runs, 100 loops each)\n"
     ]
    }
   ],
   "source": [
    "%timeit np.array([i**2 for i in range(0, 100_000, 2)])"
   ]
  },
  {
   "cell_type": "code",
   "execution_count": 15,
   "id": "a3e97e94-6090-454d-a2c0-ef4af088af08",
   "metadata": {},
   "outputs": [
    {
     "name": "stdout",
     "output_type": "stream",
     "text": [
      "19.5 µs ± 144 ns per loop (mean ± std. dev. of 7 runs, 100000 loops each)\n"
     ]
    }
   ],
   "source": [
    "%timeit np.arange(0, 100_000, 2)**2"
   ]
  },
  {
   "cell_type": "markdown",
   "id": "25c05620-2978-4176-85c9-7ca310935bc3",
   "metadata": {},
   "source": [
    "---"
   ]
  },
  {
   "cell_type": "markdown",
   "id": "ff401419-60a1-42e4-a614-faad344ee05d",
   "metadata": {},
   "source": [
    "***Note:***\n",
    "On some platforms, `np.arange(0, 100_001, 2)` returns an array of 32-bit integers.\n",
    "If we square this array of 32-bit integers, we get the wrong answer because the large values (e.g., $100,000^2$) are too large to represent as 32-bit integers.\n",
    "Since we know that we need 54-bit integers for this calculation, we should explcitly set either `dtype='int64'` or `dtype=np.int64`."
   ]
  },
  {
   "cell_type": "code",
   "execution_count": 54,
   "id": "fec79afc-9f4e-4d5b-9159-f0bfa207dbdd",
   "metadata": {},
   "outputs": [
    {
     "data": {
      "text/plain": [
       "array([          0,           4,          16, ...,  9999200016,\n",
       "        9999600004, 10000000000])"
      ]
     },
     "execution_count": 54,
     "metadata": {},
     "output_type": "execute_result"
    }
   ],
   "source": [
    "np.arange(0, 100_001, 2, dtype='int64')**2"
   ]
  },
  {
   "cell_type": "code",
   "execution_count": 55,
   "id": "6648dc89-1670-4e04-983a-cc52694e4c07",
   "metadata": {},
   "outputs": [
    {
     "data": {
      "text/plain": [
       "array([          0,           4,          16, ...,  9999200016,\n",
       "        9999600004, 10000000000])"
      ]
     },
     "execution_count": 55,
     "metadata": {},
     "output_type": "execute_result"
    }
   ],
   "source": [
    "np.arange(0, 100_001, 2, dtype=np.int64)**2"
   ]
  },
  {
   "cell_type": "markdown",
   "id": "5648452d-6a8b-4896-94b9-963652f52691",
   "metadata": {},
   "source": [
    "This [StackOverflow answer](https://stackoverflow.com/a/1970697/334755) is this best explanation I have found of this behavior."
   ]
  },
  {
   "cell_type": "markdown",
   "id": "258d3f8b-c01a-48be-9cf9-8cc73a972973",
   "metadata": {},
   "source": [
    "---"
   ]
  },
  {
   "cell_type": "markdown",
   "id": "daa77654-df00-4f92-8b4e-158b62e27c0e",
   "metadata": {},
   "source": [
    "### Write a function that mimic Excel's `pv` function."
   ]
  },
  {
   "cell_type": "markdown",
   "id": "56b4105f-9eef-4074-a381-4af91b76bbee",
   "metadata": {},
   "source": [
    "Here is how we call Excel's `pv` function:\n",
    "`=PV(rate, nper, pmt, [fv], [type])`\n",
    "We can use the annuity and lump sum present value formulas.\n",
    "\n",
    "Present value of an annuity payment `pmt`:\n",
    "$PV_{pmt} = \\frac{pmt}{rate} \\times \\left(1 - \\frac{1}{(1+rate)^{nper}} \\right)$\n",
    "\n",
    "Present value of a lump sum `fv`:\n",
    "$PV_{fv} = \\frac{fv}{(1+rate)^{nper}}$"
   ]
  },
  {
   "cell_type": "code",
   "execution_count": 16,
   "id": "6fffe732-262b-4769-b967-f3579abe0bea",
   "metadata": {},
   "outputs": [],
   "source": [
    "def pv(rate, nper, pmt=None, fv=None, type = 'END'):\n",
    "    if pmt is not None: # calculate PV of pmt, if given\n",
    "        pv_pmt = (pmt / rate) * (1 - (1 + rate)**(-nper))\n",
    "    else:\n",
    "        pv_pmt = 0\n",
    "\n",
    "    if fv is not None: # calculate PV of fv, if given\n",
    "        pv_fv = fv / (1 + rate)**nper\n",
    "    else:\n",
    "        pv_fv = 0\n",
    "    \n",
    "    if type=='END': # as-is if end of period payments\n",
    "        return -1 * (pv_pmt + pv_fv)\n",
    "    elif type=='BGN': # undo one period of discounting if bgn of period payments\n",
    "        return -1 * (pv_pmt + pv_fv) * (1 + rate)\n",
    "    else: # otherwise, ask use to specify end or bgn of period payments\n",
    "        print('Please enter END or BGN for the type argument')"
   ]
  },
  {
   "cell_type": "code",
   "execution_count": 17,
   "id": "1af74bbf-0f5d-4a00-a7e8-dc96a7c24d2b",
   "metadata": {},
   "outputs": [
    {
     "data": {
      "text/plain": [
       "-1000.0000"
      ]
     },
     "execution_count": 17,
     "metadata": {},
     "output_type": "execute_result"
    }
   ],
   "source": [
    "pv(rate=0.1, nper=10, pmt=100, fv=1000, type='END')"
   ]
  },
  {
   "cell_type": "markdown",
   "id": "99aab945-099d-48fb-8390-71fca4b22c2e",
   "metadata": {},
   "source": [
    "### Write a function that mimic Excel's `fv` function."
   ]
  },
  {
   "cell_type": "code",
   "execution_count": 18,
   "id": "675c57f1-838c-425b-b95a-9807dbb54502",
   "metadata": {},
   "outputs": [],
   "source": [
    "def fv(rate, nper, pmt=None, pv=None, type = 'END'):\n",
    "    if pmt is not None: # calculate PV of pmt, if given\n",
    "        fv_pmt = (pmt / rate) * ((1 + rate)**nper - 1)\n",
    "    else:\n",
    "        fv_pmt = 0\n",
    "\n",
    "    if fv is not None: # calculate PV of fv, if given\n",
    "        fv_pv = pv * (1 + rate)**nper\n",
    "    else:\n",
    "        fv_fv = 0\n",
    "    \n",
    "    if type=='END': # as-is if end of period payments\n",
    "        return -1 * (fv_pmt + fv_pv)\n",
    "    elif type=='BGN': # undo one period of discounting if bgn of period payments\n",
    "        return -1 * (fv_pmt + fv_pv) * (1 + rate)\n",
    "    else: # otherwise, ask use to specify end or bgn of period payments\n",
    "        print('Please enter END or BGN for the type argument')"
   ]
  },
  {
   "cell_type": "code",
   "execution_count": 19,
   "id": "e69207b8-bc2a-4158-979c-363c1f86e880",
   "metadata": {},
   "outputs": [
    {
     "data": {
      "text/plain": [
       "1000.0000"
      ]
     },
     "execution_count": 19,
     "metadata": {},
     "output_type": "execute_result"
    }
   ],
   "source": [
    "fv(rate=0.1, nper=10, pmt=100, pv=-1000, type='END')"
   ]
  },
  {
   "cell_type": "markdown",
   "id": "9c479549-c910-4bf6-843c-f263d81520e5",
   "metadata": {},
   "source": [
    "### Replace the negative values in `data` with -1 and positive values with +1."
   ]
  },
  {
   "cell_type": "code",
   "execution_count": 20,
   "id": "e98dc508-db40-43d0-95a7-b5b3a36a34b2",
   "metadata": {},
   "outputs": [
    {
     "data": {
      "text/plain": [
       "array([[ 0.4967, -0.1383,  0.6477,  1.523 , -0.2342, -0.2341,  1.5792],\n",
       "       [ 0.7674, -0.4695,  0.5426, -0.4634, -0.4657,  0.242 , -1.9133],\n",
       "       [-1.7249, -0.5623, -1.0128,  0.3142, -0.908 , -1.4123,  1.4656],\n",
       "       [-0.2258,  0.0675, -1.4247, -0.5444,  0.1109, -1.151 ,  0.3757],\n",
       "       [-0.6006, -0.2917, -0.6017,  1.8523, -0.0135, -1.0577,  0.8225],\n",
       "       [-1.2208,  0.2089, -1.9597, -1.3282,  0.1969,  0.7385,  0.1714],\n",
       "       [-0.1156, -0.3011, -1.4785, -0.7198, -0.4606,  1.0571,  0.3436]])"
      ]
     },
     "execution_count": 20,
     "metadata": {},
     "output_type": "execute_result"
    }
   ],
   "source": [
    "np.random.seed(42)\n",
    "data = np.random.randn(7, 7)\n",
    "data"
   ]
  },
  {
   "cell_type": "code",
   "execution_count": 21,
   "id": "ee0dfc72-b7d6-4060-bb20-afdeaf8fb312",
   "metadata": {},
   "outputs": [
    {
     "data": {
      "text/plain": [
       "array([[ 1., -1.,  1.,  1., -1., -1.,  1.],\n",
       "       [ 1., -1.,  1., -1., -1.,  1., -1.],\n",
       "       [-1., -1., -1.,  1., -1., -1.,  1.],\n",
       "       [-1.,  1., -1., -1.,  1., -1.,  1.],\n",
       "       [-1., -1., -1.,  1., -1., -1.,  1.],\n",
       "       [-1.,  1., -1., -1.,  1.,  1.,  1.],\n",
       "       [-1., -1., -1., -1., -1.,  1.,  1.]])"
      ]
     },
     "execution_count": 21,
     "metadata": {},
     "output_type": "execute_result"
    }
   ],
   "source": [
    "data2 = data.copy()\n",
    "data2[data2 < 0] = -1\n",
    "data2[data2 > 0] = +1\n",
    "data2"
   ]
  },
  {
   "cell_type": "markdown",
   "id": "8d8e53d3-cda6-4e02-9b81-ecc935a04f82",
   "metadata": {},
   "source": [
    "We could also use `np.select()`."
   ]
  },
  {
   "cell_type": "code",
   "execution_count": 22,
   "id": "f7b104af-7d28-4d3b-a9a8-13ca857a0c77",
   "metadata": {},
   "outputs": [
    {
     "data": {
      "text/plain": [
       "array([[ 1, -1,  1,  1, -1, -1,  1],\n",
       "       [ 1, -1,  1, -1, -1,  1, -1],\n",
       "       [-1, -1, -1,  1, -1, -1,  1],\n",
       "       [-1,  1, -1, -1,  1, -1,  1],\n",
       "       [-1, -1, -1,  1, -1, -1,  1],\n",
       "       [-1,  1, -1, -1,  1,  1,  1],\n",
       "       [-1, -1, -1, -1, -1,  1,  1]])"
      ]
     },
     "execution_count": 22,
     "metadata": {},
     "output_type": "execute_result"
    }
   ],
   "source": [
    "data3 = np.select(\n",
    "    condlist=[data<0, data>0],\n",
    "    choicelist=[-1, 1],\n",
    "    default=0\n",
    ")\n",
    "data3"
   ]
  },
  {
   "cell_type": "code",
   "execution_count": 23,
   "id": "c1bcbdaf-4875-4dd2-992a-70b40c897a43",
   "metadata": {},
   "outputs": [
    {
     "data": {
      "text/plain": [
       "True"
      ]
     },
     "execution_count": 23,
     "metadata": {},
     "output_type": "execute_result"
    }
   ],
   "source": [
    "np.allclose(data2, data3)"
   ]
  },
  {
   "cell_type": "markdown",
   "id": "784da531-3f16-4afd-b0bb-0d800c116540",
   "metadata": {},
   "source": [
    "### Write a function `npmts()` that calculates the number of payments that generate $x\\%$ of the present value of a perpetuity."
   ]
  },
  {
   "cell_type": "markdown",
   "id": "d275e333-9bcf-463b-a39d-9ea8a2eade3e",
   "metadata": {},
   "source": [
    "Your `npmts()` should accept arguments `c1`, `r`, and `g` that represent  $C_1$, $r$, and $g$.\n",
    "The present value of a growing perpetuity is $PV = \\frac{C_1}{r - g}$, and the present value of a growing annuity is $PV = \\frac{C_1}{r - g}\\left[ 1 - \\left( \\frac{1 + g}{1 + r} \\right)^t \\right]$."
   ]
  },
  {
   "cell_type": "markdown",
   "id": "cf35475a-ed28-4361-b876-ce72e20acca4",
   "metadata": {},
   "source": [
    "We can use the growing annuity and perpetuity formulas to show: $x = \\left[ 1 - \\left( \\frac{1 + g}{1 + r} \\right)^t \\right]$. \n",
    "\n",
    "Then: $1 - x = \\left( \\frac{1 + g}{1 + r} \\right)^t$.\n",
    "\n",
    "Finally: $t = \\frac{\\log(1-x)}{\\log\\left(\\frac{1 + g}{1 + r}\\right)}$\n",
    "\n",
    "***We do not need to accept an argument `c1` because $C_1$ cancels out!***"
   ]
  },
  {
   "cell_type": "code",
   "execution_count": 24,
   "id": "6ae149c3-f66c-4187-a633-c424cf4a568e",
   "metadata": {},
   "outputs": [],
   "source": [
    "def npmts(x, r, g):\n",
    "    return np.log(1-x) / np.log((1 + g) / (1 + r))"
   ]
  },
  {
   "cell_type": "code",
   "execution_count": 25,
   "id": "14c07746-74f7-4027-a324-fb20623dd93b",
   "metadata": {},
   "outputs": [
    {
     "data": {
      "text/plain": [
       "14.899977377480532"
      ]
     },
     "execution_count": 25,
     "metadata": {},
     "output_type": "execute_result"
    }
   ],
   "source": [
    "npmts(0.5, 0.1, 0.05)"
   ]
  },
  {
   "cell_type": "markdown",
   "id": "c350c919-5358-414c-a106-ca845a1149ff",
   "metadata": {},
   "source": [
    "### Write a function that calculates the internal rate of return given a NumPy array of cash flows."
   ]
  },
  {
   "cell_type": "markdown",
   "id": "b5ed8ab9-31e4-4c54-94cf-61259b29f28f",
   "metadata": {},
   "source": [
    "Here are some data where the $IRR$ is obvious!"
   ]
  },
  {
   "cell_type": "code",
   "execution_count": 26,
   "id": "958a3fce-7cc3-4551-ad16-ae304452b582",
   "metadata": {},
   "outputs": [],
   "source": [
    "c = np.array([-100, 110])\n",
    "irr = 0.1"
   ]
  },
  {
   "cell_type": "markdown",
   "id": "04eb834c-287f-474d-afad-dd518b20884c",
   "metadata": {},
   "source": [
    "We want to replicate the following calculation with NumPy:"
   ]
  },
  {
   "cell_type": "code",
   "execution_count": 27,
   "id": "876914b8-e668-41aa-bb07-67e930293f6b",
   "metadata": {},
   "outputs": [
    {
     "data": {
      "text/plain": [
       "-1.4210854715202004e-14"
      ]
     },
     "execution_count": 27,
     "metadata": {},
     "output_type": "execute_result"
    }
   ],
   "source": [
    "c[0]/(1+irr)**0 + c[1]/(1+irr)**1"
   ]
  },
  {
   "cell_type": "markdown",
   "id": "0fdf15ae-aa87-43b5-8167-f0bfae85d34b",
   "metadata": {},
   "source": [
    "The following NumPy code calculates the present value interest factor for each cash flow:"
   ]
  },
  {
   "cell_type": "code",
   "execution_count": 28,
   "id": "613953ad-3cbf-45b9-8351-77036cc5c6da",
   "metadata": {},
   "outputs": [
    {
     "data": {
      "text/plain": [
       "array([1.    , 0.9091])"
      ]
     },
     "execution_count": 28,
     "metadata": {},
     "output_type": "execute_result"
    }
   ],
   "source": [
    "1 / (1 + irr)**np.arange(len(c)) # present value interest factor"
   ]
  },
  {
   "cell_type": "markdown",
   "id": "0cb748a3-94e7-4c9b-a8f6-4ba27dfbe013",
   "metadata": {},
   "source": [
    "The following NumPy code calculates the present value for each cash flow:"
   ]
  },
  {
   "cell_type": "code",
   "execution_count": 29,
   "id": "df34655c-309e-4453-b0ca-7ad1b6a8bee8",
   "metadata": {},
   "outputs": [
    {
     "data": {
      "text/plain": [
       "array([-100.,  100.])"
      ]
     },
     "execution_count": 29,
     "metadata": {},
     "output_type": "execute_result"
    }
   ],
   "source": [
    "c / (1 + irr)**np.arange(len(c)) # present value of each cash flow"
   ]
  },
  {
   "cell_type": "markdown",
   "id": "3e129576-c98d-4fdc-93b3-75e881020de7",
   "metadata": {},
   "source": [
    "We sum these present values of each cash flow to calculate the net present value:"
   ]
  },
  {
   "cell_type": "code",
   "execution_count": 30,
   "id": "081831d2-10ed-4a5a-abbc-b1a19fa902b6",
   "metadata": {},
   "outputs": [
    {
     "data": {
      "text/plain": [
       "-1.4210854715202004e-14"
      ]
     },
     "execution_count": 30,
     "metadata": {},
     "output_type": "execute_result"
    }
   ],
   "source": [
    "(c / (1 + irr)**np.arange(len(c))).sum()"
   ]
  },
  {
   "cell_type": "markdown",
   "id": "c26bea86-b40b-4f4d-85a9-8cb21d0ea6aa",
   "metadata": {},
   "source": [
    "The $IRR$ is the discount rate where $NPV=0$.\n",
    "We can can use the NumPy code above to try different discount rates until $NPV=0$.\n",
    "The following code is crude, but sufficient for week three of our class and highlights two tools:\n",
    "\n",
    "1. Using a `while` to try different discount rates until our answer is within some tolerance\n",
    "1. Using NumPy to perform repetitive calculations without a `for` loop"
   ]
  },
  {
   "cell_type": "code",
   "execution_count": 31,
   "id": "d527a392-f9c7-41fa-882e-462f93c0f07f",
   "metadata": {},
   "outputs": [],
   "source": [
    "def irr(c, guess=0, tol=0.0001, inc=0.0001):\n",
    "    npv = 42\n",
    "    irr = guess\n",
    "    while np.abs(npv) > tol:\n",
    "        irr += inc\n",
    "        npv = (c / (1 + irr)**np.arange(len(c))).sum()\n",
    "        \n",
    "    return irr"
   ]
  },
  {
   "cell_type": "code",
   "execution_count": 32,
   "id": "6d4e0282-4421-4cef-9634-fa55b9b78d7b",
   "metadata": {},
   "outputs": [],
   "source": [
    "c = np.array([-100, 110])"
   ]
  },
  {
   "cell_type": "code",
   "execution_count": 33,
   "id": "e181b62e-294e-462a-8f5f-62232e2b050e",
   "metadata": {},
   "outputs": [
    {
     "data": {
      "text/plain": [
       "0.1000"
      ]
     },
     "execution_count": 33,
     "metadata": {},
     "output_type": "execute_result"
    }
   ],
   "source": [
    "irr(c)"
   ]
  },
  {
   "cell_type": "markdown",
   "id": "3bbc1ce3-1962-469e-bc58-f8c13b512961",
   "metadata": {},
   "source": [
    "### Write a function `returns()` that accepts *NumPy arrays* of prices and dividends and returns a *NumPy array* of returns."
   ]
  },
  {
   "cell_type": "code",
   "execution_count": 34,
   "id": "a0cddc6d-6efd-40b5-8747-aba48243558f",
   "metadata": {},
   "outputs": [],
   "source": [
    "prices = np.array([100, 150, 100, 50, 100, 150, 100, 150])\n",
    "dividends = np.array([1, 1, 1, 1, 2, 2, 2, 2])"
   ]
  },
  {
   "cell_type": "code",
   "execution_count": 35,
   "id": "6b137624-0874-4afb-b1bb-06f370805ad5",
   "metadata": {
    "tags": []
   },
   "outputs": [],
   "source": [
    "def returns(p, d):\n",
    "    return (p[1:] - p[:-1] + d[1:]) / p[:-1]"
   ]
  },
  {
   "cell_type": "code",
   "execution_count": 36,
   "id": "a3fbb7c4-1b46-494e-b3a9-b6171f6ba524",
   "metadata": {},
   "outputs": [
    {
     "data": {
      "text/plain": [
       "array([ 0.51  , -0.3267, -0.49  ,  1.04  ,  0.52  , -0.32  ,  0.52  ])"
      ]
     },
     "execution_count": 36,
     "metadata": {},
     "output_type": "execute_result"
    }
   ],
   "source": [
    "returns(p=prices, d=dividends)"
   ]
  },
  {
   "cell_type": "markdown",
   "id": "31b6c657-3164-46a0-9160-7c868714c76b",
   "metadata": {},
   "source": [
    "### Rewrite the function `returns()` so it returns *NumPy arrays* of returns, capital gains yields, and dividend yields."
   ]
  },
  {
   "cell_type": "code",
   "execution_count": 37,
   "id": "c359140c-0e61-43ef-ab7c-4a4376eb7ae7",
   "metadata": {},
   "outputs": [],
   "source": [
    "def returns(p, d):\n",
    "    cg = (p[1:] - p[:-1]) / p[:-1]\n",
    "    dy = d[1:] / p[:-1]\n",
    "    r = cg + dy\n",
    "    return {'r': r, 'cg': cg, 'dy': dy}"
   ]
  },
  {
   "cell_type": "code",
   "execution_count": 38,
   "id": "01833108-2e99-4468-b05b-41f46a99e5b6",
   "metadata": {},
   "outputs": [
    {
     "data": {
      "text/plain": [
       "{'r': array([ 0.51  , -0.3267, -0.49  ,  1.04  ,  0.52  , -0.32  ,  0.52  ]),\n",
       " 'cg': array([ 0.5   , -0.3333, -0.5   ,  1.    ,  0.5   , -0.3333,  0.5   ]),\n",
       " 'dy': array([0.01  , 0.0067, 0.01  , 0.04  , 0.02  , 0.0133, 0.02  ])}"
      ]
     },
     "execution_count": 38,
     "metadata": {},
     "output_type": "execute_result"
    }
   ],
   "source": [
    "returns(p=prices, d=dividends)"
   ]
  },
  {
   "cell_type": "markdown",
   "id": "d8bd7ca3-163d-4283-89bd-3902139b42a8",
   "metadata": {},
   "source": [
    "### Rescale and shift numbers so that they cover the range [0, 1]"
   ]
  },
  {
   "cell_type": "markdown",
   "id": "fadb2aee-d90a-4493-bfbb-d6b5b85fa829",
   "metadata": {},
   "source": [
    "Input: `np.array([18.5, 17.0, 18.0, 19.0, 18.0])` \\\n",
    "Output: `np.array([0.75, 0.0, 0.5, 1.0, 0.5])`"
   ]
  },
  {
   "cell_type": "code",
   "execution_count": 39,
   "id": "73c96365-d699-4762-b87a-f4f9f68643a1",
   "metadata": {},
   "outputs": [],
   "source": [
    "numbers = np.array([18.5, 17.0, 18.0, 19.0, 18.0])"
   ]
  },
  {
   "cell_type": "code",
   "execution_count": 40,
   "id": "70641a6c-e801-41da-833d-ecc1f9e8813e",
   "metadata": {
    "tags": []
   },
   "outputs": [
    {
     "data": {
      "text/plain": [
       "array([0.75, 0.  , 0.5 , 1.  , 0.5 ])"
      ]
     },
     "execution_count": 40,
     "metadata": {},
     "output_type": "execute_result"
    }
   ],
   "source": [
    "(numbers - numbers.min()) / (numbers.max() - numbers.min())"
   ]
  },
  {
   "cell_type": "markdown",
   "id": "b2840013-143b-4c27-842b-737269192f17",
   "metadata": {},
   "source": [
    "### Write functions `var()` and `std()` that calculate variance and standard deviation."
   ]
  },
  {
   "cell_type": "markdown",
   "id": "892d8f7d-c891-42fc-877c-d2dee982200d",
   "metadata": {},
   "source": [
    "NumPy's `.var()` and `.std()` methods return *population* statistics (i.e., denominators of $n$).\n",
    "The pandas equivalents return *sample* statistics (denominators of $n-1$), which are more appropriate for financial data analysis where we have a sample instead of a population.\n",
    "\n",
    "\n",
    "Both function should have an argument `sample` that is `True` by default so both functions return sample statistics by default.\n",
    "\n",
    "Use the output of `returns()` to compare your functions with NumPy's `.var()` and `.std()` methods."
   ]
  },
  {
   "cell_type": "code",
   "execution_count": 41,
   "id": "55b69c7f-d0f1-43c2-ad92-00d185cee02c",
   "metadata": {},
   "outputs": [
    {
     "data": {
      "text/plain": [
       "array([ 0.4967, -0.1383,  0.6477, ..., -0.113 ,  1.4691,  0.4764])"
      ]
     },
     "execution_count": 41,
     "metadata": {},
     "output_type": "execute_result"
    }
   ],
   "source": [
    "np.random.seed(42)\n",
    "r = np.random.randn(1_000_000)\n",
    "r"
   ]
  },
  {
   "cell_type": "code",
   "execution_count": 42,
   "id": "51adeb33-f7ae-4501-8195-30b4f6d939d0",
   "metadata": {},
   "outputs": [],
   "source": [
    "def var(x, ddof=0):\n",
    "    N = len(x)\n",
    "    return ((x - x.mean())**2).sum() / (N - ddof)"
   ]
  },
  {
   "cell_type": "code",
   "execution_count": 43,
   "id": "8533fd81-1d42-4acd-b878-ec5d5e6691cd",
   "metadata": {},
   "outputs": [
    {
     "data": {
      "text/plain": [
       "1.0003761089673018"
      ]
     },
     "execution_count": 43,
     "metadata": {},
     "output_type": "execute_result"
    }
   ],
   "source": [
    "r.var()"
   ]
  },
  {
   "cell_type": "code",
   "execution_count": 44,
   "id": "865e5052-2ccc-4acd-95a7-543031da3c7b",
   "metadata": {},
   "outputs": [
    {
     "data": {
      "text/plain": [
       "1.0003761089673018"
      ]
     },
     "execution_count": 44,
     "metadata": {},
     "output_type": "execute_result"
    }
   ],
   "source": [
    "var(r)"
   ]
  },
  {
   "cell_type": "code",
   "execution_count": 45,
   "id": "7efd2c68-63a1-43f5-840a-35aaf4c0769a",
   "metadata": {},
   "outputs": [
    {
     "data": {
      "text/plain": [
       "True"
      ]
     },
     "execution_count": 45,
     "metadata": {},
     "output_type": "execute_result"
    }
   ],
   "source": [
    "np.allclose(r.var(), var(r))"
   ]
  },
  {
   "cell_type": "code",
   "execution_count": 46,
   "id": "768fd558-88f9-4578-a69e-9f043ca42ea9",
   "metadata": {},
   "outputs": [
    {
     "data": {
      "text/plain": [
       "True"
      ]
     },
     "execution_count": 46,
     "metadata": {},
     "output_type": "execute_result"
    }
   ],
   "source": [
    "np.allclose(r.var(ddof=1), var(r, ddof=1))"
   ]
  },
  {
   "cell_type": "code",
   "execution_count": 47,
   "id": "9873a885-4c5d-47d7-9c3f-a95a5b555682",
   "metadata": {},
   "outputs": [],
   "source": [
    "def std(x, ddof=0):\n",
    "    return np.sqrt(var(x=x, ddof=ddof))"
   ]
  },
  {
   "cell_type": "code",
   "execution_count": 48,
   "id": "e5bc6d96-4979-4f59-9bab-f75ff015ef64",
   "metadata": {},
   "outputs": [
    {
     "data": {
      "text/plain": [
       "1.000188036804731"
      ]
     },
     "execution_count": 48,
     "metadata": {},
     "output_type": "execute_result"
    }
   ],
   "source": [
    "r.std()"
   ]
  },
  {
   "cell_type": "code",
   "execution_count": 49,
   "id": "2a9c9d91-e1f8-43d2-9c47-e6f45510b943",
   "metadata": {},
   "outputs": [
    {
     "data": {
      "text/plain": [
       "1.000188036804731"
      ]
     },
     "execution_count": 49,
     "metadata": {},
     "output_type": "execute_result"
    }
   ],
   "source": [
    "std(r)"
   ]
  },
  {
   "cell_type": "code",
   "execution_count": 50,
   "id": "6e781c95-ccdb-439d-84a0-b7ff51b73041",
   "metadata": {},
   "outputs": [
    {
     "data": {
      "text/plain": [
       "True"
      ]
     },
     "execution_count": 50,
     "metadata": {},
     "output_type": "execute_result"
    }
   ],
   "source": [
    "np.allclose(r.std(), std(r))"
   ]
  },
  {
   "cell_type": "code",
   "execution_count": 51,
   "id": "dcca0ee4-6e1a-45ca-a75d-8c1c21893ca5",
   "metadata": {},
   "outputs": [
    {
     "data": {
      "text/plain": [
       "True"
      ]
     },
     "execution_count": 51,
     "metadata": {},
     "output_type": "execute_result"
    }
   ],
   "source": [
    "np.allclose(r.std(ddof=1), std(r, ddof=1))"
   ]
  }
 ],
 "metadata": {
  "author": "Richard Herron",
  "kernelspec": {
   "display_name": "Python 3 (ipykernel)",
   "language": "python",
   "name": "python3"
  },
  "language_info": {
   "codemirror_mode": {
    "name": "ipython",
    "version": 3
   },
   "file_extension": ".py",
   "mimetype": "text/x-python",
   "name": "python",
   "nbconvert_exporter": "python",
   "pygments_lexer": "ipython3",
   "version": "3.9.13"
  },
  "title": "McKinney Chapter 4 - Practice"
 },
 "nbformat": 4,
 "nbformat_minor": 5
}
