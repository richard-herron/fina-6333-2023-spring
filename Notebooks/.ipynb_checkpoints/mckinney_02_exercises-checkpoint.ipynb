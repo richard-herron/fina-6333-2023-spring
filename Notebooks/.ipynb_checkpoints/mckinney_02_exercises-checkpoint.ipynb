{
 "cells": [
  {
   "cell_type": "markdown",
   "id": "84f5567b-2c05-41c7-9cb3-498ecd6e4c00",
   "metadata": {},
   "source": [
    "# McKinney Chapter 2 - Exercises (Blank)"
   ]
  },
  {
   "cell_type": "markdown",
   "id": "7373fbfc-3994-4c15-bc09-91e9599291e1",
   "metadata": {},
   "source": [
    "***Exercise:*** \n",
    "Extract the year, month, and day from an 8-digit date (i.e., YYYYMMDD format).\n",
    "Try `20080915` using `//` (integer division) and `%` (modulo division)."
   ]
  },
  {
   "cell_type": "markdown",
   "id": "be060ebd-93d7-4c2e-b57a-a4ff9a6d2a93",
   "metadata": {},
   "source": [
    "***Exercise:***\n",
    "Use your answer above to write a function `date` that accepts an integer 8-digit date and returns a tuple of the year, month, and date (e.g., `return (year, month, date)`)"
   ]
  },
  {
   "cell_type": "markdown",
   "id": "89e332f5-1f05-479a-a055-188098f0d9dd",
   "metadata": {},
   "source": [
    "***Exercise:***\n",
    "Rewrite `date` to accept an 8-digit date as an integer or string."
   ]
  },
  {
   "cell_type": "markdown",
   "id": "7ea1b963-efc2-40ef-b81c-24f0fc4a48d0",
   "metadata": {},
   "source": [
    "***Exercise:***\n",
    "Finally, rewrite `date` to accept a list of 8-digit dates as integers or strings.\n",
    "Return a list of tuples of year, month, and date."
   ]
  },
  {
   "cell_type": "markdown",
   "id": "629e8239-27c2-48f4-ba1c-7e97da177f01",
   "metadata": {},
   "source": [
    "***Exercise:***\n",
    "Write a for loop that prints the squares of integers from 1 to 10."
   ]
  },
  {
   "cell_type": "markdown",
   "id": "a9d5310a-f19a-448e-976f-44ffbecad467",
   "metadata": {},
   "source": [
    "***Exercise:***\n",
    "Write a for loop that prints the squares of *even* integers from 1 to 10."
   ]
  },
  {
   "cell_type": "markdown",
   "id": "fca2f010-cd87-4c0f-8a47-c849a8f26cc2",
   "metadata": {},
   "source": [
    "***Exercise:*** \n",
    "Write a for loop that sums the squares of integers from 1 to 10."
   ]
  },
  {
   "cell_type": "markdown",
   "id": "4f59f13f-ba78-4212-bf00-b060756b4320",
   "metadata": {},
   "source": [
    "***Exercise:*** \n",
    "Write a for loop that sums the squares of integers from 1 to 10 but do not let the sum exceed 50."
   ]
  },
  {
   "cell_type": "markdown",
   "id": "754dfb1e-228a-4b17-a232-b5cea8f6885f",
   "metadata": {
    "tags": []
   },
   "source": [
    "***Exercise:*** \n",
    "Write a for loop that prints the numbers from 1 to 100. \n",
    "For multiples of three print \"Fizz\" instead of the number.\n",
    "For multiples of five print \"Buzz\". \n",
    "For numbers that are multiples of both three and five print \"FizzBuzz\".\n",
    "More [here](https://blog.codinghorror.com/why-cant-programmers-program/)."
   ]
  },
  {
   "cell_type": "markdown",
   "id": "9f07719a-e80d-4ddd-8d4f-ea87397d6d09",
   "metadata": {},
   "source": [
    "***Exercise:*** \n",
    "Use ternary expressions to make your FizzBuzz code more compact."
   ]
  },
  {
   "cell_type": "markdown",
   "id": "c76b23e0-a42d-4843-9723-3986a506f89e",
   "metadata": {},
   "source": [
    "***Exercise:***\n",
    "Write a function `triangle` that accepts a positive integer $N$ and prints a numerical triangle of height $N-1$.\n",
    "For example, `triangle(N=6)` should print:\n",
    "\n",
    "```\n",
    "1\n",
    "22\n",
    "333\n",
    "4444\n",
    "55555\n",
    "```"
   ]
  },
  {
   "cell_type": "markdown",
   "id": "e60568ec-e02d-4639-b6b5-a9816d3454d7",
   "metadata": {},
   "source": [
    "***Exercise:***\n",
    "Write a function `two_sum` that does the following.\n",
    "\n",
    "Given an array of integers `nums` and an integer `target`, return the indices of the two numbers that add up to target.\n",
    "\n",
    "You may assume that each input would have exactly one solution, and you may not use the same element twice.\n",
    "\n",
    "You can return the answer in any order.\n",
    "\n",
    "Here are some examples:\n",
    "\n",
    "Example 1:\n",
    "\n",
    "Input: `nums = [2,7,11,15]`, `target = 9`\n",
    "Output: `[0,1]`\n",
    "Explanation: Because `nums[0] + nums[1] == 9`, we return `[0, 1]`.\n",
    "\n",
    "Example 2:\n",
    "\n",
    "Input: `nums = [3,2,4]`, `target = 6`\n",
    "Output: `[1,2]`\n",
    "\n",
    "Example 3:\n",
    "\n",
    "Input: `nums = [3,3]`, `target = 6`\n",
    "Output: `[0,1]`\n",
    "\n",
    "I saw this question on [LeetCode](https://leetcode.com/problems/two-sum/description/)."
   ]
  },
  {
   "cell_type": "markdown",
   "id": "4356132c-54c0-419a-aacd-55b6766dd774",
   "metadata": {},
   "source": [
    "***Exercise:***\n",
    "\n",
    "Write a function `best_time` that solves the following.\n",
    "\n",
    "You are given an array `prices` where `prices[i]` is the price of a given stock on the $i^{th}$ day.\n",
    "\n",
    "You want to maximize your profit by choosing a single day to buy one stock and choosing a different day in the future to sell that stock.\n",
    "\n",
    "Return the maximum profit you can achieve from this transaction. If you cannot achieve any profit, return 0.\n",
    "\n",
    "Here are some examples:\n",
    "\n",
    "Example 1:\n",
    "\n",
    "Input: `prices = [7,1,5,3,6,4]`\n",
    "Output: `5`\n",
    "Explanation: Buy on day 2 (price = 1) and sell on day 5 (price = 6), profit = 6-1 = 5.\n",
    "Note that buying on day 2 and selling on day 1 is not allowed because you must buy before you sell.\n",
    "\n",
    "Example 2:\n",
    "\n",
    "Input: `prices = [7,6,4,3,1]`\n",
    "Output: `0`\n",
    "Explanation: In this case, no transactions are done and the max profit = 0.\n",
    "\n",
    "I saw this question on [LeetCode](https://leetcode.com/problems/best-time-to-buy-and-sell-stock/), too."
   ]
  }
 ],
 "metadata": {
  "author": "Richard Herron",
  "kernelspec": {
   "display_name": "Python 3 (ipykernel)",
   "language": "python",
   "name": "python3"
  },
  "language_info": {
   "codemirror_mode": {
    "name": "ipython",
    "version": 3
   },
   "file_extension": ".py",
   "mimetype": "text/x-python",
   "name": "python",
   "nbconvert_exporter": "python",
   "pygments_lexer": "ipython3",
   "version": "3.10.8"
  },
  "title": "McKinney Chapter 2 - Exercises",
  "toc-autonumbering": true
 },
 "nbformat": 4,
 "nbformat_minor": 5
}
