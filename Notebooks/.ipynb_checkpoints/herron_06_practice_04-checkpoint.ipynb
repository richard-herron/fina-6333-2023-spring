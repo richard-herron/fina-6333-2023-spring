{
 "cells": [
  {
   "cell_type": "markdown",
   "id": "22b59adb-864b-49c7-99dc-5f498ced59c2",
   "metadata": {},
   "source": [
    "# Herron Topic 6 - Practice (Wednesday 11:45 AM, Section 4)"
   ]
  },
  {
   "cell_type": "markdown",
   "id": "5adf9803-55e1-4ccc-a675-65f13ac58bca",
   "metadata": {},
   "source": [
    "## Announcements"
   ]
  },
  {
   "cell_type": "markdown",
   "id": "0b83e903-11b0-4e8d-9d69-0e514313840a",
   "metadata": {},
   "source": [
    "- Quiz 6 mean and median were about ~~90% and 96%~~  92% and 100%\n",
    "    - Please see the solution on Canvas and let me know if you have any questions\n",
    "    - Gradescope shows which hidden tests you missed\n",
    "    - I recently widened the tolerance on two hidden tests to give full credit if you minimized variance instead of volatility\n",
    "- I posted [project 2](project_02.ipynb) about Bitcoin and gold as inflation and market risk hedges\n",
    "- Next week (week of 4/10) is the assessment exam\n",
    "    - MSFQ students must take it for 5% of overall course grade \n",
    "    - Non-MSQF students do not take it and weight their grades by only 95%\n",
    "    - 20 multiple choice questions on the 6 core courses (corporate finance, investments, math, data analytics, empirical methods, and derivatives)\n",
    "    - ***You must be in the classroom during your assigned date and time to take the MSFQ assessment exam***\n",
    "    - If there is interest, we will discuss five stylized facts of asset returns after the MSFQ assessment exam\n",
    "    - We will also have our final quiz, quiz 7\n",
    "- The following week (week of 4/17) we will discuss Herron topic 5 (simulations)\n",
    "    - I will record a lecture video and complete a practice notebook\n",
    "    - But we will reserve class time for group work\n",
    "    - The class voted about 2-to-1 not to drop a topic, so this is a compromise, given that Monday is Patriot's Day holiday\n",
    "- The following week (week of 4/24) we will reserve class time for group work\n",
    "    - Project 2 is due Wednesday, 4/26, at 11:59 PM\n",
    "    - Teammates Review 2 is due Wednesday, 4/26, at 11:59 PM\n",
    "    - 30,000 DataCamp XP are due Friday, 4/28, at 11:59 PM\n",
    "- ***Somewhere in there, please reserve 10 minutes to complete a TRACE review for this course***\n",
    "    - I cannot make you complete TRACE reviews\n",
    "    - But they are very helpful\n",
    "    - I change my courses every semester, hopefully for the better, based on TRACE reviews"
   ]
  },
  {
   "cell_type": "markdown",
   "id": "837fbfec-079d-4190-b763-7cf5e73ec3e2",
   "metadata": {},
   "source": [
    "##  Practice"
   ]
  },
  {
   "cell_type": "code",
   "execution_count": 25,
   "id": "2c33c2ac-4f03-4ceb-abbd-0b586c696330",
   "metadata": {
    "editable": true
   },
   "outputs": [],
   "source": [
    "import matplotlib.pyplot as plt\n",
    "import numpy as np\n",
    "import pandas as pd"
   ]
  },
  {
   "cell_type": "code",
   "execution_count": 26,
   "id": "f11fbcf7-3831-4d78-9696-db94bd39a4df",
   "metadata": {},
   "outputs": [],
   "source": [
    "%config InlineBackend.figure_format = 'retina'\n",
    "%precision 4\n",
    "pd.options.display.float_format = '{:.4f}'.format"
   ]
  },
  {
   "cell_type": "code",
   "execution_count": 27,
   "id": "adc4cf62-6571-4ac8-8edf-85d99afe751e",
   "metadata": {},
   "outputs": [],
   "source": [
    "import yfinance as yf\n",
    "import pandas_datareader as pdr\n",
    "import requests_cache\n",
    "session = requests_cache.CachedSession()"
   ]
  },
  {
   "cell_type": "markdown",
   "id": "45f55c8d-086e-48fd-a44f-d22d3ac26b86",
   "metadata": {},
   "source": [
    "### Reimplement the equal-weighted momentum investing strategy from the lecture notebook"
   ]
  },
  {
   "cell_type": "markdown",
   "id": "818e97c3-ca22-4362-ab49-5f55a2ba916e",
   "metadata": {},
   "source": [
    "Try to use a few cells and temporary variables as you can (i.e., perform calculations inside `pd.concat()`)."
   ]
  },
  {
   "cell_type": "code",
   "execution_count": 7,
   "id": "873ce4db-f564-4f34-a5b0-c6bb96347978",
   "metadata": {},
   "outputs": [],
   "source": [
    "crsp = (\n",
    "    pd.read_csv(\n",
    "        filepath_or_buffer='crsp.csv',\n",
    "        parse_dates=['date'],\n",
    "        na_values=['A', 'B', 'C'] # CRSP uses letter codes to provide additional information, which we can ignore\n",
    "    )\n",
    "    .assign(date=lambda x: x['date'].dt.to_period(freq='M')) # returns span a month, so I prefer to work with periods instead of dates\n",
    "    .rename_axis(columns='Variable')\n",
    "    .set_index(['PERMNO', 'date'])\n",
    ")"
   ]
  },
  {
   "cell_type": "markdown",
   "id": "7130563d-c183-4121-aba0-279ecf07a937",
   "metadata": {},
   "source": [
    "### Add a long-short portfolio that is long portfolio 10 and short portfolio 1"
   ]
  },
  {
   "cell_type": "markdown",
   "id": "ef035218-671e-4097-8701-1c4d2f65d1ec",
   "metadata": {},
   "source": [
    "Call this long-short portfolio UMD.\n",
    "What are the best and worst months for portfolios 1, 10, and UMD?"
   ]
  },
  {
   "cell_type": "markdown",
   "id": "38c1f3e3-1ad9-4660-a95a-4505e12caf0b",
   "metadata": {},
   "source": [
    "### What are the Sharpe Ratios on these 11 portfolios?"
   ]
  },
  {
   "cell_type": "markdown",
   "id": "8b5405e3-015f-4b61-9054-f80b239754cc",
   "metadata": {},
   "source": [
    "### Implement a value-weighted momentum investing strategy"
   ]
  },
  {
   "cell_type": "markdown",
   "id": "57f68ea7-7f22-4a40-9495-6250c92e243c",
   "metadata": {},
   "source": [
    "Assign this strategy to data frame `mom_vw`, and include long-short portfolio UMD"
   ]
  },
  {
   "cell_type": "markdown",
   "id": "b8fff9e2-1c4f-4068-b73a-d72ad1ec18b9",
   "metadata": {},
   "source": [
    "### What are the CAPM and FF4 alphas for these value-weighted portfolios?"
   ]
  },
  {
   "cell_type": "markdown",
   "id": "69bba67f-a58a-4669-99db-6632227ecd03",
   "metadata": {},
   "source": [
    "### What are the Sharpe Ratios for these value-weighted portfolios?"
   ]
  },
  {
   "cell_type": "markdown",
   "id": "b168084c-049c-41bb-adb3-b85e92fc35d7",
   "metadata": {},
   "source": [
    "### Implement an equal-weighted size investing strategy based on market capitalization ~~at the start of each month~~ from the previous June"
   ]
  },
  {
   "cell_type": "markdown",
   "id": "7a167db3-2de5-4b6e-9791-e6302f0f0f01",
   "metadata": {
    "tags": []
   },
   "source": [
    "### Implement a value-weighted size investing strategy based on market capitalization ~~at the start of each month~~ from the previous June"
   ]
  }
 ],
 "metadata": {
  "kernelspec": {
   "display_name": "Python 3 (ipykernel)",
   "language": "python",
   "name": "python3"
  },
  "language_info": {
   "codemirror_mode": {
    "name": "ipython",
    "version": 3
   },
   "file_extension": ".py",
   "mimetype": "text/x-python",
   "name": "python",
   "nbconvert_exporter": "python",
   "pygments_lexer": "ipython3",
   "version": "3.9.13"
  },
  "title": "Herron Topic 6 - Practice"
 },
 "nbformat": 4,
 "nbformat_minor": 5
}
