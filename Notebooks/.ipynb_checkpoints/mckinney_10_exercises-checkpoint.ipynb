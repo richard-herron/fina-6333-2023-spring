{
 "cells": [
  {
   "cell_type": "markdown",
   "id": "8178742d-2457-4e82-b936-265ef2bde302",
   "metadata": {},
   "source": [
    "# McKinney Chapter 10 - Exercises (Blank)"
   ]
  },
  {
   "cell_type": "code",
   "execution_count": null,
   "id": "d0b9587e-6337-429d-81bc-9bafd46ca87e",
   "metadata": {},
   "outputs": [],
   "source": []
  }
 ],
 "metadata": {
  "author": "Richard Herron",
  "kernelspec": {
   "display_name": "Python 3 (ipykernel)",
   "language": "python",
   "name": "python3"
  },
  "language_info": {
   "codemirror_mode": {
    "name": "ipython",
    "version": 3
   },
   "file_extension": ".py",
   "mimetype": "text/x-python",
   "name": "python",
   "nbconvert_exporter": "python",
   "pygments_lexer": "ipython3",
   "version": "3.10.8"
  },
  "title": "McKinney Chapter 10 - Exercises"
 },
 "nbformat": 4,
 "nbformat_minor": 5
}
