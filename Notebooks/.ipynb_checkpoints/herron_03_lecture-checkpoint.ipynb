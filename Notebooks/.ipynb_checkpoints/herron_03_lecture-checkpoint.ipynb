{
 "cells": [
  {
   "cell_type": "markdown",
   "id": "c6ca4c10-e13e-4d15-abeb-235009f50d96",
   "metadata": {
    "tags": []
   },
   "source": [
    "# Herron Topic 3 - Multifactor Models"
   ]
  },
  {
   "cell_type": "markdown",
   "id": "8e9e7b8b-10d4-4169-8d91-7cfecfe3f0b3",
   "metadata": {
    "tags": []
   },
   "source": [
    "This notebook covers multifactor models, emphasizing the capital asset pricing model (CAPM) and the Fama-French three-factor model (FF3).\n",
    "Ivo Welch provides a high-level review of the CAPM and multifactor models in [Chapter 10 of his free *Corporate Finance* textbook](https://book.ivo-welch.info/read/source5.mba/10-capm.pdf).\n",
    "The [Wikipedia page for the CAPM](https://en.wikipedia.org/wiki/Capital_asset_pricing_model) is surprisingly good and includes its assumptions and shortcomings."
   ]
  },
  {
   "cell_type": "code",
   "execution_count": null,
   "id": "bfae8a35-2a98-4125-918f-46e388457407",
   "metadata": {
    "editable": true
   },
   "outputs": [],
   "source": [
    "import matplotlib.pyplot as plt\n",
    "import numpy as np\n",
    "import pandas as pd"
   ]
  },
  {
   "cell_type": "code",
   "execution_count": null,
   "id": "c5c13f4c-9a2e-4858-86be-1fe80ffe4cf4",
   "metadata": {},
   "outputs": [],
   "source": [
    "%config InlineBackend.figure_format = 'retina'\n",
    "%precision 4\n",
    "pd.options.display.float_format = '{:.4f}'.format"
   ]
  },
  {
   "cell_type": "markdown",
   "id": "c4fe711b-b2af-4c27-8474-8e7cba1e54ea",
   "metadata": {
    "jp-MarkdownHeadingCollapsed": true,
    "pycharm": {
     "name": "#%% md\n"
    },
    "tags": []
   },
   "source": [
    "## The Capital Asset Pricing Model (CAPM)"
   ]
  },
  {
   "cell_type": "markdown",
   "id": "ffb4f5ca-7915-4354-84e4-0194c525be7d",
   "metadata": {
    "pycharm": {
     "name": "#%% md\n"
    }
   },
   "source": [
    "The CAPM explains the relation between non-diversifiable risk and expected return, and it has applications throughout finance.\n",
    "We use the CAPM to estimate costs of capital in corporate finance, assemble portfolios with a given risk-return tradeoff in portfolio management, and estimate expected rates of return in investment analysis.\n",
    "The formula for the CAPM is $E(R_i) = R_F + \\beta_i [E(R_M) - R_F]$, where:\n",
    "\n",
    "1. $R_F$ is the risk-free rate of return,\n",
    "1. $\\beta_i$ is the measure of non-diversifiable risk for asset $i$, and\n",
    "1. $E(R_M)$ is the expected rate of return on the market.\n",
    "\n",
    "Here, $\\beta_i$ measures asset $i$'s risk exposure or sensitivity to market returns.\n",
    "The value-weighted mean of $\\beta_i$'s is 1 by construction, but a range of values is possible:\n",
    "\n",
    "1. $\\beta_i < -1$: Asset $i$ moves in the opposite direction as the market, in larger magnitudes\n",
    "1. $-1 \\leq \\beta_i < 0$: Asset $i$ moves in the opposite direction as the market\n",
    "1. $\\beta_i = 0$: Asset $i$ has no correlation between with the market\n",
    "1. $0 < \\beta_i \\leq 1$: Asset $i$ moves in the same direction as the market, in smaller magnitudes\n",
    "1. $\\beta_i = 1$: Asset $i$ moves in the same direction with the same magnitude as the market\n",
    "1. $\\beta_i > 1$: Asset $i$ moves in the same direction as the market, in larger magnitudes"
   ]
  },
  {
   "cell_type": "markdown",
   "id": "b681e862-8a45-414c-b4ec-479291cc69fd",
   "metadata": {},
   "source": [
    "### $\\beta$ Estimation"
   ]
  },
  {
   "cell_type": "markdown",
   "id": "a3c84097-ae34-4ab1-a3e6-367fbb438a6d",
   "metadata": {
    "pycharm": {
     "name": "#%% md\n"
    }
   },
   "source": [
    "We can use three (equivalent) approaches to estimate $\\beta_i$:\n",
    "\n",
    "1. From covariance and variance as $\\beta_i = \\frac{Cov(R_i - R_F, R_M - R_F)}{Var(R_M - R_F)}$\n",
    "1. From correlation and standard deviations as $\\beta_i = \\rho_{i, M} \\cdot \\frac{\\sigma_i}{\\sigma_M}$, where all statistics use *excess* returns (i.e., $R_i-R_F$ and $R_M-R_F$)\n",
    "1. From a linear regression of $R_i-R_F$ on $R_M-R_F$\n",
    "\n",
    "The first two approaches are computationally simpler.\n",
    "However, the third approach also estimates the intercept $\\alpha$ and goodness-of-fit statistics.\n",
    "We can use Apple (AAPL) to convince ourselves these three approaches are equivalent."
   ]
  },
  {
   "cell_type": "code",
   "execution_count": null,
   "id": "e773ff71-262b-4a3d-8fed-3a0d6e7bf4f9",
   "metadata": {},
   "outputs": [],
   "source": [
    "import yfinance as yf\n",
    "import pandas_datareader as pdr\n",
    "import requests_cache\n",
    "session = requests_cache.CachedSession()"
   ]
  },
  {
   "cell_type": "markdown",
   "id": "8b72694b-c98e-4268-9151-1cf021a213b7",
   "metadata": {},
   "source": [
    "***Note, we will leave returns in percent to make it easier to interpret our regression output!***\n",
    "Leaving returns in percent does not affect the $\\beta$s (slopes) but makes the $\\alpha$ (intercept) easier to interpret by removing two leading zeros."
   ]
  },
  {
   "cell_type": "code",
   "execution_count": null,
   "id": "468a8dae-032a-431b-94a0-eb884a7906d2",
   "metadata": {},
   "outputs": [],
   "source": [
    "aapl = (\n",
    "    yf.download(tickers='AAPL', progress=False)\n",
    "    .assign(\n",
    "        Date=lambda x: x.index.tz_localize(None),\n",
    "        Ri=lambda x: x['Adj Close'].pct_change().mul(100)\n",
    "    )\n",
    "    .set_index('Date')\n",
    "    .rename_axis(columns='Variable')\n",
    ")"
   ]
  },
  {
   "cell_type": "code",
   "execution_count": null,
   "id": "4e125a2a-00ae-464a-ba55-e342b854529d",
   "metadata": {},
   "outputs": [],
   "source": [
    "ff = (\n",
    "    pdr.DataReader(\n",
    "        name='F-F_Research_Data_Factors_daily',\n",
    "        data_source='famafrench',\n",
    "        start='1900',\n",
    "        session=session\n",
    "    )\n",
    ")"
   ]
  },
  {
   "cell_type": "code",
   "execution_count": null,
   "id": "0c568ae3-2d43-4dc7-9747-25f08d76b0df",
   "metadata": {},
   "outputs": [],
   "source": [
    "aapl = (\n",
    "    aapl\n",
    "    .join(ff[0])\n",
    "    .assign(RiRF = lambda x: x['Ri'] - x['RF'])\n",
    "    .rename(columns={'Mkt-RF': 'MktRF'})\n",
    ")"
   ]
  },
  {
   "cell_type": "code",
   "execution_count": null,
   "id": "39c7409a-7f11-4012-9354-01056699dd1e",
   "metadata": {},
   "outputs": [],
   "source": [
    "aapl.head()"
   ]
  },
  {
   "cell_type": "markdown",
   "id": "d6f4f94b-8aed-4150-922f-217e2f1005a0",
   "metadata": {},
   "source": [
    "#### Covariance and Variance"
   ]
  },
  {
   "cell_type": "code",
   "execution_count": null,
   "id": "0b757897-c8e9-4c8e-a4fd-9da78eaa8d2e",
   "metadata": {},
   "outputs": [],
   "source": [
    "vcv = aapl[['MktRF', 'RiRF']].dropna().cov()\n",
    "vcv"
   ]
  },
  {
   "cell_type": "code",
   "execution_count": null,
   "id": "72e76b1a-d4fe-4dcf-ba15-7c2a356598f7",
   "metadata": {},
   "outputs": [],
   "source": [
    "print(f\"Apple beta from cov/var: {vcv.loc['MktRF', 'RiRF'] / vcv.loc['MktRF', 'MktRF']:0.4f}\")"
   ]
  },
  {
   "cell_type": "markdown",
   "id": "dccfaaab-4a01-4565-806a-4663679063fb",
   "metadata": {},
   "source": [
    "#### Correlation and Standard Deviations"
   ]
  },
  {
   "cell_type": "code",
   "execution_count": null,
   "id": "a920c2ae-11d6-47fa-9bb0-0205c415c701",
   "metadata": {},
   "outputs": [],
   "source": [
    "_ = aapl[['MktRF', 'RiRF']].dropna()\n",
    "rho = _.corr()\n",
    "sigma = _.std()\n",
    "print(f'rho:\\n{rho}\\n\\nsigma:\\n{sigma}')"
   ]
  },
  {
   "cell_type": "code",
   "execution_count": null,
   "id": "975b9bbc-119c-4d7c-8817-e4d92c71e811",
   "metadata": {},
   "outputs": [],
   "source": [
    "print(f\"Apple beta from rho and sigmas: {rho.loc['MktRF', 'RiRF'] * sigma.loc['RiRF'] / sigma.loc['MktRF']:0.4f}\")"
   ]
  },
  {
   "cell_type": "markdown",
   "id": "de603250-500c-4ae8-8b3e-d36c02870fa8",
   "metadata": {},
   "source": [
    "#### Linear Regression"
   ]
  },
  {
   "cell_type": "markdown",
   "id": "3c0fb6ce-fcd0-452e-ad0c-4fbda22b3a7e",
   "metadata": {},
   "source": [
    "We will use the statsmodels package to estimate linear.\n",
    "I typically use the formula application programming interface (API)."
   ]
  },
  {
   "cell_type": "code",
   "execution_count": null,
   "id": "14e4a905-e850-4379-b778-fc4bc61c95b2",
   "metadata": {},
   "outputs": [],
   "source": [
    "import statsmodels.formula.api as smf"
   ]
  },
  {
   "cell_type": "markdown",
   "id": "2e813dbe-24b1-4bcf-9c39-2a44bdc647fa",
   "metadata": {},
   "source": [
    "With statsmodels (and most Python model estimation packages), we have three steps:\n",
    "\n",
    "1. Specify the model\n",
    "1. Fit the model\n",
    "1. Summarize the model"
   ]
  },
  {
   "cell_type": "code",
   "execution_count": null,
   "id": "47e828e5-f4a4-49b8-af26-4be29c7d6861",
   "metadata": {},
   "outputs": [],
   "source": [
    "model = smf.ols('RiRF ~ MktRF', aapl)\n",
    "fit = model.fit()\n",
    "summary = fit.summary()\n",
    "summary"
   ]
  },
  {
   "cell_type": "code",
   "execution_count": null,
   "id": "5c281c3c-3a85-4bbe-9650-3898545734a1",
   "metadata": {},
   "outputs": [],
   "source": [
    "print(f\"Apple beta from linear regression: {fit.params['MktRF']:0.4f}\")"
   ]
  },
  {
   "cell_type": "markdown",
   "id": "a758bdb1-c32b-4211-8ee8-03f609538f66",
   "metadata": {},
   "source": [
    "We can chain these operations, but it often makes sense to save the intermediate results (i.e., `model` and `fit`)."
   ]
  },
  {
   "cell_type": "code",
   "execution_count": null,
   "id": "ed887884-d774-46c8-959f-d83a272de2c6",
   "metadata": {},
   "outputs": [],
   "source": [
    "smf.ols('RiRF ~ MktRF', aapl).fit().summary()"
   ]
  },
  {
   "cell_type": "markdown",
   "id": "8e12b781-1ed5-41fb-b072-aa64acca90ed",
   "metadata": {},
   "source": [
    "### $\\beta$ Visualization"
   ]
  },
  {
   "cell_type": "markdown",
   "id": "1f13b5f0-faf7-4954-ba71-8712429a73c8",
   "metadata": {},
   "source": [
    "We can visualize Apple's $\\beta$, using seaborn's `regplot()` to add a best-fit line."
   ]
  },
  {
   "cell_type": "code",
   "execution_count": null,
   "id": "2b02b9df-c541-4f51-8dbc-d20a0ec35544",
   "metadata": {},
   "outputs": [],
   "source": [
    "import seaborn as sns"
   ]
  },
  {
   "cell_type": "markdown",
   "id": "0c1620b3-e9b9-4e94-82b3-f08a72c526bb",
   "metadata": {},
   "source": [
    "We can write a couple of function to more easily make prettier plots."
   ]
  },
  {
   "cell_type": "code",
   "execution_count": null,
   "id": "a7723211-831b-46e0-8fbc-b49e7f32e415",
   "metadata": {},
   "outputs": [],
   "source": [
    "def label_beta(x):\n",
    "    vcv = x.dropna().cov()\n",
    "    beta = vcv.loc['RiRF', 'MktRF'] / vcv.loc['MktRF', 'MktRF']\n",
    "    return r'$\\beta=$' + f'{beta: 0.4f}'"
   ]
  },
  {
   "cell_type": "code",
   "execution_count": null,
   "id": "33f56be9-48e8-4ec8-821a-e3c15c78ba29",
   "metadata": {},
   "outputs": [],
   "source": [
    "def label_dates(x):\n",
    "    y = x.dropna()\n",
    "    return f'from {y.index[0]:%b %d, %Y} to {y.index[-1]:%b %d, %Y}'"
   ]
  },
  {
   "cell_type": "code",
   "execution_count": null,
   "id": "412cb91a-ec76-405e-9d69-c97251f5c59f",
   "metadata": {},
   "outputs": [],
   "source": [
    "_ = aapl[['MktRF', 'RiRF']].dropna()\n",
    "\n",
    "sns.regplot(\n",
    "    x='MktRF',\n",
    "    y='RiRF',\n",
    "    data=_,\n",
    "    scatter_kws={'alpha': 0.1},\n",
    "    line_kws={'label': _.pipe(label_beta)}\n",
    ")\n",
    "plt.legend()\n",
    "plt.xlabel('Market Excess Return (%)')\n",
    "plt.ylabel('Stock Excess Return (%)')\n",
    "plt.title(r'$\\beta$ Plot with Daily Returns for Apple' + '\\n' + _.pipe(label_dates))\n",
    "plt.show()"
   ]
  },
  {
   "cell_type": "markdown",
   "id": "64fb4acd-6338-40a0-9131-8065f39b58c9",
   "metadata": {},
   "source": [
    "We see a strong relation between Apple and market (excess) returns, but there is a lot of unexplained variation in Apple (excess) returns.\n",
    "The best practice is to estimate $\\beta$ with one to three years of daily data."
   ]
  },
  {
   "cell_type": "code",
   "execution_count": null,
   "id": "a9b984ae-dc17-491d-8634-191ebbd08c64",
   "metadata": {},
   "outputs": [],
   "source": [
    "_ = aapl[['MktRF', 'RiRF']].dropna().iloc[-504:]\n",
    "\n",
    "sns.regplot(\n",
    "    x='MktRF',\n",
    "    y='RiRF',\n",
    "    data=_,\n",
    "    scatter_kws={'alpha': 0.1},\n",
    "    line_kws={'label': _.pipe(label_beta)}\n",
    ")\n",
    "plt.legend()\n",
    "plt.xlabel('Market Excess Return (%)')\n",
    "plt.ylabel('Stock Excess Return (%)')\n",
    "plt.title(r'$\\beta$ Plot with Daily Returns for Apple' + '\\n' + _.pipe(label_dates))\n",
    "plt.show()"
   ]
  },
  {
   "cell_type": "markdown",
   "id": "caa122ca-4398-4c6e-911b-712a740990cf",
   "metadata": {
    "pycharm": {
     "name": "#%% md\n"
    }
   },
   "source": [
    "### The Security Market Line (SML)"
   ]
  },
  {
   "cell_type": "markdown",
   "id": "9a85322b-4521-40e1-860b-1e3220ceaff5",
   "metadata": {
    "pycharm": {
     "name": "#%% md\n"
    }
   },
   "source": [
    "The SML is a visualization of the CAPM.\n",
    "We can think of $E(R_i) = R_F +  \\beta_i [E(R_M) - R_F]$ as $y = b + mx$, where:\n",
    "\n",
    "1. The equity premium $E(R_M) - R_F$ is the slope $m$ of the SML, and\n",
    "1. The risk-free rate of return $R_F$ is its intercept $b$.\n",
    "\n",
    "We will explore the SML more in the practice notebook."
   ]
  },
  {
   "cell_type": "markdown",
   "id": "d867d642-be5a-46c9-8191-a6d5badd9866",
   "metadata": {},
   "source": [
    "### How well does the CAPM work?"
   ]
  },
  {
   "cell_type": "markdown",
   "id": "d5c1ef11-fddc-4b12-9a9d-3ca532cb9d12",
   "metadata": {},
   "source": [
    "The CAPM *appears* to work well as a single-period model.\n",
    "We can see this with portfolios formed on $\\beta$ from Ken French."
   ]
  },
  {
   "cell_type": "code",
   "execution_count": null,
   "id": "b93a7c4a-d46a-46a8-8a29-716d09a95ec6",
   "metadata": {},
   "outputs": [],
   "source": [
    "ff_beta = pdr.DataReader(\n",
    "    name='Portfolios_Formed_on_BETA',\n",
    "    data_source='famafrench',\n",
    "    start='1900',\n",
    "    session=session\n",
    ")"
   ]
  },
  {
   "cell_type": "code",
   "execution_count": null,
   "id": "3adc6ffa-899f-4dd0-894d-e60794f83f03",
   "metadata": {},
   "outputs": [],
   "source": [
    "print(ff_beta['DESCR'])"
   ]
  },
  {
   "cell_type": "markdown",
   "id": "bbce63d3-0c14-4f1d-9b37-d10277f0e308",
   "metadata": {},
   "source": [
    "This file contains seven data frames.\n",
    "We want the data frame at `[2]`, which contains the annual returns on two sets of portfolios formed on the previous year's $\\beta$s."
   ]
  },
  {
   "cell_type": "code",
   "execution_count": null,
   "id": "fc745cde-44e2-4c4d-b890-41b120716e77",
   "metadata": {},
   "outputs": [],
   "source": [
    "ff_beta[2].head()"
   ]
  },
  {
   "cell_type": "markdown",
   "id": "8e79ad51-d500-465e-8850-61dcf4736249",
   "metadata": {},
   "source": [
    "We can plot the mean annual return on each of the five portfolios in the first set of portflios.\n",
    "We do not need to annualize these numbers because they are the means of annual returns."
   ]
  },
  {
   "cell_type": "code",
   "execution_count": null,
   "id": "f521d1fc-026d-4f3d-baa6-f52783ca5a31",
   "metadata": {},
   "outputs": [],
   "source": [
    "_ = ff_beta[2].iloc[:, :5]\n",
    "_.mean().plot(kind='bar')\n",
    "plt.ylabel('Mean Annual Return (%)')\n",
    "plt.xlabel('Portfolio')\n",
    "plt.xticks(rotation=0)\n",
    "plt.title(r'Mean Returns on Portfolios Formed on $\\beta$' + '\\n' + f'from {_.index[0]} to {_.index[-1]}')\n",
    "plt.show()"
   ]
  },
  {
   "cell_type": "markdown",
   "id": "3a27fec3-34b5-4ea0-8337-360989803a98",
   "metadata": {},
   "source": [
    "We can think of the plot above as a binned plot of the SML.\n",
    "The x axis above is an ordinal measure of $\\beta$, and the y axis above is the mean return.\n",
    "Recall the slope of the SML is the market risk premium.\n",
    "If the market risk premium is too low, then high $\\beta$ stocks do not have high enough returns.\n",
    "We can see this failure of the CAPM by plotting long-term or cumulative returns on these five portfolios."
   ]
  },
  {
   "cell_type": "code",
   "execution_count": null,
   "id": "87b0cc96-00ce-48e7-ab3c-aff5d886747a",
   "metadata": {},
   "outputs": [],
   "source": [
    "_ = ff_beta[2].iloc[:, :5]\n",
    "_.div(100).add(1).cumprod().plot()\n",
    "plt.semilogy()\n",
    "plt.ylabel('Value of \\$1 Investment (\\$)')\n",
    "plt.title(r'Value of \\$1 Investments in Portfolios Formed on $\\beta$' + '\\n' + f'from {_.index[0]} to {_.index[-1]}')\n",
    "plt.show()"
   ]
  },
  {
   "cell_type": "markdown",
   "id": "9fa1d604-9a23-4ef4-81bb-f26dacb04a60",
   "metadata": {},
   "source": [
    "In the plot above, the highest-$\\beta$ portfolio has the lowest cumulative returns!\n",
    "The log scale masks a lot of variation, too!"
   ]
  },
  {
   "cell_type": "code",
   "execution_count": null,
   "id": "e41d1420-5d9f-4776-b7f8-9114da564a7b",
   "metadata": {},
   "outputs": [],
   "source": [
    "_ = ff_beta[2].iloc[:, :5]\n",
    "_.div(100).add(1).prod().plot(kind='bar')\n",
    "plt.ylabel('Value of \\$1 Investment (\\$)')\n",
    "plt.title(r'Value of \\$1 Investments in Portfolios Formed on $\\beta$' + '\\n' + f'from {_.index[0]} to {_.index[-1]}')\n",
    "plt.show()"
   ]
  },
  {
   "cell_type": "markdown",
   "id": "feb57fd3-7d82-4832-bc4e-18e36d1f6d83",
   "metadata": {},
   "source": [
    "If the CAPM does not work well, especially over the horizons we use it for (e.g., capital budgeting), why do we continue to learn it?\n",
    "\n",
    "1. The CAPM works well *across* asset classes. We will explore this more in the practice notebook.\n",
    "1. The CAPM intuition that diversification matters is correct and important\n",
    "1. The CAPM assigns high costs of capital to high-$\\beta$ projects (i.e., high-risk projects), which is a hidden benefit\n",
    "1. In practice, everyone uses the CAPM\n",
    "\n",
    "Ivo Welch provides a more complete discussion in section 10.5 of [chapter 10 of this his free *Corporate Finance* textbook](https://book.ivo-welch.info/read/source5.mba/10-capm.pdf)."
   ]
  },
  {
   "cell_type": "markdown",
   "id": "769f2dd2-132f-4247-ad32-9c04b5d752b0",
   "metadata": {
    "jp-MarkdownHeadingCollapsed": true,
    "tags": []
   },
   "source": [
    "## Multifactor Models"
   ]
  },
  {
   "cell_type": "markdown",
   "id": "b9eb3447-6eb9-4a75-beab-9094553c722e",
   "metadata": {},
   "source": [
    "Another shortcoming of the CAPM is that it fails to explain the returns on portfolios formed on size (market capitalization) and value (book-to-market equity ratio), which we will explore in the practice notebook.\n",
    "These shortcomings have led to an explosion in multifactor models, which we will explore here."
   ]
  },
  {
   "cell_type": "markdown",
   "id": "6f63030a-cc5b-46ee-b93f-34218467913e",
   "metadata": {},
   "source": [
    "### The Fama-French Three-Factor Model"
   ]
  },
  {
   "cell_type": "markdown",
   "id": "3f565601-4d4f-456c-9ccf-6239ee39d4eb",
   "metadata": {},
   "source": [
    "Fama and French (1993) expand the CAPM by adding two additional factors to explain the excess returns on size and value.\n",
    "The size factor, SMB or small-minus-big, is a diversified portfolio that measures the excess returns of  small market cap. stocks over large market cap. stocks.\n",
    "The value factor, HML of high-minus-low, is a diversified portfolio that measures the excess returns of high book-to-market stocks over low  high book-to-market stocks.\n",
    "We typically call this model the \"Fama-French three-factor model\" and express it as: $E(R_i) = R_F + \\alpha + \\beta_{M} [E(R_M) - R_M)] + \\beta_{SMB} SMB + \\beta_{HML} HML$.\n",
    "There are two common uses for the three-factor model:\n",
    "\n",
    "1. Use the coefficient estimate on the intercept (i.e., $\\alpha$,  often called \"Jensen's $\\alpha$\") as a risk-adjusted performance measure. If $\\alpha$ is positive and statistically significant, we may attribute fund performance to manager skill.\n",
    "2. Use the remaining coefficient estimates to evaluate how the fund manager generates returns. If the regression $R^2$ is high, we may replace the fund manager with the factor itself.\n",
    "\n",
    "We can use the Fama-French three-factor model to evaluate Warren Buffett at Berkshire Hathaway (BRK-A).\n",
    "We will focus on the first three-years of easily available returns because Buffett had a larger edge when BRK was much smaller."
   ]
  },
  {
   "cell_type": "code",
   "execution_count": null,
   "id": "dd1efd23-be1a-4b52-bc2a-6eea4085dc0c",
   "metadata": {},
   "outputs": [],
   "source": [
    "brk = (\n",
    "    yf.download(tickers='BRK-A', progress=False)\n",
    "    .assign(\n",
    "        Date=lambda x: x.index.tz_localize(None),\n",
    "        Ri=lambda x: x['Adj Close'].pct_change().mul(100)\n",
    "    )\n",
    "    .set_index('Date')\n",
    "    .join(ff[0])\n",
    "    .assign(RiRF = lambda x: x['Ri'] - x['RF'])\n",
    "    .rename(columns={'Mkt-RF': 'MktRF'})\n",
    "    .rename_axis(columns='Variable')\n",
    ")"
   ]
  },
  {
   "cell_type": "code",
   "execution_count": null,
   "id": "ae6d5db1-68e5-4a61-8b32-73a91c821991",
   "metadata": {},
   "outputs": [],
   "source": [
    "model = smf.ols(formula='RiRF ~ MktRF + SMB + HML', data=brk.iloc[:756])\n",
    "fit = model.fit()\n",
    "summary = fit.summary()\n",
    "summary"
   ]
  },
  {
   "cell_type": "markdown",
   "id": "623dbd97-1bfa-4d50-8ce5-613e116f3629",
   "metadata": {},
   "source": [
    "The $\\alpha$ above seems small, but this is a *daily* value.\n",
    "We can multiple $\\alpha$ by 252 to annualize it."
   ]
  },
  {
   "cell_type": "code",
   "execution_count": null,
   "id": "0d794664-a557-4b04-9583-8b61956792eb",
   "metadata": {},
   "outputs": [],
   "source": [
    "print(f\"Buffet's annualized alpha in the early 1980s: {fit.params['Intercept'] * 252:0.4f}\")"
   ]
  },
  {
   "cell_type": "markdown",
   "id": "948d0a03-b5b1-4cd1-9284-9448de8180d9",
   "metadata": {},
   "source": [
    "We will explore rolling $\\alpha$s and $\\beta$s in the practice notebook using `RollingOLS()` from `statsmodels.regression.rolling`. "
   ]
  },
  {
   "cell_type": "markdown",
   "id": "77c8795b-df82-415c-ad9d-36da7fffb57d",
   "metadata": {
    "tags": []
   },
   "source": [
    "### The Four-Factor and Five-Factor Models"
   ]
  },
  {
   "cell_type": "markdown",
   "id": "21400238-00b2-485b-af4e-8404e96a0fcf",
   "metadata": {
    "tags": []
   },
   "source": [
    "There are literally hundreds of published factors!\n",
    "However, many of them have little explanatory power, in or out of sample.\n",
    "Two more factor models that have explanatory power, economic intuition, and widespread adoption are the four-factor model and five-factor model.\n",
    "\n",
    "\n",
    "The four-factor model adds a momentum factor to the Fama-French three-factor model.\n",
    "The momentum factor is a diversified portfolio that measures the excess returns of winner stocks over the loser stocks over the past 12 months.\n",
    "The momentum factor is often called UMD for up-minus-down or WML for winners-minus-losers.\n",
    "French stores the momentum factor in a different file because Fama and French are skeptical of momentum as a foundational risk factor.\n",
    "\n",
    "\n",
    "The five-factor model adds profitability and investment policy factors.\n",
    "The profitability factor, RMW or robust-minus-weak, measures the excess returns of stocks with high profits over those with low profits.\n",
    "The investment policy factor, CMA or conservative-minus-aggressive, measures the excess returns of stocks with low corporate investment (conservative) over those with high corporate investment (aggressive).\n",
    "\n",
    "\n",
    "We will explore the four-factor and five-factor models in the practice notebook."
   ]
  }
 ],
 "metadata": {
  "author": "Richard Herron",
  "kernelspec": {
   "display_name": "Python 3 (ipykernel)",
   "language": "python",
   "name": "python3"
  },
  "language_info": {
   "codemirror_mode": {
    "name": "ipython",
    "version": 3
   },
   "file_extension": ".py",
   "mimetype": "text/x-python",
   "name": "python",
   "nbconvert_exporter": "python",
   "pygments_lexer": "ipython3",
   "version": "3.9.13"
  },
  "title": "Herron Topic 3 - Multifactor Models"
 },
 "nbformat": 4,
 "nbformat_minor": 5
}
