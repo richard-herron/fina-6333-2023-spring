{
 "cells": [
  {
   "cell_type": "markdown",
   "id": "d5d47183-9cdb-4f85-ae3e-c99e6d3b5220",
   "metadata": {},
   "source": [
    "# Herron Topic 7 - Practice (Blank)"
   ]
  },
  {
   "cell_type": "markdown",
   "id": "6f2e06b6-6405-4db6-9f7d-1f6957bd772f",
   "metadata": {},
   "source": [
    "## Announcements"
   ]
  },
  {
   "cell_type": "markdown",
   "id": "51bb5371-7c09-497e-a338-a486a29a038c",
   "metadata": {},
   "source": [
    "## Practice"
   ]
  },
  {
   "cell_type": "markdown",
   "id": "b438a52e-af11-407b-baa4-834d16cf4fc6",
   "metadata": {},
   "source": [
    "### Repeat the comparison of log and simple returns with monthly and annual returns"
   ]
  },
  {
   "cell_type": "markdown",
   "id": "0189fd57-bca4-4129-aa0c-4e0787dd7aac",
   "metadata": {},
   "source": [
    "### Repeat the autocorrelation plot with *monthly* returns instead of *daily* returns"
   ]
  },
  {
   "cell_type": "markdown",
   "id": "3f7e2b60-02c0-41f6-ac5f-45f473040b35",
   "metadata": {},
   "source": [
    "### Plot monthly returns versus their one-month lag"
   ]
  },
  {
   "cell_type": "markdown",
   "id": "7240db2a-ed31-434f-bd32-18bd2890d8c5",
   "metadata": {},
   "source": [
    "### Repeat the autocorrelation plot with the *absolute value* of daily returns"
   ]
  },
  {
   "cell_type": "markdown",
   "id": "4f59534c-cf57-42be-8fc9-eb31b3294713",
   "metadata": {},
   "source": [
    "### Repeat the leverage effect plot with lagged returns"
   ]
  }
 ],
 "metadata": {
  "author": "Richard Herron",
  "kernelspec": {
   "display_name": "Python 3 (ipykernel)",
   "language": "python",
   "name": "python3"
  },
  "language_info": {
   "codemirror_mode": {
    "name": "ipython",
    "version": 3
   },
   "file_extension": ".py",
   "mimetype": "text/x-python",
   "name": "python",
   "nbconvert_exporter": "python",
   "pygments_lexer": "ipython3",
   "version": "3.9.13"
  },
  "title": "Herron Topic 7 - Practice"
 },
 "nbformat": 4,
 "nbformat_minor": 5
}
