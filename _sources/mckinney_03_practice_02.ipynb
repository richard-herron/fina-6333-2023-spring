{
 "cells": [
  {
   "cell_type": "markdown",
   "id": "e1ac131b-4292-4bd1-860b-de2f34443775",
   "metadata": {},
   "source": [
    "# McKinney Chapter 3 - Practice (Section 2, Wednesday 2:45 PM)"
   ]
  },
  {
   "cell_type": "markdown",
   "id": "db511e4f-169d-4963-a612-c2938743ad81",
   "metadata": {},
   "source": [
    "## Practice"
   ]
  },
  {
   "cell_type": "markdown",
   "id": "280ff089-3829-41e3-b0e3-7ef0a99b1616",
   "metadata": {},
   "source": [
    "### Swap the values assigned to `a` and `b` using a third variable `c`."
   ]
  },
  {
   "cell_type": "code",
   "execution_count": 1,
   "id": "9f5f9bb5-9ae5-46fb-89d5-8fd0e2233f84",
   "metadata": {
    "tags": []
   },
   "outputs": [],
   "source": [
    "a = 1"
   ]
  },
  {
   "cell_type": "code",
   "execution_count": 2,
   "id": "24bde31f-b7be-4228-bdff-5a46ed76a896",
   "metadata": {},
   "outputs": [],
   "source": [
    "b = 2"
   ]
  },
  {
   "cell_type": "code",
   "execution_count": 3,
   "id": "bca13a65-f90f-47b3-9d40-54a60228299d",
   "metadata": {},
   "outputs": [
    {
     "name": "stdout",
     "output_type": "stream",
     "text": [
      "a is 1 and b is 2\n"
     ]
    }
   ],
   "source": [
    "print(f'a is {a} and b is {b}')"
   ]
  },
  {
   "cell_type": "code",
   "execution_count": 4,
   "id": "ce9e0453-748f-42bc-a0c2-7ac04fa2e30f",
   "metadata": {},
   "outputs": [],
   "source": [
    "c = a"
   ]
  },
  {
   "cell_type": "code",
   "execution_count": 5,
   "id": "b81f9dba-c9ab-44a8-ab4b-f22f1bb60c56",
   "metadata": {},
   "outputs": [
    {
     "data": {
      "text/plain": [
       "True"
      ]
     },
     "execution_count": 5,
     "metadata": {},
     "output_type": "execute_result"
    }
   ],
   "source": [
    "c == a"
   ]
  },
  {
   "cell_type": "code",
   "execution_count": 6,
   "id": "36f8568c-eb16-4974-8612-ad923cc841fb",
   "metadata": {},
   "outputs": [
    {
     "data": {
      "text/plain": [
       "True"
      ]
     },
     "execution_count": 6,
     "metadata": {},
     "output_type": "execute_result"
    }
   ],
   "source": [
    "c is a"
   ]
  },
  {
   "cell_type": "code",
   "execution_count": 7,
   "id": "a2f15817-6fae-485a-9e2f-f0e4c4cd9dfd",
   "metadata": {},
   "outputs": [],
   "source": [
    "a = b"
   ]
  },
  {
   "cell_type": "code",
   "execution_count": 8,
   "id": "c1a5afa1-bd6c-4a70-ac0a-57cc70d8c562",
   "metadata": {},
   "outputs": [],
   "source": [
    "b = c"
   ]
  },
  {
   "cell_type": "code",
   "execution_count": 9,
   "id": "59d840ad-0b95-410b-87d5-1f070220599b",
   "metadata": {},
   "outputs": [
    {
     "name": "stdout",
     "output_type": "stream",
     "text": [
      "a is 2 and b is 1\n"
     ]
    }
   ],
   "source": [
    "print(f'a is {a} and b is {b}')"
   ]
  },
  {
   "cell_type": "code",
   "execution_count": 10,
   "id": "9b68dbce-1393-46c6-8c83-492e4d305474",
   "metadata": {},
   "outputs": [
    {
     "name": "stdout",
     "output_type": "stream",
     "text": [
      "a\t b\t c\t \n"
     ]
    }
   ],
   "source": [
    "%who"
   ]
  },
  {
   "cell_type": "code",
   "execution_count": 11,
   "id": "91818f0c-945c-455a-8b4e-e4e644af933d",
   "metadata": {},
   "outputs": [],
   "source": [
    "del c"
   ]
  },
  {
   "cell_type": "code",
   "execution_count": 12,
   "id": "c7c8ec4a-18d5-4dfa-a402-22533f0383c0",
   "metadata": {},
   "outputs": [
    {
     "name": "stdout",
     "output_type": "stream",
     "text": [
      "a\t b\t \n"
     ]
    }
   ],
   "source": [
    "%who"
   ]
  },
  {
   "cell_type": "markdown",
   "id": "04886f77-e0ae-4ab0-9263-2f0c36b8b4df",
   "metadata": {},
   "source": [
    "### Swap the values assigned to `a` and `b` ***without*** using a third variable `c`."
   ]
  },
  {
   "cell_type": "code",
   "execution_count": 13,
   "id": "2be3db05-1fd9-4d28-aab0-70c895358d87",
   "metadata": {},
   "outputs": [],
   "source": [
    "a = 1"
   ]
  },
  {
   "cell_type": "code",
   "execution_count": 14,
   "id": "4a10ac2d-1b0d-4e50-a6a2-0cbdc49d612a",
   "metadata": {},
   "outputs": [],
   "source": [
    "b = 2"
   ]
  },
  {
   "cell_type": "code",
   "execution_count": 15,
   "id": "96233c4e-a46b-49af-8876-f47ec9206e17",
   "metadata": {},
   "outputs": [
    {
     "name": "stdout",
     "output_type": "stream",
     "text": [
      "a is 1 and b is 2\n"
     ]
    }
   ],
   "source": [
    "print(f'a is {a} and b is {b}')"
   ]
  },
  {
   "cell_type": "code",
   "execution_count": 16,
   "id": "149ba5db-74d0-4484-9a0a-04cb416543b9",
   "metadata": {},
   "outputs": [
    {
     "data": {
      "text/plain": [
       "tuple"
      ]
     },
     "execution_count": 16,
     "metadata": {},
     "output_type": "execute_result"
    }
   ],
   "source": [
    "type((a, b))"
   ]
  },
  {
   "cell_type": "code",
   "execution_count": 17,
   "id": "0819db1f-5243-431f-afb9-b8e2c37971e8",
   "metadata": {},
   "outputs": [],
   "source": [
    "b, a = a, b"
   ]
  },
  {
   "cell_type": "code",
   "execution_count": 18,
   "id": "a157a800-6490-4029-a9b5-5bfd9ddb2342",
   "metadata": {},
   "outputs": [
    {
     "name": "stdout",
     "output_type": "stream",
     "text": [
      "a is 2 and b is 1\n"
     ]
    }
   ],
   "source": [
    "print(f'a is {a} and b is {b}')"
   ]
  },
  {
   "cell_type": "markdown",
   "id": "7f1f2d8c-5b9b-41d5-be47-b8037d691059",
   "metadata": {},
   "source": [
    "---\n",
    "Here is a trap:"
   ]
  },
  {
   "cell_type": "code",
   "execution_count": 19,
   "id": "21bcf397-b713-456b-98d4-f93c720b951f",
   "metadata": {},
   "outputs": [],
   "source": [
    "d = a, b"
   ]
  },
  {
   "cell_type": "code",
   "execution_count": 20,
   "id": "4f928ec5-3438-4fe8-9f8d-b8b7029568c2",
   "metadata": {},
   "outputs": [
    {
     "data": {
      "text/plain": [
       "tuple"
      ]
     },
     "execution_count": 20,
     "metadata": {},
     "output_type": "execute_result"
    }
   ],
   "source": [
    "type(d)"
   ]
  },
  {
   "cell_type": "code",
   "execution_count": 21,
   "id": "5da8ee53-d75f-4be7-be2f-53aa083d61bd",
   "metadata": {},
   "outputs": [],
   "source": [
    "e, f = d"
   ]
  },
  {
   "cell_type": "code",
   "execution_count": 22,
   "id": "3f826aab-0e0f-48c2-a72f-0be9764b22ac",
   "metadata": {},
   "outputs": [
    {
     "name": "stdout",
     "output_type": "stream",
     "text": [
      "e is 2 and f is 1\n"
     ]
    }
   ],
   "source": [
    "print(f'e is {e} and f is {f}')"
   ]
  },
  {
   "cell_type": "code",
   "execution_count": 23,
   "id": "20d22f85-1fcd-4d15-8a28-db6928dbed5b",
   "metadata": {},
   "outputs": [],
   "source": [
    "# ValueError: not enough values to unpack (expected 3, got 2)\n",
    "# g, h, i = d"
   ]
  },
  {
   "cell_type": "markdown",
   "id": "df557b8b-f3bd-4102-95f9-0e27db4d2658",
   "metadata": {},
   "source": [
    "---"
   ]
  },
  {
   "cell_type": "markdown",
   "id": "090450f0-6545-496e-8a5f-6e5fa6e35b80",
   "metadata": {},
   "source": [
    "### What is the output of the following code and why?"
   ]
  },
  {
   "cell_type": "code",
   "execution_count": 24,
   "id": "329c383b-7180-492e-b765-ff61c2c6d2f2",
   "metadata": {},
   "outputs": [
    {
     "data": {
      "text/plain": [
       "False"
      ]
     },
     "execution_count": 24,
     "metadata": {},
     "output_type": "execute_result"
    }
   ],
   "source": [
    "1 == (1, 1, 1)"
   ]
  },
  {
   "cell_type": "code",
   "execution_count": 25,
   "id": "e95000aa-e898-4d2d-9a61-7fa5ae7e4fce",
   "metadata": {},
   "outputs": [
    {
     "data": {
      "text/plain": [
       "(1, 1, False)"
      ]
     },
     "execution_count": 25,
     "metadata": {},
     "output_type": "execute_result"
    }
   ],
   "source": [
    "1, 1, 1 == (1, 1, 1)"
   ]
  },
  {
   "cell_type": "code",
   "execution_count": 26,
   "id": "99407c8d-d11f-40dc-b8fe-968f861bc3b0",
   "metadata": {},
   "outputs": [
    {
     "data": {
      "text/plain": [
       "(1, False)"
      ]
     },
     "execution_count": 26,
     "metadata": {},
     "output_type": "execute_result"
    }
   ],
   "source": [
    "1, 1 == (1, 1, 1)"
   ]
  },
  {
   "cell_type": "code",
   "execution_count": 27,
   "id": "805ab6ff-c5f4-4ecf-99d5-56ff85b1290c",
   "metadata": {},
   "outputs": [
    {
     "data": {
      "text/plain": [
       "True"
      ]
     },
     "execution_count": 27,
     "metadata": {},
     "output_type": "execute_result"
    }
   ],
   "source": [
    "(1, 1, 1) == (1, 1, 1)"
   ]
  },
  {
   "cell_type": "code",
   "execution_count": 28,
   "id": "d39ca820-bc9c-47fc-9962-cffaa4743c69",
   "metadata": {},
   "outputs": [
    {
     "data": {
      "text/plain": [
       "(False, 1, 1)"
      ]
     },
     "execution_count": 28,
     "metadata": {},
     "output_type": "execute_result"
    }
   ],
   "source": [
    "(1, 1, 1) == 1, 1, 1"
   ]
  },
  {
   "cell_type": "code",
   "execution_count": 29,
   "id": "b34a8d21-7727-4e58-b151-c3fd3e0025f5",
   "metadata": {},
   "outputs": [
    {
     "data": {
      "text/plain": [
       "(1, 1, True, 1, 1)"
      ]
     },
     "execution_count": 29,
     "metadata": {},
     "output_type": "execute_result"
    }
   ],
   "source": [
    "1, 1, 1 == 1, 1, 1"
   ]
  },
  {
   "cell_type": "markdown",
   "id": "14746ac1-7e63-4673-a0ee-7eefc66838e1",
   "metadata": {},
   "source": [
    "### Create a list `l1` of integers from 1 to 100."
   ]
  },
  {
   "cell_type": "code",
   "execution_count": 30,
   "id": "be8a131d-b393-4c25-a021-51ddcd2bb91c",
   "metadata": {},
   "outputs": [
    {
     "name": "stdout",
     "output_type": "stream",
     "text": [
      "[1, 2, 3, 4, 5, 6, 7, 8, 9, 10, 11, 12, 13, 14, 15, 16, 17, 18, 19, 20, 21, 22, 23, 24, 25, 26, 27, 28, 29, 30, 31, 32, 33, 34, 35, 36, 37, 38, 39, 40, 41, 42, 43, 44, 45, 46, 47, 48, 49, 50, 51, 52, 53, 54, 55, 56, 57, 58, 59, 60, 61, 62, 63, 64, 65, 66, 67, 68, 69, 70, 71, 72, 73, 74, 75, 76, 77, 78, 79, 80, 81, 82, 83, 84, 85, 86, 87, 88, 89, 90, 91, 92, 93, 94, 95, 96, 97, 98, 99, 100]\n"
     ]
    }
   ],
   "source": [
    "l1 = list(range(1, 101))\n",
    "print(l1)"
   ]
  },
  {
   "cell_type": "code",
   "execution_count": 31,
   "id": "770761c2-d085-49f6-b4a0-db619eb1d971",
   "metadata": {},
   "outputs": [
    {
     "data": {
      "text/plain": [
       "[1, 2, 3, 4, 5]"
      ]
     },
     "execution_count": 31,
     "metadata": {},
     "output_type": "execute_result"
    }
   ],
   "source": [
    "l1[:5] "
   ]
  },
  {
   "cell_type": "code",
   "execution_count": 32,
   "id": "d8dd2dee-85dc-4f9a-a60e-970df11270aa",
   "metadata": {},
   "outputs": [
    {
     "data": {
      "text/plain": [
       "[6, 7, 8, 9, 10]"
      ]
     },
     "execution_count": 32,
     "metadata": {},
     "output_type": "execute_result"
    }
   ],
   "source": [
    "l1[5:10]"
   ]
  },
  {
   "cell_type": "markdown",
   "id": "8c8cc667-78cf-4628-921d-10c96888e48c",
   "metadata": {},
   "source": [
    "### Slice `l1` to create a list of integers from 60 to 50 (inclusive)."
   ]
  },
  {
   "cell_type": "markdown",
   "id": "bb65b23c-e47c-4540-9f32-7e2aabf504f0",
   "metadata": {},
   "source": [
    "Name this list `l2`."
   ]
  },
  {
   "cell_type": "code",
   "execution_count": 33,
   "id": "10b19f6e-1c37-4aff-9fd6-09d9abd566d2",
   "metadata": {},
   "outputs": [
    {
     "name": "stdout",
     "output_type": "stream",
     "text": [
      "[60, 59, 58, 57, 56, 55, 54, 53, 52, 51, 50]\n"
     ]
    }
   ],
   "source": [
    "l2 = l1[49:60]\n",
    "l2.sort(reverse=True)\n",
    "print(l2)"
   ]
  },
  {
   "cell_type": "code",
   "execution_count": 34,
   "id": "628b835f-fab5-44be-a664-a1aa48bd3320",
   "metadata": {},
   "outputs": [
    {
     "data": {
      "text/plain": [
       "[60, 59, 58, 57, 56, 55, 54, 53, 52, 51, 50]"
      ]
     },
     "execution_count": 34,
     "metadata": {},
     "output_type": "execute_result"
    }
   ],
   "source": [
    "l1[59:48:-1]"
   ]
  },
  {
   "cell_type": "code",
   "execution_count": 35,
   "id": "d8cce82d-0ce4-4205-b028-9d39530fc037",
   "metadata": {},
   "outputs": [
    {
     "data": {
      "text/plain": [
       "[60, 59, 58, 57, 56, 55, 54, 53, 52, 51, 50]"
      ]
     },
     "execution_count": 35,
     "metadata": {},
     "output_type": "execute_result"
    }
   ],
   "source": [
    "l1[49:60][::-1]"
   ]
  },
  {
   "cell_type": "code",
   "execution_count": 36,
   "id": "c47d69f1-6100-4c2b-9b02-c6d5116b890d",
   "metadata": {},
   "outputs": [
    {
     "data": {
      "text/plain": [
       "[60, 59, 58, 57, 56, 55, 54, 53, 52, 51, 50]"
      ]
     },
     "execution_count": 36,
     "metadata": {},
     "output_type": "execute_result"
    }
   ],
   "source": [
    "l2 = l1[49:60]\n",
    "l2.reverse()\n",
    "l2"
   ]
  },
  {
   "cell_type": "markdown",
   "id": "230d0817-c32b-4448-9052-f2128240549e",
   "metadata": {},
   "source": [
    "### Create a list `l3` of odd integers from 1 to 21."
   ]
  },
  {
   "cell_type": "code",
   "execution_count": 37,
   "id": "9430ff99-acf8-4b08-b9c1-b568f95f7f5b",
   "metadata": {},
   "outputs": [
    {
     "data": {
      "text/plain": [
       "[1, 3, 5, 7, 9, 11, 13, 15, 17, 19, 21]"
      ]
     },
     "execution_count": 37,
     "metadata": {},
     "output_type": "execute_result"
    }
   ],
   "source": [
    "l3 = list(range(1, 22, 2))\n",
    "l3"
   ]
  },
  {
   "cell_type": "markdown",
   "id": "f1d41431-74bd-41c7-8e41-e14f7c4189fe",
   "metadata": {},
   "source": [
    "### Create a list `l4` of the squares of integers from 1 to 100."
   ]
  },
  {
   "cell_type": "code",
   "execution_count": 38,
   "id": "9d19765f-b649-4ac4-84cb-abe9bb550045",
   "metadata": {},
   "outputs": [
    {
     "name": "stdout",
     "output_type": "stream",
     "text": [
      "16 µs ± 91.2 ns per loop (mean ± std. dev. of 7 runs, 100000 loops each)\n"
     ]
    }
   ],
   "source": [
    "%%timeit\n",
    "l4 = []\n",
    "for i in range(1, 101):\n",
    "    l4.append(i**2)"
   ]
  },
  {
   "cell_type": "markdown",
   "id": "71854873-b4c5-4709-9b64-bf5d83483d76",
   "metadata": {},
   "source": [
    "A list comprehension is easier to write and read and considered \"more Pythonic\".\n",
    "Here is the pseudo code for a list comprehension:\n",
    "```\n",
    "[f(x) for x in some range if some condition]\n",
    "```"
   ]
  },
  {
   "cell_type": "code",
   "execution_count": 39,
   "id": "483700a8-0a06-4240-bbe6-d02efac6f42b",
   "metadata": {},
   "outputs": [
    {
     "name": "stdout",
     "output_type": "stream",
     "text": [
      "15.1 µs ± 24.8 ns per loop (mean ± std. dev. of 7 runs, 100000 loops each)\n"
     ]
    }
   ],
   "source": [
    "%%timeit\n",
    "l4 = [x**2 for x in range(1, 101)]"
   ]
  },
  {
   "cell_type": "markdown",
   "id": "d07ccc33-f6e6-4810-8dfc-5549efb30648",
   "metadata": {},
   "source": [
    "### Create a list `l5` that contains the squares of ***odd*** integers from 1 to 100."
   ]
  },
  {
   "cell_type": "code",
   "execution_count": 40,
   "id": "0ba1729a-abae-49c6-89a0-43e4998d381e",
   "metadata": {},
   "outputs": [
    {
     "name": "stdout",
     "output_type": "stream",
     "text": [
      "[1, 9, 25, 49, 81, 121, 169, 225, 289, 361, 441, 529, 625, 729, 841, 961, 1089, 1225, 1369, 1521, 1681, 1849, 2025, 2209, 2401, 2601, 2809, 3025, 3249, 3481, 3721, 3969, 4225, 4489, 4761, 5041, 5329, 5625, 5929, 6241, 6561, 6889, 7225, 7569, 7921, 8281, 8649, 9025, 9409, 9801]\n"
     ]
    }
   ],
   "source": [
    "l5 = [x**2 for x in range(1, 101, 2)]\n",
    "print(l5)"
   ]
  },
  {
   "cell_type": "markdown",
   "id": "123f3102-9242-40f9-aa1e-b509d1514bb9",
   "metadata": {},
   "source": [
    "Here is a less efficient solution that uses the `if some condition` part of list comprehensions:"
   ]
  },
  {
   "cell_type": "code",
   "execution_count": 41,
   "id": "18613404-7dcd-4b12-91a7-899c13d1693a",
   "metadata": {},
   "outputs": [
    {
     "name": "stdout",
     "output_type": "stream",
     "text": [
      "[1, 9, 25, 49, 81, 121, 169, 225, 289, 361, 441, 529, 625, 729, 841, 961, 1089, 1225, 1369, 1521, 1681, 1849, 2025, 2209, 2401, 2601, 2809, 3025, 3249, 3481, 3721, 3969, 4225, 4489, 4761, 5041, 5329, 5625, 5929, 6241, 6561, 6889, 7225, 7569, 7921, 8281, 8649, 9025, 9409, 9801]\n"
     ]
    }
   ],
   "source": [
    "print([x**2 for x in range(1, 101) if x%2 != 0])"
   ]
  },
  {
   "cell_type": "markdown",
   "id": "c7ec67de-3972-42ce-873f-40a7aaa57442",
   "metadata": {},
   "source": [
    "### Use a lambda function to sort `strings` by the last letter."
   ]
  },
  {
   "cell_type": "code",
   "execution_count": 42,
   "id": "7faff1c8-e416-4175-bcf9-e26c014e9c78",
   "metadata": {},
   "outputs": [],
   "source": [
    "strings = ['card', 'aaaa', 'foo', 'bar', 'abab']"
   ]
  },
  {
   "cell_type": "code",
   "execution_count": 43,
   "id": "33579872-7f6f-460e-a9a0-27e476a290f9",
   "metadata": {},
   "outputs": [],
   "source": [
    "strings.sort(key=lambda x: x[-1])"
   ]
  },
  {
   "cell_type": "code",
   "execution_count": 44,
   "id": "08cb6698-5eae-4042-b41d-c65998af0e6b",
   "metadata": {},
   "outputs": [
    {
     "data": {
      "text/plain": [
       "['aaaa', 'abab', 'card', 'foo', 'bar']"
      ]
     },
     "execution_count": 44,
     "metadata": {},
     "output_type": "execute_result"
    }
   ],
   "source": [
    "strings"
   ]
  },
  {
   "cell_type": "markdown",
   "id": "be7c1b1a-b6d9-4e3a-9c6a-24f7cd74a358",
   "metadata": {},
   "source": [
    "### Given an integer array `nums` and an integer `k`, return the $k^{th}$ largest element in the array."
   ]
  },
  {
   "cell_type": "markdown",
   "id": "18a32df2-94dc-4b2c-8efa-c108d23a105e",
   "metadata": {},
   "source": [
    "Note that it is the $k^{th}$ largest element in the sorted order, not the $k^{th}$ distinct element.\n",
    "\n",
    "Example 1:\n",
    "\n",
    "Input: `nums = [3,2,1,5,6,4]`, `k = 2` \\\n",
    "Output: `5`\n",
    "\n",
    "Example 2:\n",
    "\n",
    "Input: `nums = [3,2,3,1,2,4,5,5,6]`, `k = 4` \\\n",
    "Output: `4`\n",
    "\n",
    "I saw this question on [LeetCode](https://leetcode.com/problems/kth-largest-element-in-an-array/)."
   ]
  },
  {
   "cell_type": "code",
   "execution_count": 45,
   "id": "2d980516-d90e-4fa3-9291-6510fd5b86b6",
   "metadata": {},
   "outputs": [],
   "source": [
    "def nums(x, k):\n",
    "    x_copy = x.copy()\n",
    "    x_copy.sort()\n",
    "    return x_copy[-k]"
   ]
  },
  {
   "cell_type": "code",
   "execution_count": 46,
   "id": "c00941a1-e1ee-4711-83de-ef1ed1a67e17",
   "metadata": {},
   "outputs": [
    {
     "data": {
      "text/plain": [
       "5"
      ]
     },
     "execution_count": 46,
     "metadata": {},
     "output_type": "execute_result"
    }
   ],
   "source": [
    "nums(x=[3,2,1,5,6,4], k=2)"
   ]
  },
  {
   "cell_type": "markdown",
   "id": "75968758-9210-4f4e-a129-c0a627e98cdc",
   "metadata": {},
   "source": [
    "### Given an integer array `nums` and an integer `k`, return the `k` most frequent elements. "
   ]
  },
  {
   "cell_type": "markdown",
   "id": "f16ea5ed-5667-401e-855f-bce485671316",
   "metadata": {},
   "source": [
    "You may return the answer in any order.\n",
    "\n",
    "Example 1:\n",
    "\n",
    "Input: `nums = [1,1,1,2,2,3]`, `k = 2` \\\n",
    "Output: `[1,2]`\n",
    "\n",
    "Example 2:\n",
    "\n",
    "Input: `nums = [1]`, `k = 1` \\\n",
    "Output: `[1]`\n",
    "\n",
    "I saw this question on [LeetCode](https://leetcode.com/problems/top-k-frequent-elements/)."
   ]
  },
  {
   "cell_type": "code",
   "execution_count": 47,
   "id": "023ccdb1-9cc6-4c73-a56e-6f3b0f2b1d70",
   "metadata": {},
   "outputs": [],
   "source": [
    "def nums(nums, k):\n",
    "    counts = {}\n",
    "    for n in nums:\n",
    "        if n in counts:\n",
    "            counts[n] += 1\n",
    "        else:\n",
    "            counts[n] = 1\n",
    "    return [x[0] for x in sorted(counts.items(), key=lambda x: x[1], reverse=True)[:k]]\n"
   ]
  },
  {
   "cell_type": "code",
   "execution_count": 48,
   "id": "523c0bf2-39f6-4f09-ac78-f5fa615ada2d",
   "metadata": {},
   "outputs": [
    {
     "data": {
      "text/plain": [
       "[1, 2]"
      ]
     },
     "execution_count": 48,
     "metadata": {},
     "output_type": "execute_result"
    }
   ],
   "source": [
    "nums(nums=[1,1,1,2,2,3], k=2)"
   ]
  },
  {
   "cell_type": "markdown",
   "id": "bfe49bc1-ac88-4f40-81da-50bc48847e19",
   "metadata": {},
   "source": [
    "### Test whether the given strings are palindromes."
   ]
  },
  {
   "cell_type": "markdown",
   "id": "b4cd9be1-9f78-417b-ba8d-fedd1d2c6605",
   "metadata": {},
   "source": [
    "Input: `[\"aba\", \"no\"]` \\\n",
    "Output: `[True, False]`"
   ]
  },
  {
   "cell_type": "code",
   "execution_count": 49,
   "id": "8580eb8e-5148-4568-9c4b-0b48b9d960dc",
   "metadata": {},
   "outputs": [],
   "source": [
    "def is_palindrome(x):\n",
    "    return [list(y) == list(y)[::-1] for y in x]"
   ]
  },
  {
   "cell_type": "code",
   "execution_count": 50,
   "id": "a3140bfc-e667-4ea1-bc39-4106ae5feab3",
   "metadata": {},
   "outputs": [
    {
     "data": {
      "text/plain": [
       "[True, False]"
      ]
     },
     "execution_count": 50,
     "metadata": {},
     "output_type": "execute_result"
    }
   ],
   "source": [
    "is_palindrome([\"aba\", \"no\"])"
   ]
  },
  {
   "cell_type": "markdown",
   "id": "e999107f-269e-4f58-b64d-32c188ae2725",
   "metadata": {},
   "source": [
    "### Write a function `returns()` that accepts lists of prices and dividends and returns a list of returns."
   ]
  },
  {
   "cell_type": "code",
   "execution_count": 51,
   "id": "876346e1-ebea-41e4-a2e1-e9143b67b54b",
   "metadata": {},
   "outputs": [],
   "source": [
    "prices = [100, 150, 100, 50, 100, 150, 100, 150]\n",
    "dividends = [1, 1, 1, 1, 2, 2, 2, 2]"
   ]
  },
  {
   "cell_type": "code",
   "execution_count": 52,
   "id": "474f609a-4bd6-4687-8a53-ece890f63eaf",
   "metadata": {},
   "outputs": [],
   "source": [
    "def returns(p, d):\n",
    "    r = [None]\n",
    "    for t in range(1, len(p)):\n",
    "        pt = p[t]\n",
    "        ptm1 = p[t-1]\n",
    "        dt = d[t]\n",
    "        rt = (pt - ptm1 + dt) / ptm1\n",
    "        r.append(rt)\n",
    "        \n",
    "    return r"
   ]
  },
  {
   "cell_type": "code",
   "execution_count": 53,
   "id": "acff9c7d-a4da-48c2-8ad6-9d87b0527b25",
   "metadata": {},
   "outputs": [
    {
     "data": {
      "text/plain": [
       "[None, 0.51, -0.32666666666666666, -0.49, 1.04, 0.52, -0.32, 0.52]"
      ]
     },
     "execution_count": 53,
     "metadata": {},
     "output_type": "execute_result"
    }
   ],
   "source": [
    "returns(p=prices, d=dividends)"
   ]
  },
  {
   "cell_type": "markdown",
   "id": "59f6e878-8cb4-4bf8-8ff1-f883f8581a5d",
   "metadata": {},
   "source": [
    "### Rewrite the function `returns()` so it returns lists of returns, capital gains yields, and dividend yields."
   ]
  },
  {
   "cell_type": "code",
   "execution_count": 54,
   "id": "dc5dea53-9672-411f-bedb-dfc8601e16fe",
   "metadata": {},
   "outputs": [],
   "source": [
    "def returns(p, d):\n",
    "    r, cg, dy = [None], [None], [None]\n",
    "    for t in range(1, len(p)):\n",
    "        pt = p[t]\n",
    "        ptm1 = p[t-1]\n",
    "        dt = d[t]\n",
    "        cgt = (pt - ptm1) / ptm1\n",
    "        dyt = dt / ptm1\n",
    "        rt = cgt + dyt\n",
    "        r.append(rt)\n",
    "        cg.append(cgt)\n",
    "        dy.append(dyt)\n",
    "        \n",
    "    return {'r': r, 'cg': cg, 'dy': dy}"
   ]
  },
  {
   "cell_type": "code",
   "execution_count": 55,
   "id": "4f1a2fdd-3c2c-496c-a316-8b7f8c8d9f9a",
   "metadata": {},
   "outputs": [
    {
     "data": {
      "text/plain": [
       "{'r': [None, 0.51, -0.32666666666666666, -0.49, 1.04, 0.52, -0.32, 0.52],\n",
       " 'cg': [None,\n",
       "  0.5,\n",
       "  -0.3333333333333333,\n",
       "  -0.5,\n",
       "  1.0,\n",
       "  0.5,\n",
       "  -0.3333333333333333,\n",
       "  0.5],\n",
       " 'dy': [None,\n",
       "  0.01,\n",
       "  0.006666666666666667,\n",
       "  0.01,\n",
       "  0.04,\n",
       "  0.02,\n",
       "  0.013333333333333334,\n",
       "  0.02]}"
      ]
     },
     "execution_count": 55,
     "metadata": {},
     "output_type": "execute_result"
    }
   ],
   "source": [
    "returns(p=prices, d=dividends)"
   ]
  },
  {
   "cell_type": "markdown",
   "id": "7eb026c8-a42b-4eef-b237-57cade6897ed",
   "metadata": {},
   "source": [
    "### Rescale and shift numbers so that they cover the range `[0, 1]`."
   ]
  },
  {
   "cell_type": "markdown",
   "id": "3f9066f7-4cbc-4c51-b4d9-6fbb6c6305ab",
   "metadata": {},
   "source": [
    "Input: `[18.5, 17.0, 18.0, 19.0, 18.0]` \\\n",
    "Output: `[0.75, 0.0, 0.5, 1.0, 0.5]`"
   ]
  },
  {
   "cell_type": "code",
   "execution_count": 56,
   "id": "55b81d35-6504-448e-952f-2d15f2a4f94c",
   "metadata": {},
   "outputs": [],
   "source": [
    "numbers = [18.5, 17.0, 18.0, 19.0, 18.0]"
   ]
  },
  {
   "cell_type": "code",
   "execution_count": 57,
   "id": "e8ec21c1-113b-441b-b30d-a69e279adf5b",
   "metadata": {},
   "outputs": [],
   "source": [
    "def rescale(x):\n",
    "    x_min = min(x)\n",
    "    x_max = max(x)\n",
    "    return [(x - x_min) / (x_max - x_min) for x in x]"
   ]
  },
  {
   "cell_type": "code",
   "execution_count": 58,
   "id": "0bd67c9b-d781-426e-a14e-f3d8dbf6ebb5",
   "metadata": {},
   "outputs": [
    {
     "data": {
      "text/plain": [
       "[0.75, 0.0, 0.5, 1.0, 0.5]"
      ]
     },
     "execution_count": 58,
     "metadata": {},
     "output_type": "execute_result"
    }
   ],
   "source": [
    "rescale(numbers)"
   ]
  }
 ],
 "metadata": {
  "author": "Richard Herron",
  "kernelspec": {
   "display_name": "Python 3 (ipykernel)",
   "language": "python",
   "name": "python3"
  },
  "language_info": {
   "codemirror_mode": {
    "name": "ipython",
    "version": 3
   },
   "file_extension": ".py",
   "mimetype": "text/x-python",
   "name": "python",
   "nbconvert_exporter": "python",
   "pygments_lexer": "ipython3",
   "version": "3.9.13"
  },
  "title": "McKinney Chapter 3 - Practice"
 },
 "nbformat": 4,
 "nbformat_minor": 5
}
